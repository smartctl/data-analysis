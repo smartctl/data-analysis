{
 "cells": [
  {
   "cell_type": "markdown",
   "id": "0ecce114-a3bb-48ae-b914-9148a9347758",
   "metadata": {},
   "source": [
    "# Model Portability Analysis - Part 1\n",
    "This work is &copy; 2023 by [William Caban](https://www.linkedin.com/in/williamcaban/) and licensed under [CC BY-SA 4.0](http://creativecommons.org/licenses/by-sa/4.0/?ref=chooser-v1)<img style=\"height:22px!important;margin-left:3px;vertical-align:text-bottom;\" src=\"https://mirrors.creativecommons.org/presskit/icons/cc.svg?ref=chooser-v1\"><img style=\"height:22px!important;margin-left:3px;vertical-align:text-bottom;\" src=\"https://mirrors.creativecommons.org/presskit/icons/by.svg?ref=chooser-v1\"><img style=\"height:22px!important;margin-left:3px;vertical-align:text-bottom;\" src=\"https://mirrors.creativecommons.org/presskit/icons/sa.svg?ref=chooser-v1\"></a>\n",
    "\n",
    "---\n",
    "## Goals of the project\n",
    "\n",
    "Traditional AIOps approaches assume the environments over which they operate are homogeneous. Such systems expect the environment to have well-known applications where the combination and characteristics of the applications and the platform are known in advance. To achieve accuracy, traditional AIOps frameworks must be fine-tuned on customer-specific setups for each unique combination of platform and application workloads. The commercial AIOps ML models are a “black box” for the users, so there is no good information on how they operate. The requirement for fine-tuning each environment hints at some over-fitting technique.\n",
    "\n",
    "This notebook studies an approach for portable AIOps ML models for the Kubernetes platform. The theory is that with more emphasis on the feature engineering process, we can achieve portable AIOps ML models. For an experiment to study this, the approach is to use metrics from Prometheus sources in Kubernetes to test this hypothesis.\n",
    "\n",
    "Prometheus is a system for collecting metrics and generating alerts, which has become the de-facto standard tool for monitoring Kubernetes clusters. It maintains a multi-dimensional time series data model. Applying traditional machine learning methods to these time series metrics results in models that can be effective for the specific Kubernetes cluster as long as the attributes like memory per server, CPUs per server, density, and type of workloads, among others, are very close to identical.\n",
    "\n",
    "This analysis investigates methods for feature engineering and scaling to create Machine Learning models that can be easily moved between Kubernetes clusters. The focus is on developing the ability to train a model on one cluster and then use it on other clusters, even if those clusters have different characteristics such as varying numbers of nodes, nodes with different properties like CPU and memory, and various application profiles in their Pods.\n",
    "\n",
    "When successful, we should maintain a high accuracy of the ML model across two or more distinct clusters.\n",
    "\n",
    "Some of the questions that I should be able to answer at the end of this project are:\n",
    "- What is the most effective feature engineering technique to encode Prometheus metrics to create cluster-independent machine learning models?\n",
    "- What ML algorithms work best as “portable” ML models across clusters?\n",
    "- Feature scaling is not considered necessary with the Random Forest algorithm. How do the different feature engineering and feature scaling techniques used to improve the other algorithms impact the accuracy or performance of Random Forest for this use case?\n",
    "\n",
    "### Approach\n",
    "\n",
    "Capturing the datasets of the multi-nodes (mno) and (compact) clusters is done using the `metrics-collector` tool. The `data-analysis` tool consumes the resulting datasets for data wrangling, aggregation, and cleaning.\n",
    "\n",
    "For the analysis, the Jupyter Notebook uses the libraries from the `data-analysis` tool, and a custom ML class `CustomML` implemented in the `custom_ml.py` is used to maintain a cleaner Notebook.\n",
    "\n",
    "The feature definition is a YAML file with `promql` queries as follows:\n",
    "\n",
    "```yaml\n",
    "  \n",
    "- name: etcd_member_down_total\n",
    "  desc: total number of etcd members\n",
    "  expr: |\n",
    "    sum (\n",
    "          sum without (instance) (up{job=~\".*etcd.*\"} == bool 0)\n",
    "        or\n",
    "          count without (To) (\n",
    "            sum without (instance) (rate(etcd_network_peer_sent_failures_total{job=~\".*etcd.*\"}[120s])) > 0.01\n",
    "          )\n",
    "        )\n",
    "  type: scalar\n",
    "\n",
    "- name: etcd_failed_proposal\n",
    "  desc: number of proposal failures of etcd cluster\n",
    "  expr: sum by (pod) (rate(etcd_server_proposals_failed_total{job=~\".*etcd.*\"}[15m]))\n",
    "  type: scalar_per_attribute\n",
    "\n",
    "- name: etcd_fsync_duration\n",
    "  desc: 99th percentile fsync duration/disk latency. A high value indicates disk issues.\n",
    "  expr: sum by (instance) (histogram_quantile(0.99, rate(etcd_disk_wal_fsync_duration_seconds_bucket{job=~\".*etcd.*\"}[5m])))\n",
    "  type: scalar_per_attribute\n",
    "\n",
    "\n",
    "```\n",
    "The full list of [feature-definition](https://github.com/smartctl/metrics-collector/blob/main/querysets/ocp-platform/features-definition.yaml) is on the `metrics-collector` repo.\n",
    "\n",
    "\n",
    "The labels definitions follow a similar format, defining **boolean** attributes that will be used to impute the y_label of the observation. \n",
    "\n",
    "```yaml\n",
    "- name: yy_kubelet_healthstate_critical_fatal\n",
    "  expr: sum by (node)(max_over_time(mcd_kubelet_state[5m])) > bool 10\n",
    "  desc: Returns 1 if 10 or more kubelet health failures occur\n",
    "  type: boolean_per_node\n",
    "  label: red_fatal\n",
    "\n",
    "- name: yy_mem_used_gt_mem_reserved_95p\n",
    "  desc: Return 1 if system exceeds reservations\n",
    "  expr: |\n",
    "    (\n",
    "        sum by (node) (container_memory_rss{id=\"/system.slice\"}) \n",
    "    ) - ((\n",
    "        sum by (node) (kube_node_status_capacity{resource=\"memory\"} - kube_node_status_allocatable{resource=\"memory\"})\n",
    "    ) * 0.95) > bool 0\n",
    "  type: boolean_per_node\n",
    "  label: red\n",
    "\n",
    "- name: yy_mem_utilization_high\n",
    "  desc: Return 1 if node mem utilization above 60% over the past 5mins\n",
    "  expr: |\n",
    "    (\n",
    "          1 - ((sum(avg_over_time(kube_node_status_capacity{resource=\"memory\"}[5m])) by (node) \n",
    "          - sum(avg_over_time(kube_pod_container_resource_requests{resource=\"memory\"}[5m])) by (node))) \n",
    "          /  sum(avg_over_time(kube_node_status_capacity{resource=\"memory\"}[5m])) by (node) > bool .60\n",
    "    )\n",
    "  type: boolean_per_node\n",
    "  label: yellow\n",
    "```\n",
    "\n",
    "The full list of `yy_labels` or [labels-definitions](https://github.com/smartctl/metrics-collector/blob/main/querysets/ocp-platform/labels-definition.yaml) is on the `metrics-collector` repo.\n",
    "\n",
    "The function imputing the y_label is `impute_y_label` method in the `DataTransformation` class. \n",
    "\n",
    "Once the y_label is imputed, all columns used for the labels definitions are dropped from the clean table. The final y_label has the values \"green\", \"red\", \"yellow\" encoded as 1, 2, 3 respectively.\n",
    "\n",
    "\n",
    "### About the code\n",
    "\n",
    "The code of for this project is divided in multiple folders by functionality.\n",
    "\n",
    "```shell\n",
    ".\n",
    "├── data-analysis                   # contains the code for the analytics libraries created for this Jupyter Notebook\n",
    "│   ├── data\n",
    "│   │   ├── collection              # individual datasets of captures \n",
    "│   │   └── wrangle\n",
    "│   ├── main.py\n",
    "│   ├── mapping\n",
    "│   │   ├── labels-definition.yaml  # boolean promql queries for defining yy_labels (later combined to create y_label)\n",
    "│   │   └── mapping.yaml            # mapping of features to data types (dtypes)\n",
    "│   ├── README.md\n",
    "│   ├── requirements.txt\n",
    "│   └── src\n",
    "│       ├── config.py               # custom class to read yaml and handle logging\n",
    "│       ├── custom_ml.py            # custom class with functions for the analysis in this Jupyter Notebook\n",
    "│       ├── data_transformation.py  # library created to handle raw data transformation into clean dataset\n",
    "│       └── data_wrangling.py       # library to combine datasets into an aggregated dataset and impute y_label \n",
    "│\n",
    "├── metrics-collector               # contains the code created for collecting predefined metric\n",
    "│   ├── config-template.yaml\n",
    "│   ├── config.yaml-example\n",
    "│   ├── CREDITS.md                  # File with the Credits of sources of reused code and reference information\n",
    "│   ├── data                        # link to sample-datasets directory\n",
    "│   ├── generate-config.sh\n",
    "│   ├── main.py\n",
    "│   ├── manifests\n",
    "│   │   └── prometheus-api-token.yaml\n",
    "│   ├── querysets                   # contains the features definition and labels definitions yaml files\n",
    "│   │   └── ocp-platform\n",
    "│   ├── README.md\n",
    "│   ├── requirements.txt\n",
    "│   └── src\n",
    "│       ├── config.py\n",
    "│       ├── metrics_processor.py    # collect and preprocess Prometheus metrics for data analysis\n",
    "│       └── prometheus_api.py       # library to handle the interactions with Prometheus\n",
    "│\n",
    "├── promdata-offline                # utilities used for the load generation for the clusters\n",
    "│   ├── CONFIG\n",
    "│   ├── profiles\n",
    "│   │   ├── build.sh\n",
    "│   │   ├── Containerfile           # Container image for stress-ng for synthetic workload types simulations \n",
    "│   │   ├── kube-burner             # YAMLs generated by kube-burner execution on the various load profiles\n",
    "│   │   ├── manifests               # Kubernetes manifests for running the stress-ng workload simulations\n",
    "│   │   ├── README.md\n",
    "│   │   └── scripts                 # scripts defining the stress-ng workload simulations\n",
    "│   ├── README.md\n",
    "│   └── utils                       # scripts to download raw Prometheus databases for offline processing\n",
    "│       ├── CREDITS.md\n",
    "│       ├── dump-prometheus-4hrs.sh  \n",
    "│       ├── dump-prometheus-allhrs.sh\n",
    "│       ├── load-testing.sh         # script for the cluster load testing during data capture\n",
    "│       ├── metrics-4hrs\n",
    "│       ├── metrics-all\n",
    "│       └── README.md\n",
    "│\n",
    "└──sample-datasets                  # directory with raw captured data of the runs and the aggregated one\n",
    "    ├── collection\n",
    "    │   ├── aws-compact-fulltest.parquet\n",
    "    │   ├── aws-compact-upgrade.parquet\n",
    "    │   ├── aws-mno-fulltest.parquet\n",
    "    │   ├── lab-compact-fulltest.parquet\n",
    "    │   └── lab-mno-fulltest.parquet\n",
    "    └── wrangle\n",
    "        └── combined-all.parquet\n",
    "```\n",
    "\n",
    "### About the datasets\n",
    "The datasets are generated by querying Prometheus metrics from OpenShift clusters with different configurations. The combined datasets represent different combinations of workload types and cluster conditions.\n",
    "\n",
    "The core characteristics of the Kubernetes clusters used for this are\n",
    "\n",
    "| Cluster Type | Number of Nodes | Num. Control-Plane (CP) Nodes | Num. Non-CP Nodes |\n",
    "| ------------:|:---------------:|:-----------------------------:|:-----------------:|\n",
    "| compact      | 3               |  3                            | 0                 |\n",
    "| mno          | 6               |  3                            | 3                 | \n",
    "\n",
    "To generate the datasets, each cluster type was subject to multiple load generation tasks while using the metrics-collector tool for capturing the raw datasets. After the load generation tasks, the cluster was upgraded to capture additional conditions under which the cluster experiment a degraded state. The raw dataset was saved as a parquet formatted table.\n",
    "\n",
    "The datasets used for this analysis are the following:\n",
    "\n",
    "| Name                        | Cluster Type | Workload Type      |\n",
    "|:----------------------------| ------------ | ------------------ |\n",
    "| aws-compact-fulltest.parquet| compact      | [1][2][3][4][5][6] |\n",
    "| aws-compact-upgrade.parquet | compact      | [1][2][3][6]       |\n",
    "| aws-mno-fulltest.parquet    | mno          | [1][2][3][4][5][6] |\n",
    "| lab-compact-fulltest.parquet| compact      | [1][2][3][4][5][6] |\n",
    "| lab-mno-fulltest.parquet    | mno          | [1][2][3][4][5][6] |\n",
    "\n",
    "- [1] stress-ng with high cpu & high memory profile\n",
    "- [2] stress-ng with key-value store profile\n",
    "- [3] stress-ng with password-encryption profile\n",
    "- [4] kube-burner with node-density profile\n",
    "- [5] kube-burner with cluster-density-v2\n",
    "- [6] Online full cluster upgrade\n"
   ]
  },
  {
   "cell_type": "markdown",
   "id": "a51557c8-2898-4f4c-bead-adc878056653",
   "metadata": {},
   "source": [
    "## Section 1: Cleaning raw datasets"
   ]
  },
  {
   "cell_type": "code",
   "execution_count": 1,
   "id": "8995a534-1294-49c9-bf81-b31a8d70e05b",
   "metadata": {},
   "outputs": [],
   "source": [
    "# %reload_ext autoreload\n",
    "# %autoreload 2\n",
    "\n",
    "import pandas as pd\n",
    "import re, os, sys\n",
    "import logging\n",
    "import importlib\n",
    "import pprint\n",
    "\n",
    "# Need to chdir to parent due to notebook folder in repo\n",
    "os.chdir(os.path.dirname(os.getcwd()))\n",
    "\n",
    "# import custom classes\n",
    "from src.config import Config\n",
    "from src.data_wrangling import DataWrangle\n",
    "from src.data_transformation import DataTransformation\n",
    "\n",
    "os.environ['LOG_LEVEL']='INFO'"
   ]
  },
  {
   "cell_type": "code",
   "execution_count": 2,
   "id": "245c2743-7378-4fbd-8b50-5d7ca2eb4cf7",
   "metadata": {},
   "outputs": [
    {
     "name": "stderr",
     "output_type": "stream",
     "text": [
      "2023-09-04 09:42:47,113 [INFO] Successfully loaded the config YAML file.\n",
      "2023-09-04 09:42:47,149 [INFO] Successfully loaded the y-map YAML file.\n"
     ]
    },
    {
     "name": "stdout",
     "output_type": "stream",
     "text": [
      "\n",
      "        #######################################################################################################\n",
      "            For controlling verbosity of messages set LOG_LEVEL environment variable (e.g., INFO, DEBUG)\n",
      "        #######################################################################################################\n",
      "        \n"
     ]
    }
   ],
   "source": [
    "# Load the general mapping for features datatypes and attributes for y_labels definition\n",
    "global_config = Config(\n",
    "    config_file=\"mapping/mapping.yaml\", \n",
    "    y_map_file=\"mapping/labels-definition.yaml\"\n",
    ")\n",
    "\n",
    "# Using custom utility class for manipulation of the dataframes\n",
    "data_wrangler=DataWrangle(mapping_set=global_config.config, \n",
    "                          y_map_set=global_config.y_map, \n",
    "                          logger=global_config.logger)"
   ]
  },
  {
   "cell_type": "code",
   "execution_count": 3,
   "id": "3a4195d9-ac25-4e3a-b2c9-e54a882e5e5c",
   "metadata": {},
   "outputs": [
    {
     "data": {
      "text/html": [
       "<div>\n",
       "<style scoped>\n",
       "    .dataframe tbody tr th:only-of-type {\n",
       "        vertical-align: middle;\n",
       "    }\n",
       "\n",
       "    .dataframe tbody tr th {\n",
       "        vertical-align: top;\n",
       "    }\n",
       "\n",
       "    .dataframe thead th {\n",
       "        text-align: right;\n",
       "    }\n",
       "</style>\n",
       "<table border=\"1\" class=\"dataframe\">\n",
       "  <thead>\n",
       "    <tr style=\"text-align: right;\">\n",
       "      <th></th>\n",
       "      <th>run_id</th>\n",
       "      <th>node1_control_plane</th>\n",
       "      <th>node1_master</th>\n",
       "      <th>node1_worker</th>\n",
       "      <th>node2_control_plane</th>\n",
       "      <th>node2_master</th>\n",
       "      <th>node2_worker</th>\n",
       "      <th>node3_control_plane</th>\n",
       "      <th>node3_master</th>\n",
       "      <th>node3_worker</th>\n",
       "      <th>...</th>\n",
       "      <th>node4_node_pod_15_to_20mbps</th>\n",
       "      <th>node4_node_pod_10_to_15mbps</th>\n",
       "      <th>node5_nvme1n1</th>\n",
       "      <th>node6_node_pod_15_to_20mbps</th>\n",
       "      <th>node6_node_pod_20_to_30mbps</th>\n",
       "      <th>node4_node_pod_30_to_50mbps</th>\n",
       "      <th>node5_node_pod_10_to_15mbps</th>\n",
       "      <th>node5_exec</th>\n",
       "      <th>node4_exec</th>\n",
       "      <th>node6_exec</th>\n",
       "    </tr>\n",
       "  </thead>\n",
       "  <tbody>\n",
       "    <tr>\n",
       "      <th>0</th>\n",
       "      <td>2023-08-12 14:48:27</td>\n",
       "      <td>True</td>\n",
       "      <td>True</td>\n",
       "      <td>True</td>\n",
       "      <td>True</td>\n",
       "      <td>True</td>\n",
       "      <td>True</td>\n",
       "      <td>True</td>\n",
       "      <td>True</td>\n",
       "      <td>True</td>\n",
       "      <td>...</td>\n",
       "      <td>False</td>\n",
       "      <td>False</td>\n",
       "      <td>0.0</td>\n",
       "      <td>False</td>\n",
       "      <td>False</td>\n",
       "      <td>False</td>\n",
       "      <td>False</td>\n",
       "      <td>False</td>\n",
       "      <td>False</td>\n",
       "      <td>False</td>\n",
       "    </tr>\n",
       "    <tr>\n",
       "      <th>1</th>\n",
       "      <td>2023-08-12 14:48:27</td>\n",
       "      <td>True</td>\n",
       "      <td>True</td>\n",
       "      <td>True</td>\n",
       "      <td>True</td>\n",
       "      <td>True</td>\n",
       "      <td>True</td>\n",
       "      <td>True</td>\n",
       "      <td>True</td>\n",
       "      <td>True</td>\n",
       "      <td>...</td>\n",
       "      <td>False</td>\n",
       "      <td>False</td>\n",
       "      <td>0.0</td>\n",
       "      <td>False</td>\n",
       "      <td>False</td>\n",
       "      <td>False</td>\n",
       "      <td>False</td>\n",
       "      <td>False</td>\n",
       "      <td>False</td>\n",
       "      <td>False</td>\n",
       "    </tr>\n",
       "    <tr>\n",
       "      <th>2</th>\n",
       "      <td>2023-08-12 14:48:27</td>\n",
       "      <td>True</td>\n",
       "      <td>True</td>\n",
       "      <td>True</td>\n",
       "      <td>True</td>\n",
       "      <td>True</td>\n",
       "      <td>True</td>\n",
       "      <td>True</td>\n",
       "      <td>True</td>\n",
       "      <td>True</td>\n",
       "      <td>...</td>\n",
       "      <td>False</td>\n",
       "      <td>False</td>\n",
       "      <td>0.0</td>\n",
       "      <td>False</td>\n",
       "      <td>False</td>\n",
       "      <td>False</td>\n",
       "      <td>False</td>\n",
       "      <td>False</td>\n",
       "      <td>False</td>\n",
       "      <td>False</td>\n",
       "    </tr>\n",
       "  </tbody>\n",
       "</table>\n",
       "<p>3 rows × 586 columns</p>\n",
       "</div>"
      ],
      "text/plain": [
       "               run_id  node1_control_plane  node1_master  node1_worker  \\\n",
       "0 2023-08-12 14:48:27                 True          True          True   \n",
       "1 2023-08-12 14:48:27                 True          True          True   \n",
       "2 2023-08-12 14:48:27                 True          True          True   \n",
       "\n",
       "   node2_control_plane  node2_master  node2_worker  node3_control_plane  \\\n",
       "0                 True          True          True                 True   \n",
       "1                 True          True          True                 True   \n",
       "2                 True          True          True                 True   \n",
       "\n",
       "   node3_master  node3_worker  ...  node4_node_pod_15_to_20mbps  \\\n",
       "0          True          True  ...                        False   \n",
       "1          True          True  ...                        False   \n",
       "2          True          True  ...                        False   \n",
       "\n",
       "   node4_node_pod_10_to_15mbps  node5_nvme1n1  node6_node_pod_15_to_20mbps  \\\n",
       "0                        False            0.0                        False   \n",
       "1                        False            0.0                        False   \n",
       "2                        False            0.0                        False   \n",
       "\n",
       "   node6_node_pod_20_to_30mbps  node4_node_pod_30_to_50mbps  \\\n",
       "0                        False                        False   \n",
       "1                        False                        False   \n",
       "2                        False                        False   \n",
       "\n",
       "   node5_node_pod_10_to_15mbps  node5_exec  node4_exec  node6_exec  \n",
       "0                        False       False       False       False  \n",
       "1                        False       False       False       False  \n",
       "2                        False       False       False       False  \n",
       "\n",
       "[3 rows x 586 columns]"
      ]
     },
     "execution_count": 3,
     "metadata": {},
     "output_type": "execute_result"
    }
   ],
   "source": [
    "# Load dataset\n",
    "fname_combined=\"data/wrangle/combined-all.parquet\"\n",
    "data_wrangler.load_dataset(fname_combined)\n",
    "\n",
    "# Getting a local copy of the dataframe for\n",
    "# testing without affecting the original one\n",
    "df_raw=data_wrangler.df.copy()\n",
    "df_raw[:3]"
   ]
  },
  {
   "cell_type": "code",
   "execution_count": 4,
   "id": "90bfd21b-49c5-4639-a410-17352c04781b",
   "metadata": {},
   "outputs": [
    {
     "data": {
      "text/plain": [
       "(3504, 586)"
      ]
     },
     "execution_count": 4,
     "metadata": {},
     "output_type": "execute_result"
    }
   ],
   "source": [
    "# Shape of raw dataset\n",
    "df_raw.shape"
   ]
  },
  {
   "cell_type": "code",
   "execution_count": 5,
   "id": "6916337c-61cb-431f-9efb-acec75f50cb7",
   "metadata": {},
   "outputs": [
    {
     "name": "stderr",
     "output_type": "stream",
     "text": [
      "2023-09-04 09:42:47,904 [WARNING] [impute_y_label] Known issue. Requires optimization for performance.\n",
      "2023-09-04 09:42:47,904 [WARNING] [impute_y_label] Known issue. Requires optimization for performance.\n"
     ]
    },
    {
     "data": {
      "text/plain": [
       "(3504, 590)"
      ]
     },
     "execution_count": 5,
     "metadata": {},
     "output_type": "execute_result"
    }
   ],
   "source": [
    "# Instantiate custom utility class for data transformation\n",
    "# need to supply the attributes for y_labels definition \n",
    "dt_util = DataTransformation(\n",
    "    y_label_yellow=data_wrangler.y_label_yellow,\n",
    "    y_label_red=data_wrangler.y_label_red,\n",
    "    y_label_red_fatal=data_wrangler.y_label_red_fatal\n",
    ")\n",
    "\n",
    "# derive y_labels for dataset using custom thresholds\n",
    "# (thresholds yellow=2% red=1% red(fatal_red)=0%)\n",
    "dt_util.impute_y_label(df_raw,label_weight=[0.02,0.01,0])\n",
    "df_raw.shape"
   ]
  },
  {
   "cell_type": "code",
   "execution_count": 6,
   "id": "373111c0-29f2-4598-b5cb-5e2681bf6378",
   "metadata": {},
   "outputs": [
    {
     "name": "stdout",
     "output_type": "stream",
     "text": [
      "----\n",
      "By y_label:\n",
      " y_label\n",
      "green     2079\n",
      "red       1246\n",
      "yellow     179\n",
      "Name: y_label, dtype: int64\n",
      "\n",
      "----\n",
      "By source by y_label:\n",
      " source                        y_label\n",
      "aws-compact-fulltest.parquet  green       230\n",
      "                              red         987\n",
      "aws-compact-upgrade.parquet   green       231\n",
      "                              red          84\n",
      "aws-mno-fulltest.parquet      green       225\n",
      "                              red          12\n",
      "                              yellow        1\n",
      "lab-compact-fulltest.parquet  green      1021\n",
      "                              red         143\n",
      "                              yellow      178\n",
      "lab-mno-fulltest.parquet      green       372\n",
      "                              red          20\n",
      "Name: source, dtype: int64\n"
     ]
    }
   ],
   "source": [
    "# study the y_label as coming from raw datasets\n",
    "dt_util.y_by_group(df_raw)"
   ]
  },
  {
   "cell_type": "code",
   "execution_count": 7,
   "id": "12d58894-763b-4592-8640-858f90306af9",
   "metadata": {},
   "outputs": [
    {
     "name": "stdout",
     "output_type": "stream",
     "text": [
      "----\n",
      "By y_label:\n",
      " y_label\n",
      "green     2079\n",
      "red       1246\n",
      "yellow     179\n",
      "Name: y_label, dtype: int64\n",
      "\n",
      "----\n",
      "By source by y_label:\n",
      " source   y_label\n",
      "compact  green      1482\n",
      "         red        1214\n",
      "         yellow      178\n",
      "mno      green       597\n",
      "         red          32\n",
      "         yellow        1\n",
      "Name: source, dtype: int64\n"
     ]
    }
   ],
   "source": [
    "# Aggregate datasets by cluster type\n",
    "# (only modifying the `source` column)\n",
    "dt_util.normalize_sources(df_raw)\n",
    "\n",
    "# show new aggregated results\n",
    "dt_util.y_by_group(df_raw)"
   ]
  },
  {
   "cell_type": "code",
   "execution_count": 8,
   "id": "ecaf157d-70f3-43d0-9db5-078d56daaa70",
   "metadata": {},
   "outputs": [
    {
     "data": {
      "text/plain": [
       "(2413, 468)"
      ]
     },
     "execution_count": 8,
     "metadata": {},
     "output_type": "execute_result"
    }
   ],
   "source": [
    "# drop unnecesary columns and remove duplicated rows\n",
    "# get a clean dataset\n",
    "df_clean=dt_util.get_clean_dataset(df_raw)\n",
    "\n",
    "# shape of clean dataset\n",
    "df_clean.shape"
   ]
  },
  {
   "cell_type": "code",
   "execution_count": 9,
   "id": "5ad7c641-fe45-4af0-95db-f6e8d50507d9",
   "metadata": {},
   "outputs": [
    {
     "name": "stdout",
     "output_type": "stream",
     "text": [
      "----\n",
      "By y_label:\n",
      " y_label\n",
      "green     2079\n",
      "red        155\n",
      "yellow     179\n",
      "Name: y_label, dtype: int64\n",
      "\n",
      "----\n",
      "By source by y_label:\n",
      " source   y_label\n",
      "compact  green      1482\n",
      "         red         140\n",
      "         yellow      178\n",
      "mno      green       597\n",
      "         red          15\n",
      "         yellow        1\n",
      "Name: source, dtype: int64\n"
     ]
    }
   ],
   "source": [
    "# show aggregate of cleaan dataset\n",
    "dt_util.y_by_group(df_clean)"
   ]
  },
  {
   "cell_type": "code",
   "execution_count": 10,
   "id": "a706dad6-697c-4b56-814d-e0b37178f3af",
   "metadata": {},
   "outputs": [
    {
     "data": {
      "text/plain": [
       "['node1_control_plane',\n",
       " 'node1_worker',\n",
       " 'node2_control_plane',\n",
       " 'node2_worker',\n",
       " 'node3_control_plane',\n",
       " 'node3_worker',\n",
       " 'node1_nodes_roles_per_node',\n",
       " 'node2_nodes_roles_per_node',\n",
       " 'node3_nodes_roles_per_node',\n",
       " 'total_qty_nodes',\n",
       " 'total_qty_control_plane',\n",
       " 'total_qty_workers',\n",
       " 'cluster_magic_split',\n",
       " 'total_nodes_ready',\n",
       " 'total_nodes_notready',\n",
       " 'total_nodes_unknown',\n",
       " 'total_nodes_diskpressure',\n",
       " 'total_node_memorypressure',\n",
       " 'total_node_pidpressure',\n",
       " 'node1_node_status_ready',\n",
       " 'node2_node_status_ready',\n",
       " 'node3_node_status_ready',\n",
       " 'node1_node_status_diskpressure',\n",
       " 'node2_node_status_diskpressure',\n",
       " 'node3_node_status_diskpressure',\n",
       " 'node1_node_status_memorypressure',\n",
       " 'node2_node_status_memorypressure',\n",
       " 'node3_node_status_memorypressure',\n",
       " 'node1_node_status_pidpressure',\n",
       " 'node2_node_status_pidpressure',\n",
       " 'node3_node_status_pidpressure',\n",
       " 'node1_node_load1',\n",
       " 'node2_node_load1',\n",
       " 'node3_node_load1',\n",
       " 'node1_node_load5',\n",
       " 'node2_node_load5',\n",
       " 'node3_node_load5',\n",
       " 'node1_node_load15',\n",
       " 'node2_node_load15',\n",
       " 'node3_node_load15',\n",
       " 'node2_node_pod_qos_mem_burstable',\n",
       " 'node3_node_pod_qos_mem_burstable',\n",
       " 'node1_node_pod_qos_mem_burstable',\n",
       " 'node2_node_pod_qos_qty_burstable',\n",
       " 'node3_node_pod_qos_qty_burstable',\n",
       " 'node1_node_pod_qos_qty_burstable',\n",
       " 'node2_node_pod_qos_cpu_burstable',\n",
       " 'node3_node_pod_qos_cpu_burstable',\n",
       " 'node1_node_pod_qos_cpu_burstable',\n",
       " 'node1_cpu',\n",
       " 'node1_ephemeral_storage',\n",
       " 'node1_hugepages_1Gi',\n",
       " 'node1_hugepages_2Mi',\n",
       " 'node1_memory',\n",
       " 'node1_pods',\n",
       " 'node2_cpu',\n",
       " 'node2_ephemeral_storage',\n",
       " 'node2_hugepages_1Gi',\n",
       " 'node2_hugepages_2Mi',\n",
       " 'node2_memory',\n",
       " 'node2_pods',\n",
       " 'node3_cpu',\n",
       " 'node3_ephemeral_storage',\n",
       " 'node3_hugepages_1Gi',\n",
       " 'node3_hugepages_2Mi',\n",
       " 'node3_memory',\n",
       " 'node3_pods',\n",
       " 'node2_node_pod_container_resource_requests_cpu',\n",
       " 'node3_node_pod_container_resource_requests_cpu',\n",
       " 'node1_node_pod_container_resource_requests_cpu',\n",
       " 'node2_node_pod_container_resource_requests_memory',\n",
       " 'node3_node_pod_container_resource_requests_memory',\n",
       " 'node1_node_pod_container_resource_requests_memory',\n",
       " 'node1_node_pod_container_resource_limit_cpu',\n",
       " 'node2_node_pod_container_resource_limit_cpu',\n",
       " 'node3_node_pod_container_resource_limit_cpu',\n",
       " 'node1_node_pod_total',\n",
       " 'node2_node_pod_total',\n",
       " 'node3_node_pod_total',\n",
       " 'node1_node_container_total',\n",
       " 'node2_node_container_total',\n",
       " 'node3_node_container_total',\n",
       " 'node1_node_capacity_cpu',\n",
       " 'node2_node_capacity_cpu',\n",
       " 'node3_node_capacity_cpu',\n",
       " 'node1_node_capacity_memory',\n",
       " 'node2_node_capacity_memory',\n",
       " 'node3_node_capacity_memory',\n",
       " 'node1_node_capacity_pods',\n",
       " 'node2_node_capacity_pods',\n",
       " 'node3_node_capacity_pods',\n",
       " 'node1_node_capacity_ephemeral_storage',\n",
       " 'node2_node_capacity_ephemeral_storage',\n",
       " 'node3_node_capacity_ephemeral_storage',\n",
       " 'node1_node_capacity_hugepages_1Gi',\n",
       " 'node2_node_capacity_hugepages_1Gi',\n",
       " 'node3_node_capacity_hugepages_1Gi',\n",
       " 'node1_node_capacity_hugepages_2Mi',\n",
       " 'node2_node_capacity_hugepages_2Mi',\n",
       " 'node3_node_capacity_hugepages_2Mi',\n",
       " 'node_overcommit_cpu_bool',\n",
       " 'node_overcommit_memory',\n",
       " 'node1_node_cpu_utilization_p',\n",
       " 'node2_node_cpu_utilization_p',\n",
       " 'node3_node_cpu_utilization_p',\n",
       " 'node1_node_memory_utilization_p',\n",
       " 'node2_node_memory_utilization_p',\n",
       " 'node3_node_memory_utilization_p',\n",
       " 'node1_node_pod_system_cluster_critical',\n",
       " 'node2_node_pod_system_cluster_critical',\n",
       " 'node3_node_pod_system_cluster_critical',\n",
       " 'node1_node_pod_system_node_critical',\n",
       " 'node2_node_pod_system_node_critical',\n",
       " 'node3_node_pod_system_node_critical',\n",
       " 'node1_node_pod_openshift_user_critical',\n",
       " 'node2_node_pod_openshift_user_critical',\n",
       " 'node3_node_pod_openshift_user_critical',\n",
       " 'node1_kubelet_health_failures',\n",
       " 'node2_kubelet_health_failures',\n",
       " 'node3_kubelet_health_failures',\n",
       " 'node3_create_container',\n",
       " 'node3_podsandbox_status',\n",
       " 'node3_pull_image',\n",
       " 'node1_exec_sync',\n",
       " 'node1_list_images',\n",
       " 'node1_pull_image',\n",
       " 'node2_exec_sync',\n",
       " 'node2_podsandbox_status',\n",
       " 'node3_status',\n",
       " 'node3_stop_podsandbox',\n",
       " 'node3_remove_podsandbox',\n",
       " 'node3_start_container',\n",
       " 'node1_run_podsandbox',\n",
       " 'node1_status',\n",
       " 'node2_list_containers',\n",
       " 'node2_list_podsandbox',\n",
       " 'node1_podsandbox_status',\n",
       " 'node1_remove_container',\n",
       " 'node1_stop_container',\n",
       " 'node3_container_status',\n",
       " 'node3_image_status',\n",
       " 'node3_exec_sync',\n",
       " 'node3_stop_container',\n",
       " 'node1_image_status',\n",
       " 'node1_stop_podsandbox',\n",
       " 'node2_container_status',\n",
       " 'node2_remove_container',\n",
       " 'node2_remove_podsandbox',\n",
       " 'node2_status',\n",
       " 'node2_stop_container',\n",
       " 'node2_stop_podsandbox',\n",
       " 'node1_container_status',\n",
       " 'node1_list_containers',\n",
       " 'node1_list_podsandbox',\n",
       " 'node2_run_podsandbox',\n",
       " 'node2_start_container',\n",
       " 'node3_remove_container',\n",
       " 'node3_run_podsandbox',\n",
       " 'node2_create_container',\n",
       " 'node2_image_status',\n",
       " 'node2_pull_image',\n",
       " 'node1_create_container',\n",
       " 'node1_start_container',\n",
       " 'node2_list_images',\n",
       " 'node3_list_images',\n",
       " 'node1_remove_podsandbox',\n",
       " 'node3_list_containers',\n",
       " 'node3_list_podsandbox',\n",
       " 'node1_default',\n",
       " 'node2_default',\n",
       " 'node3_default',\n",
       " 'node1_node_uptime',\n",
       " 'node2_node_uptime',\n",
       " 'node3_node_uptime',\n",
       " 'node1_total_node_net_receive_bytes',\n",
       " 'node2_total_node_net_receive_bytes',\n",
       " 'node3_total_node_net_receive_bytes',\n",
       " 'node1_total_node_net_transmit_bytes',\n",
       " 'node2_total_node_net_transmit_bytes',\n",
       " 'node3_total_node_net_transmit_bytes',\n",
       " 'apiserver_errors',\n",
       " 'apiserver_latency_resource',\n",
       " 'apiserver_latency_cluster',\n",
       " 'apiserver_requests_duration_seconds_GET',\n",
       " 'apiserver_requests_duration_seconds_PUT',\n",
       " 'apiserver_requests_duration_seconds_APPLY',\n",
       " 'apiserver_requests_duration_seconds_DELETE',\n",
       " 'apiserver_requests_duration_seconds_PATCH',\n",
       " 'apiserver_requests_duration_seconds_POST',\n",
       " 'apiserver_requests_duration_seconds_LIST',\n",
       " 'node2_apiserver_memory_usage',\n",
       " 'node3_apiserver_memory_usage',\n",
       " 'node1_apiserver_memory_usage',\n",
       " 'node1_openshift_apiserver_memory_usage',\n",
       " 'node3_openshift_apiserver_memory_usage',\n",
       " 'node2_openshift_apiserver_memory_usage',\n",
       " 'apiserver_max_inflight_requests_kube_apiserver',\n",
       " 'apiserver_max_inflight_requests_openshift_apiserver',\n",
       " 'apiserver_request_read_total',\n",
       " 'apiserver_request_write_total',\n",
       " 'cluster_pod_total',\n",
       " 'cluster_namespace_total',\n",
       " 'cluster_control_plane_utilization',\n",
       " 'etcd_member_active',\n",
       " 'etcd_has_quorum',\n",
       " 'node1_etcd_db_size_bytes',\n",
       " 'node2_etcd_db_size_bytes',\n",
       " 'node3_etcd_db_size_bytes',\n",
       " 'node1_etcd_db_use_bytes',\n",
       " 'node2_etcd_db_use_bytes',\n",
       " 'node3_etcd_db_use_bytes',\n",
       " 'node1_etcd_object_counts',\n",
       " 'node2_etcd_object_counts',\n",
       " 'node3_etcd_object_counts',\n",
       " 'node1_etcd_network_peer_rtt',\n",
       " 'node2_etcd_network_peer_rtt',\n",
       " 'node3_etcd_network_peer_rtt',\n",
       " 'etcd_member_down_total',\n",
       " 'node1_etcd_failed_proposal',\n",
       " 'node2_etcd_failed_proposal',\n",
       " 'node3_etcd_failed_proposal',\n",
       " 'node3_etcd_fsync_duration',\n",
       " 'node1_etcd_fsync_duration',\n",
       " 'node2_etcd_fsync_duration',\n",
       " 'etcd_qty_grpc_requests_slow',\n",
       " 'etcd_high_failed_grpc_requests',\n",
       " 'etcd_number_leader_changes',\n",
       " 'workqueue_queue_waiting_time_total',\n",
       " 'workqueue_queue_work_time_total',\n",
       " 'workqueue_retries_rate',\n",
       " 'node2_node_pod_lt_10mbps',\n",
       " 'node3_node_pod_lt_10mbps',\n",
       " 'node1_node_pod_lt_10mbps',\n",
       " 'node1_node_pod_10_to_15mbps',\n",
       " 'node2_node_pod_15_to_20mbps',\n",
       " 'node2_node_pod_20_to_30mbps',\n",
       " 'node2_node_pod_30_to_50mbps',\n",
       " 'node3_node_pod_30_to_50mbps',\n",
       " 'node3_node_pod_ge_50mbps',\n",
       " 'node_pod_crashloopbackoff',\n",
       " 'source',\n",
       " 'node3_node_pod_20_to_30mbps',\n",
       " 'node2_node_pod_10_to_15mbps',\n",
       " 'node1_node_pod_qos_mem_guaranteed',\n",
       " 'node1_node_pod_qos_qty_guaranteed',\n",
       " 'node2_node_pod_qos_mem_guaranteed',\n",
       " 'node1_node_pod_qos_cpu_guaranteed',\n",
       " 'node1_node_pod_15_to_20mbps',\n",
       " 'node3_node_pod_qos_mem_guaranteed',\n",
       " 'node3_node_pod_qos_qty_guaranteed',\n",
       " 'node3_node_pod_qos_cpu_guaranteed',\n",
       " 'node2_node_pod_qos_qty_guaranteed',\n",
       " 'node2_node_pod_qos_cpu_guaranteed',\n",
       " 'node1_node_pod_20_to_30mbps',\n",
       " 'workqueue_queue_work_time_gt_1second',\n",
       " 'node1_node_pod_30_to_50mbps',\n",
       " 'node2_node_pod_ge_50mbps',\n",
       " 'node1_node_pod_ge_50mbps',\n",
       " 'node1_node_pod_qos_mem_besteffort',\n",
       " 'node3_node_pod_qos_mem_besteffort',\n",
       " 'node2_node_pod_qos_qty_besteffort',\n",
       " 'node2_node_pod_qos_mem_besteffort',\n",
       " 'node1_node_pod_qos_qty_besteffort',\n",
       " 'node3_node_pod_qos_qty_besteffort',\n",
       " 'node2_node_pod_qos_cpu_besteffort',\n",
       " 'node3_node_pod_qos_cpu_besteffort',\n",
       " 'node1_node_pod_qos_cpu_besteffort',\n",
       " 'node3_node_pod_10_to_15mbps',\n",
       " 'node3_node_pod_15_to_20mbps',\n",
       " 'node3_exec',\n",
       " 'node2_exec',\n",
       " 'node1_exec',\n",
       " 'node4_worker',\n",
       " 'node5_worker',\n",
       " 'node6_worker',\n",
       " 'node4_nodes_roles_per_node',\n",
       " 'node5_nodes_roles_per_node',\n",
       " 'node6_nodes_roles_per_node',\n",
       " 'node4_node_status_ready',\n",
       " 'node5_node_status_ready',\n",
       " 'node6_node_status_ready',\n",
       " 'node4_node_status_diskpressure',\n",
       " 'node5_node_status_diskpressure',\n",
       " 'node6_node_status_diskpressure',\n",
       " 'node4_node_status_memorypressure',\n",
       " 'node5_node_status_memorypressure',\n",
       " 'node6_node_status_memorypressure',\n",
       " 'node4_node_status_pidpressure',\n",
       " 'node5_node_status_pidpressure',\n",
       " 'node6_node_status_pidpressure',\n",
       " 'node4_node_load1',\n",
       " 'node5_node_load1',\n",
       " 'node6_node_load1',\n",
       " 'node4_node_load5',\n",
       " 'node5_node_load5',\n",
       " 'node6_node_load5',\n",
       " 'node4_node_load15',\n",
       " 'node5_node_load15',\n",
       " 'node6_node_load15',\n",
       " 'node5_node_pod_qos_mem_burstable',\n",
       " 'node6_node_pod_qos_mem_burstable',\n",
       " 'node4_node_pod_qos_mem_burstable',\n",
       " 'node5_node_pod_qos_qty_burstable',\n",
       " 'node6_node_pod_qos_qty_burstable',\n",
       " 'node4_node_pod_qos_qty_burstable',\n",
       " 'node5_node_pod_qos_cpu_burstable',\n",
       " 'node6_node_pod_qos_cpu_burstable',\n",
       " 'node4_node_pod_qos_cpu_burstable',\n",
       " 'node4_cpu',\n",
       " 'node4_ephemeral_storage',\n",
       " 'node4_hugepages_1Gi',\n",
       " 'node4_hugepages_2Mi',\n",
       " 'node4_memory',\n",
       " 'node4_pods',\n",
       " 'node5_cpu',\n",
       " 'node5_ephemeral_storage',\n",
       " 'node5_hugepages_1Gi',\n",
       " 'node5_hugepages_2Mi',\n",
       " 'node5_memory',\n",
       " 'node5_pods',\n",
       " 'node6_cpu',\n",
       " 'node6_ephemeral_storage',\n",
       " 'node6_hugepages_1Gi',\n",
       " 'node6_hugepages_2Mi',\n",
       " 'node6_memory',\n",
       " 'node6_pods',\n",
       " 'node5_node_pod_container_resource_requests_cpu',\n",
       " 'node6_node_pod_container_resource_requests_cpu',\n",
       " 'node4_node_pod_container_resource_requests_cpu',\n",
       " 'node5_node_pod_container_resource_requests_memory',\n",
       " 'node6_node_pod_container_resource_requests_memory',\n",
       " 'node4_node_pod_container_resource_requests_memory',\n",
       " 'node4_node_pod_total',\n",
       " 'node5_node_pod_total',\n",
       " 'node6_node_pod_total',\n",
       " 'node4_node_container_total',\n",
       " 'node5_node_container_total',\n",
       " 'node6_node_container_total',\n",
       " 'node4_node_capacity_cpu',\n",
       " 'node5_node_capacity_cpu',\n",
       " 'node6_node_capacity_cpu',\n",
       " 'node4_node_capacity_memory',\n",
       " 'node5_node_capacity_memory',\n",
       " 'node6_node_capacity_memory',\n",
       " 'node4_node_capacity_pods',\n",
       " 'node5_node_capacity_pods',\n",
       " 'node6_node_capacity_pods',\n",
       " 'node4_node_capacity_ephemeral_storage',\n",
       " 'node5_node_capacity_ephemeral_storage',\n",
       " 'node6_node_capacity_ephemeral_storage',\n",
       " 'node4_node_capacity_hugepages_1Gi',\n",
       " 'node5_node_capacity_hugepages_1Gi',\n",
       " 'node6_node_capacity_hugepages_1Gi',\n",
       " 'node4_node_capacity_hugepages_2Mi',\n",
       " 'node5_node_capacity_hugepages_2Mi',\n",
       " 'node6_node_capacity_hugepages_2Mi',\n",
       " 'node4_node_cpu_utilization_p',\n",
       " 'node5_node_cpu_utilization_p',\n",
       " 'node6_node_cpu_utilization_p',\n",
       " 'node4_node_memory_utilization_p',\n",
       " 'node5_node_memory_utilization_p',\n",
       " 'node6_node_memory_utilization_p',\n",
       " 'node4_node_pod_system_cluster_critical',\n",
       " 'node5_node_pod_system_cluster_critical',\n",
       " 'node6_node_pod_system_cluster_critical',\n",
       " 'node4_node_pod_system_node_critical',\n",
       " 'node5_node_pod_system_node_critical',\n",
       " 'node6_node_pod_system_node_critical',\n",
       " 'node4_node_pod_openshift_user_critical',\n",
       " 'node5_node_pod_openshift_user_critical',\n",
       " 'node6_node_pod_openshift_user_critical',\n",
       " 'node4_kubelet_health_failures',\n",
       " 'node5_kubelet_health_failures',\n",
       " 'node6_kubelet_health_failures',\n",
       " 'node5_exec_sync',\n",
       " 'node5_list_containers',\n",
       " 'node5_list_podsandbox',\n",
       " 'node5_start_container',\n",
       " 'node6_create_container',\n",
       " 'node4_pull_image',\n",
       " 'node6_podsandbox_status',\n",
       " 'node4_remove_container',\n",
       " 'node4_stop_container',\n",
       " 'node6_stop_container',\n",
       " 'node4_image_status',\n",
       " 'node4_exec_sync',\n",
       " 'node4_list_containers',\n",
       " 'node4_list_podsandbox',\n",
       " 'node4_run_podsandbox',\n",
       " 'node4_create_container',\n",
       " 'node4_start_container',\n",
       " 'node6_run_podsandbox',\n",
       " 'node6_remove_podsandbox',\n",
       " 'node4_status',\n",
       " 'node6_exec_sync',\n",
       " 'node4_stop_podsandbox',\n",
       " 'node5_image_status',\n",
       " 'node4_container_status',\n",
       " 'node5_podsandbox_status',\n",
       " 'node5_remove_container',\n",
       " 'node6_pull_image',\n",
       " 'node5_list_images',\n",
       " 'node6_image_status',\n",
       " 'node6_list_containers',\n",
       " 'node6_list_podsandbox',\n",
       " 'node6_start_container',\n",
       " 'node4_list_images',\n",
       " 'node6_container_status',\n",
       " 'node6_list_images',\n",
       " 'node6_status',\n",
       " 'node5_create_container',\n",
       " 'node5_remove_podsandbox',\n",
       " 'node5_stop_podsandbox',\n",
       " 'node6_remove_container',\n",
       " 'node6_stop_podsandbox',\n",
       " 'node4_podsandbox_status',\n",
       " 'node5_pull_image',\n",
       " 'node5_run_podsandbox',\n",
       " 'node5_status',\n",
       " 'node4_remove_podsandbox',\n",
       " 'node5_container_status',\n",
       " 'node5_stop_container',\n",
       " 'node4_default',\n",
       " 'node5_default',\n",
       " 'node6_default',\n",
       " 'node4_node_uptime',\n",
       " 'node5_node_uptime',\n",
       " 'node6_node_uptime',\n",
       " 'node4_total_node_net_receive_bytes',\n",
       " 'node5_total_node_net_receive_bytes',\n",
       " 'node6_total_node_net_receive_bytes',\n",
       " 'node4_total_node_net_transmit_bytes',\n",
       " 'node5_total_node_net_transmit_bytes',\n",
       " 'node6_total_node_net_transmit_bytes',\n",
       " 'node6_node_pod_lt_10mbps',\n",
       " 'node5_node_pod_lt_10mbps',\n",
       " 'node4_node_pod_lt_10mbps',\n",
       " 'node4_node_pod_qos_mem_besteffort',\n",
       " 'node5_node_pod_qos_mem_besteffort',\n",
       " 'node6_node_pod_qos_mem_besteffort',\n",
       " 'node4_node_pod_qos_qty_besteffort',\n",
       " 'node5_node_pod_qos_qty_besteffort',\n",
       " 'node4_node_pod_qos_cpu_besteffort',\n",
       " 'node5_node_pod_20_to_30mbps',\n",
       " 'node6_node_pod_10_to_15mbps',\n",
       " 'node4_node_pod_20_to_30mbps',\n",
       " 'node5_node_pod_30_to_50mbps',\n",
       " 'node6_node_pod_30_to_50mbps',\n",
       " 'node6_node_pod_ge_50mbps',\n",
       " 'node5_node_pod_15_to_20mbps',\n",
       " 'node6_node_pod_qos_qty_besteffort',\n",
       " 'node6_node_pod_qos_cpu_besteffort',\n",
       " 'node5_node_pod_qos_cpu_besteffort',\n",
       " 'node5_node_pod_ge_50mbps',\n",
       " 'node4_node_pod_container_resource_limit_cpu',\n",
       " 'node5_node_pod_container_resource_limit_cpu',\n",
       " 'node6_node_pod_container_resource_limit_cpu',\n",
       " 'node4_node_pod_ge_50mbps',\n",
       " 'node4_node_pod_15_to_20mbps',\n",
       " 'node4_node_pod_10_to_15mbps',\n",
       " 'node6_node_pod_15_to_20mbps',\n",
       " 'node6_node_pod_20_to_30mbps',\n",
       " 'node4_node_pod_30_to_50mbps',\n",
       " 'node5_node_pod_10_to_15mbps',\n",
       " 'node5_exec',\n",
       " 'node4_exec',\n",
       " 'node6_exec',\n",
       " 'y_label']"
      ]
     },
     "execution_count": 10,
     "metadata": {},
     "output_type": "execute_result"
    }
   ],
   "source": [
    "# Showing final list of columns in clean dataset\n",
    "# to be used for the training of the ML models\n",
    "df_clean.columns.to_list()"
   ]
  },
  {
   "cell_type": "markdown",
   "id": "878e269e-354f-46cc-8bef-57c7a3f8e7ba",
   "metadata": {},
   "source": [
    "## Section 2: Comparing Machine Learning Models"
   ]
  },
  {
   "cell_type": "markdown",
   "id": "db50927a-17fe-4cb0-a4cb-46d283b6cc55",
   "metadata": {},
   "source": [
    "The dataset contains a label `y_label`, which can be `green`, `yellow`, `red`. The comparative uses various ML algorithms and algorithms like \"logistic regression\" will only be able to have a binary classification. In such case, it will only determine if the target variable is \"red\" or not. \n",
    "\n",
    "The analysis in this section uses the following ML algorithms:\n",
    "- Logistic Regression (note: only to determine if \"red\" is true or false)\n",
    "- K-Means\n",
    "- Random Forest"
   ]
  },
  {
   "cell_type": "code",
   "execution_count": 11,
   "id": "74ac70fc-f10f-447d-8f79-32f725285739",
   "metadata": {},
   "outputs": [],
   "source": [
    "# loading common ML libraries and setting defaults\n",
    "from sklearn.model_selection import train_test_split\n",
    "from sklearn.linear_model import LogisticRegression\n",
    "from sklearn.cluster import KMeans\n",
    "from sklearn.ensemble import RandomForestClassifier\n",
    "from sklearn.pipeline import Pipeline\n",
    "#from sklearn.pipeline import make_pipeline\n",
    "from sklearn.preprocessing import StandardScaler\n",
    "\n",
    "import matplotlib.pyplot as plt \n",
    "import numpy as np\n",
    "\n",
    "\n",
    "# import custom ML utility class\n",
    "from src.custom_ml import CustomML\n",
    "\n",
    "# global defaults\n",
    "RANDOM_STATE=42\n",
    "SPLIT_SIZE=0.25"
   ]
  },
  {
   "cell_type": "code",
   "execution_count": 12,
   "id": "9e77ba59-d7a5-43c3-8a89-cd8a6128b2e6",
   "metadata": {},
   "outputs": [
    {
     "name": "stdout",
     "output_type": "stream",
     "text": [
      "Compact cluster (1800, 467)\n",
      "Multinode (mno) (613, 467)\n",
      "Loaded dataset with shape (2413, 467)\n"
     ]
    }
   ],
   "source": [
    "# Get our full dataset X_data\n",
    "ml_util = CustomML(X_data=df_clean.copy(),\n",
    "                   random_state=RANDOM_STATE,\n",
    "                   split_size=SPLIT_SIZE)"
   ]
  },
  {
   "cell_type": "markdown",
   "id": "6d26f214-c8b6-4a37-80f0-ea5bb3bc450d",
   "metadata": {},
   "source": [
    "### 2.1 Logistic Regression\n",
    "\n",
    "The Logistic Regression requires the dependent variable to be binary. We transform y_label into a binary True/False column to achieve this. In this case, 1=\"red\", 0=\"green\". For this analysis, all \"yellow\" will be encoded as \"red\"."
   ]
  },
  {
   "cell_type": "code",
   "execution_count": 13,
   "id": "6066547e-acd9-4d60-821f-4f49b208ed56",
   "metadata": {},
   "outputs": [
    {
     "name": "stdout",
     "output_type": "stream",
     "text": [
      "y_label\n",
      "0    2079\n",
      "1     334\n",
      "Name: count, dtype: int64\n"
     ]
    }
   ],
   "source": [
    "# get dataset with reencoded y_label as binary label\n",
    "X_logreg, y_logreg=ml_util.get_xy_logreg(\"full\")"
   ]
  },
  {
   "cell_type": "code",
   "execution_count": 14,
   "id": "6728129e-e7de-4800-9d26-2e1e5420d435",
   "metadata": {},
   "outputs": [],
   "source": [
    "# split into training and testing datasets\n",
    "X_train_logreg, X_test_logreg, y_train_logreg, y_test_logreg = train_test_split(\n",
    "    X_logreg, y_logreg, \n",
    "    test_size=SPLIT_SIZE, random_state=RANDOM_STATE)"
   ]
  },
  {
   "cell_type": "code",
   "execution_count": 15,
   "id": "f9ba6aa7-6ab2-4a3e-8047-374a32e4e7b3",
   "metadata": {},
   "outputs": [
    {
     "name": "stdout",
     "output_type": "stream",
     "text": [
      "y_label\n",
      "False    1573\n",
      "True      236\n",
      "Name: count, dtype: Int64\n",
      "\n",
      "y_label\n",
      "False    506\n",
      "True      98\n",
      "Name: count, dtype: Int64\n"
     ]
    }
   ],
   "source": [
    "# confirm split distribution among subsets\n",
    "print(f\"{y_train_logreg.value_counts()}\\n\\n{y_test_logreg.value_counts()}\")"
   ]
  },
  {
   "cell_type": "markdown",
   "id": "208deca0-371c-4761-8e92-e146e5746a1f",
   "metadata": {},
   "source": [
    "As we see from the Scikit-Learn [solvers documentation](https://scikit-learn.org/stable/modules/linear_model.html#solvers) the ideal solver for when `n_samples >> n_features` is the `newton-choleskey` solver. Here is an extract from the documentation.\n",
    "\n",
    "```\n",
    "The “newton-cholesky” solver is an exact Newton solver that calculates the hessian matrix and solves the resulting linear system. It is a very good choice for n_samples >> n_features, but has a few shortcomings: Only $l_2$ regularization is supported. Furthermore, because the hessian matrix is explicitly computed, the memory usage has a quadratic dependency on n_features as well as on n_classes. As a consequence, only the one-vs-rest scheme is implemented for the multiclass case.\n",
    "```\n",
    "\n",
    "I've tried other solvers but they have problems converging or are too slow.\n",
    "\n",
    "```bash\n",
    "# Using solver='newton-cheleskey'\n",
    "1.82 s ± 526 ms per loop (mean ± std. dev. of 7 runs, 1 loop each)\n",
    "# Using solver='saga'\n",
    "26.3 s ± 607 ms per loop (mean ± std. dev. of 7 runs, 1 loop each)\n",
    "```\n",
    "\n",
    "For this reason, I've selected the use of the `solver='newton-choleskey'` with the `penalty=`$l_2$"
   ]
  },
  {
   "cell_type": "code",
   "execution_count": 16,
   "id": "3426315b-4b05-46c9-80bb-6fd1e87c8511",
   "metadata": {},
   "outputs": [],
   "source": [
    "# Using pipelines and ColumnTransformers to apply different transformations to columns with differnt dtypes (uint32, float64)\n",
    "# Scalers options available in custom function StandardScaler, MaxAbsScaler, MinMaxScaler, PowerTransformer\n",
    "# https://scikit-learn.org/stable/modules/preprocessing.html\n",
    "\n",
    "# get ColumnTransformer with corresponding pipelines\n",
    "ct  = ml_util.feature_scaling_per_type(X_train_logreg,'maxabs','power')\n",
    "\n",
    "# LogisticRegression instance with settings\n",
    "logreg = LogisticRegression(random_state=RANDOM_STATE, penalty='l2',\n",
    "                                      solver='newton-cholesky',\n",
    "                                      class_weight='balanced',\n",
    "                                      max_iter=3000)\n",
    "# Main pipeline for fitting.\n",
    "pipeline = Pipeline([\n",
    "                   ('column_transformer', ct),\n",
    "                   ('logistic_regression', logreg)\n",
    "])"
   ]
  },
  {
   "cell_type": "code",
   "execution_count": 17,
   "id": "2a7839f7-60ae-45f1-86da-875b5359f293",
   "metadata": {},
   "outputs": [
    {
     "data": {
      "text/html": [
       "<style>#sk-container-id-1 {color: black;}#sk-container-id-1 pre{padding: 0;}#sk-container-id-1 div.sk-toggleable {background-color: white;}#sk-container-id-1 label.sk-toggleable__label {cursor: pointer;display: block;width: 100%;margin-bottom: 0;padding: 0.3em;box-sizing: border-box;text-align: center;}#sk-container-id-1 label.sk-toggleable__label-arrow:before {content: \"▸\";float: left;margin-right: 0.25em;color: #696969;}#sk-container-id-1 label.sk-toggleable__label-arrow:hover:before {color: black;}#sk-container-id-1 div.sk-estimator:hover label.sk-toggleable__label-arrow:before {color: black;}#sk-container-id-1 div.sk-toggleable__content {max-height: 0;max-width: 0;overflow: hidden;text-align: left;background-color: #f0f8ff;}#sk-container-id-1 div.sk-toggleable__content pre {margin: 0.2em;color: black;border-radius: 0.25em;background-color: #f0f8ff;}#sk-container-id-1 input.sk-toggleable__control:checked~div.sk-toggleable__content {max-height: 200px;max-width: 100%;overflow: auto;}#sk-container-id-1 input.sk-toggleable__control:checked~label.sk-toggleable__label-arrow:before {content: \"▾\";}#sk-container-id-1 div.sk-estimator input.sk-toggleable__control:checked~label.sk-toggleable__label {background-color: #d4ebff;}#sk-container-id-1 div.sk-label input.sk-toggleable__control:checked~label.sk-toggleable__label {background-color: #d4ebff;}#sk-container-id-1 input.sk-hidden--visually {border: 0;clip: rect(1px 1px 1px 1px);clip: rect(1px, 1px, 1px, 1px);height: 1px;margin: -1px;overflow: hidden;padding: 0;position: absolute;width: 1px;}#sk-container-id-1 div.sk-estimator {font-family: monospace;background-color: #f0f8ff;border: 1px dotted black;border-radius: 0.25em;box-sizing: border-box;margin-bottom: 0.5em;}#sk-container-id-1 div.sk-estimator:hover {background-color: #d4ebff;}#sk-container-id-1 div.sk-parallel-item::after {content: \"\";width: 100%;border-bottom: 1px solid gray;flex-grow: 1;}#sk-container-id-1 div.sk-label:hover label.sk-toggleable__label {background-color: #d4ebff;}#sk-container-id-1 div.sk-serial::before {content: \"\";position: absolute;border-left: 1px solid gray;box-sizing: border-box;top: 0;bottom: 0;left: 50%;z-index: 0;}#sk-container-id-1 div.sk-serial {display: flex;flex-direction: column;align-items: center;background-color: white;padding-right: 0.2em;padding-left: 0.2em;position: relative;}#sk-container-id-1 div.sk-item {position: relative;z-index: 1;}#sk-container-id-1 div.sk-parallel {display: flex;align-items: stretch;justify-content: center;background-color: white;position: relative;}#sk-container-id-1 div.sk-item::before, #sk-container-id-1 div.sk-parallel-item::before {content: \"\";position: absolute;border-left: 1px solid gray;box-sizing: border-box;top: 0;bottom: 0;left: 50%;z-index: -1;}#sk-container-id-1 div.sk-parallel-item {display: flex;flex-direction: column;z-index: 1;position: relative;background-color: white;}#sk-container-id-1 div.sk-parallel-item:first-child::after {align-self: flex-end;width: 50%;}#sk-container-id-1 div.sk-parallel-item:last-child::after {align-self: flex-start;width: 50%;}#sk-container-id-1 div.sk-parallel-item:only-child::after {width: 0;}#sk-container-id-1 div.sk-dashed-wrapped {border: 1px dashed gray;margin: 0 0.4em 0.5em 0.4em;box-sizing: border-box;padding-bottom: 0.4em;background-color: white;}#sk-container-id-1 div.sk-label label {font-family: monospace;font-weight: bold;display: inline-block;line-height: 1.2em;}#sk-container-id-1 div.sk-label-container {text-align: center;}#sk-container-id-1 div.sk-container {/* jupyter's `normalize.less` sets `[hidden] { display: none; }` but bootstrap.min.css set `[hidden] { display: none !important; }` so we also need the `!important` here to be able to override the default hidden behavior on the sphinx rendered scikit-learn.org. See: https://github.com/scikit-learn/scikit-learn/issues/21755 */display: inline-block !important;position: relative;}#sk-container-id-1 div.sk-text-repr-fallback {display: none;}</style><div id=\"sk-container-id-1\" class=\"sk-top-container\"><div class=\"sk-text-repr-fallback\"><pre>Pipeline(steps=[(&#x27;column_transformer&#x27;,\n",
       "                 ColumnTransformer(transformers=[(&#x27;scaler_uint32&#x27;,\n",
       "                                                  Pipeline(steps=[(&#x27;maxabs&#x27;,\n",
       "                                                                   MaxAbsScaler())]),\n",
       "                                                  [&#x27;node1_nodes_roles_per_node&#x27;,\n",
       "                                                   &#x27;node2_nodes_roles_per_node&#x27;,\n",
       "                                                   &#x27;node3_nodes_roles_per_node&#x27;,\n",
       "                                                   &#x27;total_qty_nodes&#x27;,\n",
       "                                                   &#x27;total_qty_control_plane&#x27;,\n",
       "                                                   &#x27;total_qty_workers&#x27;,\n",
       "                                                   &#x27;total_nodes_ready&#x27;,\n",
       "                                                   &#x27;total_nodes_notready&#x27;,\n",
       "                                                   &#x27;total_nodes_unknown&#x27;,\n",
       "                                                   &#x27;t...\n",
       "                                                   &#x27;node1_node_pod_container_resource_requests_memory&#x27;,\n",
       "                                                   &#x27;node1_node_pod_container_resource_limit_cpu&#x27;,\n",
       "                                                   &#x27;node2_node_pod_container_resource_limit_cpu&#x27;,\n",
       "                                                   &#x27;node3_node_pod_container_resource_limit_cpu&#x27;,\n",
       "                                                   &#x27;node1_node_capacity_cpu&#x27;,\n",
       "                                                   &#x27;node2_node_capacity_cpu&#x27;,\n",
       "                                                   &#x27;node3_node_capacity_cpu&#x27;, ...])])),\n",
       "                (&#x27;logistic_regression&#x27;,\n",
       "                 LogisticRegression(class_weight=&#x27;balanced&#x27;, max_iter=3000,\n",
       "                                    random_state=42,\n",
       "                                    solver=&#x27;newton-cholesky&#x27;))])</pre><b>In a Jupyter environment, please rerun this cell to show the HTML representation or trust the notebook. <br />On GitHub, the HTML representation is unable to render, please try loading this page with nbviewer.org.</b></div><div class=\"sk-container\" hidden><div class=\"sk-item sk-dashed-wrapped\"><div class=\"sk-label-container\"><div class=\"sk-label sk-toggleable\"><input class=\"sk-toggleable__control sk-hidden--visually\" id=\"sk-estimator-id-1\" type=\"checkbox\" ><label for=\"sk-estimator-id-1\" class=\"sk-toggleable__label sk-toggleable__label-arrow\">Pipeline</label><div class=\"sk-toggleable__content\"><pre>Pipeline(steps=[(&#x27;column_transformer&#x27;,\n",
       "                 ColumnTransformer(transformers=[(&#x27;scaler_uint32&#x27;,\n",
       "                                                  Pipeline(steps=[(&#x27;maxabs&#x27;,\n",
       "                                                                   MaxAbsScaler())]),\n",
       "                                                  [&#x27;node1_nodes_roles_per_node&#x27;,\n",
       "                                                   &#x27;node2_nodes_roles_per_node&#x27;,\n",
       "                                                   &#x27;node3_nodes_roles_per_node&#x27;,\n",
       "                                                   &#x27;total_qty_nodes&#x27;,\n",
       "                                                   &#x27;total_qty_control_plane&#x27;,\n",
       "                                                   &#x27;total_qty_workers&#x27;,\n",
       "                                                   &#x27;total_nodes_ready&#x27;,\n",
       "                                                   &#x27;total_nodes_notready&#x27;,\n",
       "                                                   &#x27;total_nodes_unknown&#x27;,\n",
       "                                                   &#x27;t...\n",
       "                                                   &#x27;node1_node_pod_container_resource_requests_memory&#x27;,\n",
       "                                                   &#x27;node1_node_pod_container_resource_limit_cpu&#x27;,\n",
       "                                                   &#x27;node2_node_pod_container_resource_limit_cpu&#x27;,\n",
       "                                                   &#x27;node3_node_pod_container_resource_limit_cpu&#x27;,\n",
       "                                                   &#x27;node1_node_capacity_cpu&#x27;,\n",
       "                                                   &#x27;node2_node_capacity_cpu&#x27;,\n",
       "                                                   &#x27;node3_node_capacity_cpu&#x27;, ...])])),\n",
       "                (&#x27;logistic_regression&#x27;,\n",
       "                 LogisticRegression(class_weight=&#x27;balanced&#x27;, max_iter=3000,\n",
       "                                    random_state=42,\n",
       "                                    solver=&#x27;newton-cholesky&#x27;))])</pre></div></div></div><div class=\"sk-serial\"><div class=\"sk-item sk-dashed-wrapped\"><div class=\"sk-label-container\"><div class=\"sk-label sk-toggleable\"><input class=\"sk-toggleable__control sk-hidden--visually\" id=\"sk-estimator-id-2\" type=\"checkbox\" ><label for=\"sk-estimator-id-2\" class=\"sk-toggleable__label sk-toggleable__label-arrow\">column_transformer: ColumnTransformer</label><div class=\"sk-toggleable__content\"><pre>ColumnTransformer(transformers=[(&#x27;scaler_uint32&#x27;,\n",
       "                                 Pipeline(steps=[(&#x27;maxabs&#x27;, MaxAbsScaler())]),\n",
       "                                 [&#x27;node1_nodes_roles_per_node&#x27;,\n",
       "                                  &#x27;node2_nodes_roles_per_node&#x27;,\n",
       "                                  &#x27;node3_nodes_roles_per_node&#x27;,\n",
       "                                  &#x27;total_qty_nodes&#x27;, &#x27;total_qty_control_plane&#x27;,\n",
       "                                  &#x27;total_qty_workers&#x27;, &#x27;total_nodes_ready&#x27;,\n",
       "                                  &#x27;total_nodes_notready&#x27;, &#x27;total_nodes_unknown&#x27;,\n",
       "                                  &#x27;total_nodes_diskpressure&#x27;,\n",
       "                                  &#x27;total_node_m...\n",
       "                                  &#x27;node2_node_pod_container_resource_requests_memory&#x27;,\n",
       "                                  &#x27;node3_node_pod_container_resource_requests_memory&#x27;,\n",
       "                                  &#x27;node1_node_pod_container_resource_requests_memory&#x27;,\n",
       "                                  &#x27;node1_node_pod_container_resource_limit_cpu&#x27;,\n",
       "                                  &#x27;node2_node_pod_container_resource_limit_cpu&#x27;,\n",
       "                                  &#x27;node3_node_pod_container_resource_limit_cpu&#x27;,\n",
       "                                  &#x27;node1_node_capacity_cpu&#x27;,\n",
       "                                  &#x27;node2_node_capacity_cpu&#x27;,\n",
       "                                  &#x27;node3_node_capacity_cpu&#x27;, ...])])</pre></div></div></div><div class=\"sk-parallel\"><div class=\"sk-parallel-item\"><div class=\"sk-item\"><div class=\"sk-label-container\"><div class=\"sk-label sk-toggleable\"><input class=\"sk-toggleable__control sk-hidden--visually\" id=\"sk-estimator-id-3\" type=\"checkbox\" ><label for=\"sk-estimator-id-3\" class=\"sk-toggleable__label sk-toggleable__label-arrow\">scaler_uint32</label><div class=\"sk-toggleable__content\"><pre>[&#x27;node1_nodes_roles_per_node&#x27;, &#x27;node2_nodes_roles_per_node&#x27;, &#x27;node3_nodes_roles_per_node&#x27;, &#x27;total_qty_nodes&#x27;, &#x27;total_qty_control_plane&#x27;, &#x27;total_qty_workers&#x27;, &#x27;total_nodes_ready&#x27;, &#x27;total_nodes_notready&#x27;, &#x27;total_nodes_unknown&#x27;, &#x27;total_nodes_diskpressure&#x27;, &#x27;total_node_memorypressure&#x27;, &#x27;total_node_pidpressure&#x27;, &#x27;node2_node_pod_qos_qty_burstable&#x27;, &#x27;node3_node_pod_qos_qty_burstable&#x27;, &#x27;node1_node_pod_qos_qty_burstable&#x27;, &#x27;node1_ephemeral_storage&#x27;, &#x27;node1_hugepages_1Gi&#x27;, &#x27;node1_hugepages_2Mi&#x27;, &#x27;node1_memory&#x27;, &#x27;node1_pods&#x27;, &#x27;node2_ephemeral_storage&#x27;, &#x27;node2_hugepages_1Gi&#x27;, &#x27;node2_hugepages_2Mi&#x27;, &#x27;node2_memory&#x27;, &#x27;node2_pods&#x27;, &#x27;node3_ephemeral_storage&#x27;, &#x27;node3_hugepages_1Gi&#x27;, &#x27;node3_hugepages_2Mi&#x27;, &#x27;node3_memory&#x27;, &#x27;node3_pods&#x27;, &#x27;node1_node_pod_total&#x27;, &#x27;node2_node_pod_total&#x27;, &#x27;node3_node_pod_total&#x27;, &#x27;node1_node_container_total&#x27;, &#x27;node2_node_container_total&#x27;, &#x27;node3_node_container_total&#x27;, &#x27;node2_apiserver_memory_usage&#x27;, &#x27;node3_apiserver_memory_usage&#x27;, &#x27;node1_apiserver_memory_usage&#x27;, &#x27;node1_openshift_apiserver_memory_usage&#x27;, &#x27;node3_openshift_apiserver_memory_usage&#x27;, &#x27;node2_openshift_apiserver_memory_usage&#x27;, &#x27;apiserver_max_inflight_requests_kube_apiserver&#x27;, &#x27;apiserver_max_inflight_requests_openshift_apiserver&#x27;, &#x27;cluster_pod_total&#x27;, &#x27;cluster_namespace_total&#x27;, &#x27;etcd_member_active&#x27;, &#x27;node1_etcd_db_size_bytes&#x27;, &#x27;node2_etcd_db_size_bytes&#x27;, &#x27;node3_etcd_db_size_bytes&#x27;, &#x27;node1_etcd_db_use_bytes&#x27;, &#x27;node2_etcd_db_use_bytes&#x27;, &#x27;node3_etcd_db_use_bytes&#x27;, &#x27;node1_etcd_object_counts&#x27;, &#x27;node2_etcd_object_counts&#x27;, &#x27;node3_etcd_object_counts&#x27;, &#x27;etcd_member_down_total&#x27;, &#x27;etcd_qty_grpc_requests_slow&#x27;, &#x27;node_pod_crashloopbackoff&#x27;, &#x27;node1_node_pod_qos_qty_guaranteed&#x27;, &#x27;node3_node_pod_qos_qty_guaranteed&#x27;, &#x27;node2_node_pod_qos_qty_guaranteed&#x27;, &#x27;node2_node_pod_qos_qty_besteffort&#x27;, &#x27;node1_node_pod_qos_qty_besteffort&#x27;, &#x27;node3_node_pod_qos_qty_besteffort&#x27;, &#x27;node4_nodes_roles_per_node&#x27;, &#x27;node5_nodes_roles_per_node&#x27;, &#x27;node6_nodes_roles_per_node&#x27;, &#x27;node5_node_pod_qos_qty_burstable&#x27;, &#x27;node6_node_pod_qos_qty_burstable&#x27;, &#x27;node4_node_pod_qos_qty_burstable&#x27;, &#x27;node4_ephemeral_storage&#x27;, &#x27;node4_hugepages_1Gi&#x27;, &#x27;node4_hugepages_2Mi&#x27;, &#x27;node4_memory&#x27;, &#x27;node4_pods&#x27;, &#x27;node5_ephemeral_storage&#x27;, &#x27;node5_hugepages_1Gi&#x27;, &#x27;node5_hugepages_2Mi&#x27;, &#x27;node5_memory&#x27;, &#x27;node5_pods&#x27;, &#x27;node6_ephemeral_storage&#x27;, &#x27;node6_hugepages_1Gi&#x27;, &#x27;node6_hugepages_2Mi&#x27;, &#x27;node6_memory&#x27;, &#x27;node6_pods&#x27;, &#x27;node4_node_pod_total&#x27;, &#x27;node5_node_pod_total&#x27;, &#x27;node6_node_pod_total&#x27;, &#x27;node4_node_container_total&#x27;, &#x27;node5_node_container_total&#x27;, &#x27;node6_node_container_total&#x27;, &#x27;node4_node_pod_qos_qty_besteffort&#x27;, &#x27;node5_node_pod_qos_qty_besteffort&#x27;, &#x27;node6_node_pod_qos_qty_besteffort&#x27;]</pre></div></div></div><div class=\"sk-serial\"><div class=\"sk-item\"><div class=\"sk-serial\"><div class=\"sk-item\"><div class=\"sk-estimator sk-toggleable\"><input class=\"sk-toggleable__control sk-hidden--visually\" id=\"sk-estimator-id-4\" type=\"checkbox\" ><label for=\"sk-estimator-id-4\" class=\"sk-toggleable__label sk-toggleable__label-arrow\">MaxAbsScaler</label><div class=\"sk-toggleable__content\"><pre>MaxAbsScaler()</pre></div></div></div></div></div></div></div></div><div class=\"sk-parallel-item\"><div class=\"sk-item\"><div class=\"sk-label-container\"><div class=\"sk-label sk-toggleable\"><input class=\"sk-toggleable__control sk-hidden--visually\" id=\"sk-estimator-id-5\" type=\"checkbox\" ><label for=\"sk-estimator-id-5\" class=\"sk-toggleable__label sk-toggleable__label-arrow\">scaler_float64</label><div class=\"sk-toggleable__content\"><pre>[&#x27;node1_node_load1&#x27;, &#x27;node2_node_load1&#x27;, &#x27;node3_node_load1&#x27;, &#x27;node1_node_load5&#x27;, &#x27;node2_node_load5&#x27;, &#x27;node3_node_load5&#x27;, &#x27;node1_node_load15&#x27;, &#x27;node2_node_load15&#x27;, &#x27;node3_node_load15&#x27;, &#x27;node2_node_pod_qos_mem_burstable&#x27;, &#x27;node3_node_pod_qos_mem_burstable&#x27;, &#x27;node1_node_pod_qos_mem_burstable&#x27;, &#x27;node2_node_pod_qos_cpu_burstable&#x27;, &#x27;node3_node_pod_qos_cpu_burstable&#x27;, &#x27;node1_node_pod_qos_cpu_burstable&#x27;, &#x27;node1_cpu&#x27;, &#x27;node2_cpu&#x27;, &#x27;node3_cpu&#x27;, &#x27;node2_node_pod_container_resource_requests_cpu&#x27;, &#x27;node3_node_pod_container_resource_requests_cpu&#x27;, &#x27;node1_node_pod_container_resource_requests_cpu&#x27;, &#x27;node2_node_pod_container_resource_requests_memory&#x27;, &#x27;node3_node_pod_container_resource_requests_memory&#x27;, &#x27;node1_node_pod_container_resource_requests_memory&#x27;, &#x27;node1_node_pod_container_resource_limit_cpu&#x27;, &#x27;node2_node_pod_container_resource_limit_cpu&#x27;, &#x27;node3_node_pod_container_resource_limit_cpu&#x27;, &#x27;node1_node_capacity_cpu&#x27;, &#x27;node2_node_capacity_cpu&#x27;, &#x27;node3_node_capacity_cpu&#x27;, &#x27;node1_node_capacity_memory&#x27;, &#x27;node2_node_capacity_memory&#x27;, &#x27;node3_node_capacity_memory&#x27;, &#x27;node1_node_capacity_pods&#x27;, &#x27;node2_node_capacity_pods&#x27;, &#x27;node3_node_capacity_pods&#x27;, &#x27;node1_node_capacity_ephemeral_storage&#x27;, &#x27;node2_node_capacity_ephemeral_storage&#x27;, &#x27;node3_node_capacity_ephemeral_storage&#x27;, &#x27;node1_node_capacity_hugepages_1Gi&#x27;, &#x27;node2_node_capacity_hugepages_1Gi&#x27;, &#x27;node3_node_capacity_hugepages_1Gi&#x27;, &#x27;node1_node_capacity_hugepages_2Mi&#x27;, &#x27;node2_node_capacity_hugepages_2Mi&#x27;, &#x27;node3_node_capacity_hugepages_2Mi&#x27;, &#x27;node1_node_cpu_utilization_p&#x27;, &#x27;node2_node_cpu_utilization_p&#x27;, &#x27;node3_node_cpu_utilization_p&#x27;, &#x27;node1_node_memory_utilization_p&#x27;, &#x27;node2_node_memory_utilization_p&#x27;, &#x27;node3_node_memory_utilization_p&#x27;, &#x27;node1_node_pod_system_cluster_critical&#x27;, &#x27;node2_node_pod_system_cluster_critical&#x27;, &#x27;node3_node_pod_system_cluster_critical&#x27;, &#x27;node1_node_pod_system_node_critical&#x27;, &#x27;node2_node_pod_system_node_critical&#x27;, &#x27;node3_node_pod_system_node_critical&#x27;, &#x27;node1_node_pod_openshift_user_critical&#x27;, &#x27;node2_node_pod_openshift_user_critical&#x27;, &#x27;node3_node_pod_openshift_user_critical&#x27;, &#x27;node1_kubelet_health_failures&#x27;, &#x27;node2_kubelet_health_failures&#x27;, &#x27;node3_kubelet_health_failures&#x27;, &#x27;node3_create_container&#x27;, &#x27;node3_podsandbox_status&#x27;, &#x27;node3_pull_image&#x27;, &#x27;node1_exec_sync&#x27;, &#x27;node1_list_images&#x27;, &#x27;node1_pull_image&#x27;, &#x27;node2_exec_sync&#x27;, &#x27;node2_podsandbox_status&#x27;, &#x27;node3_status&#x27;, &#x27;node3_stop_podsandbox&#x27;, &#x27;node3_remove_podsandbox&#x27;, &#x27;node3_start_container&#x27;, &#x27;node1_run_podsandbox&#x27;, &#x27;node1_status&#x27;, &#x27;node2_list_containers&#x27;, &#x27;node2_list_podsandbox&#x27;, &#x27;node1_podsandbox_status&#x27;, &#x27;node1_remove_container&#x27;, &#x27;node1_stop_container&#x27;, &#x27;node3_container_status&#x27;, &#x27;node3_image_status&#x27;, &#x27;node3_exec_sync&#x27;, &#x27;node3_stop_container&#x27;, &#x27;node1_image_status&#x27;, &#x27;node1_stop_podsandbox&#x27;, &#x27;node2_container_status&#x27;, &#x27;node2_remove_container&#x27;, &#x27;node2_remove_podsandbox&#x27;, &#x27;node2_status&#x27;, &#x27;node2_stop_container&#x27;, &#x27;node2_stop_podsandbox&#x27;, &#x27;node1_container_status&#x27;, &#x27;node1_list_containers&#x27;, &#x27;node1_list_podsandbox&#x27;, &#x27;node2_run_podsandbox&#x27;, &#x27;node2_start_container&#x27;, &#x27;node3_remove_container&#x27;, &#x27;node3_run_podsandbox&#x27;, &#x27;node2_create_container&#x27;, &#x27;node2_image_status&#x27;, &#x27;node2_pull_image&#x27;, &#x27;node1_create_container&#x27;, &#x27;node1_start_container&#x27;, &#x27;node2_list_images&#x27;, &#x27;node3_list_images&#x27;, &#x27;node1_remove_podsandbox&#x27;, &#x27;node3_list_containers&#x27;, &#x27;node3_list_podsandbox&#x27;, &#x27;node1_default&#x27;, &#x27;node2_default&#x27;, &#x27;node3_default&#x27;, &#x27;node1_node_uptime&#x27;, &#x27;node2_node_uptime&#x27;, &#x27;node3_node_uptime&#x27;, &#x27;node1_total_node_net_receive_bytes&#x27;, &#x27;node2_total_node_net_receive_bytes&#x27;, &#x27;node3_total_node_net_receive_bytes&#x27;, &#x27;node1_total_node_net_transmit_bytes&#x27;, &#x27;node2_total_node_net_transmit_bytes&#x27;, &#x27;node3_total_node_net_transmit_bytes&#x27;, &#x27;apiserver_errors&#x27;, &#x27;apiserver_latency_resource&#x27;, &#x27;apiserver_latency_cluster&#x27;, &#x27;apiserver_requests_duration_seconds_GET&#x27;, &#x27;apiserver_requests_duration_seconds_PUT&#x27;, &#x27;apiserver_requests_duration_seconds_APPLY&#x27;, &#x27;apiserver_requests_duration_seconds_DELETE&#x27;, &#x27;apiserver_requests_duration_seconds_PATCH&#x27;, &#x27;apiserver_requests_duration_seconds_POST&#x27;, &#x27;apiserver_requests_duration_seconds_LIST&#x27;, &#x27;apiserver_request_read_total&#x27;, &#x27;apiserver_request_write_total&#x27;, &#x27;cluster_control_plane_utilization&#x27;, &#x27;node1_etcd_network_peer_rtt&#x27;, &#x27;node2_etcd_network_peer_rtt&#x27;, &#x27;node3_etcd_network_peer_rtt&#x27;, &#x27;node1_etcd_failed_proposal&#x27;, &#x27;node2_etcd_failed_proposal&#x27;, &#x27;node3_etcd_failed_proposal&#x27;, &#x27;node3_etcd_fsync_duration&#x27;, &#x27;node1_etcd_fsync_duration&#x27;, &#x27;node2_etcd_fsync_duration&#x27;, &#x27;etcd_high_failed_grpc_requests&#x27;, &#x27;etcd_number_leader_changes&#x27;, &#x27;workqueue_queue_waiting_time_total&#x27;, &#x27;workqueue_queue_work_time_total&#x27;, &#x27;workqueue_retries_rate&#x27;, &#x27;node1_node_pod_qos_mem_guaranteed&#x27;, &#x27;node2_node_pod_qos_mem_guaranteed&#x27;, &#x27;node1_node_pod_qos_cpu_guaranteed&#x27;, &#x27;node3_node_pod_qos_mem_guaranteed&#x27;, &#x27;node3_node_pod_qos_cpu_guaranteed&#x27;, &#x27;node2_node_pod_qos_cpu_guaranteed&#x27;, &#x27;node1_node_pod_qos_mem_besteffort&#x27;, &#x27;node3_node_pod_qos_mem_besteffort&#x27;, &#x27;node2_node_pod_qos_mem_besteffort&#x27;, &#x27;node2_node_pod_qos_cpu_besteffort&#x27;, &#x27;node3_node_pod_qos_cpu_besteffort&#x27;, &#x27;node1_node_pod_qos_cpu_besteffort&#x27;, &#x27;node4_node_load1&#x27;, &#x27;node5_node_load1&#x27;, &#x27;node6_node_load1&#x27;, &#x27;node4_node_load5&#x27;, &#x27;node5_node_load5&#x27;, &#x27;node6_node_load5&#x27;, &#x27;node4_node_load15&#x27;, &#x27;node5_node_load15&#x27;, &#x27;node6_node_load15&#x27;, &#x27;node5_node_pod_qos_mem_burstable&#x27;, &#x27;node6_node_pod_qos_mem_burstable&#x27;, &#x27;node4_node_pod_qos_mem_burstable&#x27;, &#x27;node5_node_pod_qos_cpu_burstable&#x27;, &#x27;node6_node_pod_qos_cpu_burstable&#x27;, &#x27;node4_node_pod_qos_cpu_burstable&#x27;, &#x27;node4_cpu&#x27;, &#x27;node5_cpu&#x27;, &#x27;node6_cpu&#x27;, &#x27;node5_node_pod_container_resource_requests_cpu&#x27;, &#x27;node6_node_pod_container_resource_requests_cpu&#x27;, &#x27;node4_node_pod_container_resource_requests_cpu&#x27;, &#x27;node5_node_pod_container_resource_requests_memory&#x27;, &#x27;node6_node_pod_container_resource_requests_memory&#x27;, &#x27;node4_node_pod_container_resource_requests_memory&#x27;, &#x27;node4_node_capacity_cpu&#x27;, &#x27;node5_node_capacity_cpu&#x27;, &#x27;node6_node_capacity_cpu&#x27;, &#x27;node4_node_capacity_memory&#x27;, &#x27;node5_node_capacity_memory&#x27;, &#x27;node6_node_capacity_memory&#x27;, &#x27;node4_node_capacity_pods&#x27;, &#x27;node5_node_capacity_pods&#x27;, &#x27;node6_node_capacity_pods&#x27;, &#x27;node4_node_capacity_ephemeral_storage&#x27;, &#x27;node5_node_capacity_ephemeral_storage&#x27;, &#x27;node6_node_capacity_ephemeral_storage&#x27;, &#x27;node4_node_capacity_hugepages_1Gi&#x27;, &#x27;node5_node_capacity_hugepages_1Gi&#x27;, &#x27;node6_node_capacity_hugepages_1Gi&#x27;, &#x27;node4_node_capacity_hugepages_2Mi&#x27;, &#x27;node5_node_capacity_hugepages_2Mi&#x27;, &#x27;node6_node_capacity_hugepages_2Mi&#x27;, &#x27;node4_node_cpu_utilization_p&#x27;, &#x27;node5_node_cpu_utilization_p&#x27;, &#x27;node6_node_cpu_utilization_p&#x27;, &#x27;node4_node_memory_utilization_p&#x27;, &#x27;node5_node_memory_utilization_p&#x27;, &#x27;node6_node_memory_utilization_p&#x27;, &#x27;node4_node_pod_system_cluster_critical&#x27;, &#x27;node5_node_pod_system_cluster_critical&#x27;, &#x27;node6_node_pod_system_cluster_critical&#x27;, &#x27;node4_node_pod_system_node_critical&#x27;, &#x27;node5_node_pod_system_node_critical&#x27;, &#x27;node6_node_pod_system_node_critical&#x27;, &#x27;node4_node_pod_openshift_user_critical&#x27;, &#x27;node5_node_pod_openshift_user_critical&#x27;, &#x27;node6_node_pod_openshift_user_critical&#x27;, &#x27;node4_kubelet_health_failures&#x27;, &#x27;node5_kubelet_health_failures&#x27;, &#x27;node6_kubelet_health_failures&#x27;, &#x27;node5_exec_sync&#x27;, &#x27;node5_list_containers&#x27;, &#x27;node5_list_podsandbox&#x27;, &#x27;node5_start_container&#x27;, &#x27;node6_create_container&#x27;, &#x27;node4_pull_image&#x27;, &#x27;node6_podsandbox_status&#x27;, &#x27;node4_remove_container&#x27;, &#x27;node4_stop_container&#x27;, &#x27;node6_stop_container&#x27;, &#x27;node4_image_status&#x27;, &#x27;node4_exec_sync&#x27;, &#x27;node4_list_containers&#x27;, &#x27;node4_list_podsandbox&#x27;, &#x27;node4_run_podsandbox&#x27;, &#x27;node4_create_container&#x27;, &#x27;node4_start_container&#x27;, &#x27;node6_run_podsandbox&#x27;, &#x27;node6_remove_podsandbox&#x27;, &#x27;node4_status&#x27;, &#x27;node6_exec_sync&#x27;, &#x27;node4_stop_podsandbox&#x27;, &#x27;node5_image_status&#x27;, &#x27;node4_container_status&#x27;, &#x27;node5_podsandbox_status&#x27;, &#x27;node5_remove_container&#x27;, &#x27;node6_pull_image&#x27;, &#x27;node5_list_images&#x27;, &#x27;node6_image_status&#x27;, &#x27;node6_list_containers&#x27;, &#x27;node6_list_podsandbox&#x27;, &#x27;node6_start_container&#x27;, &#x27;node4_list_images&#x27;, &#x27;node6_container_status&#x27;, &#x27;node6_list_images&#x27;, &#x27;node6_status&#x27;, &#x27;node5_create_container&#x27;, &#x27;node5_remove_podsandbox&#x27;, &#x27;node5_stop_podsandbox&#x27;, &#x27;node6_remove_container&#x27;, &#x27;node6_stop_podsandbox&#x27;, &#x27;node4_podsandbox_status&#x27;, &#x27;node5_pull_image&#x27;, &#x27;node5_run_podsandbox&#x27;, &#x27;node5_status&#x27;, &#x27;node4_remove_podsandbox&#x27;, &#x27;node5_container_status&#x27;, &#x27;node5_stop_container&#x27;, &#x27;node4_default&#x27;, &#x27;node5_default&#x27;, &#x27;node6_default&#x27;, &#x27;node4_node_uptime&#x27;, &#x27;node5_node_uptime&#x27;, &#x27;node6_node_uptime&#x27;, &#x27;node4_total_node_net_receive_bytes&#x27;, &#x27;node5_total_node_net_receive_bytes&#x27;, &#x27;node6_total_node_net_receive_bytes&#x27;, &#x27;node4_total_node_net_transmit_bytes&#x27;, &#x27;node5_total_node_net_transmit_bytes&#x27;, &#x27;node6_total_node_net_transmit_bytes&#x27;, &#x27;node4_node_pod_qos_mem_besteffort&#x27;, &#x27;node5_node_pod_qos_mem_besteffort&#x27;, &#x27;node6_node_pod_qos_mem_besteffort&#x27;, &#x27;node4_node_pod_qos_cpu_besteffort&#x27;, &#x27;node6_node_pod_qos_cpu_besteffort&#x27;, &#x27;node5_node_pod_qos_cpu_besteffort&#x27;, &#x27;node4_node_pod_container_resource_limit_cpu&#x27;, &#x27;node5_node_pod_container_resource_limit_cpu&#x27;, &#x27;node6_node_pod_container_resource_limit_cpu&#x27;]</pre></div></div></div><div class=\"sk-serial\"><div class=\"sk-item\"><div class=\"sk-serial\"><div class=\"sk-item\"><div class=\"sk-estimator sk-toggleable\"><input class=\"sk-toggleable__control sk-hidden--visually\" id=\"sk-estimator-id-6\" type=\"checkbox\" ><label for=\"sk-estimator-id-6\" class=\"sk-toggleable__label sk-toggleable__label-arrow\">PowerTransformer</label><div class=\"sk-toggleable__content\"><pre>PowerTransformer()</pre></div></div></div></div></div></div></div></div></div></div><div class=\"sk-item\"><div class=\"sk-estimator sk-toggleable\"><input class=\"sk-toggleable__control sk-hidden--visually\" id=\"sk-estimator-id-7\" type=\"checkbox\" ><label for=\"sk-estimator-id-7\" class=\"sk-toggleable__label sk-toggleable__label-arrow\">LogisticRegression</label><div class=\"sk-toggleable__content\"><pre>LogisticRegression(class_weight=&#x27;balanced&#x27;, max_iter=3000, random_state=42,\n",
       "                   solver=&#x27;newton-cholesky&#x27;)</pre></div></div></div></div></div></div></div>"
      ],
      "text/plain": [
       "Pipeline(steps=[('column_transformer',\n",
       "                 ColumnTransformer(transformers=[('scaler_uint32',\n",
       "                                                  Pipeline(steps=[('maxabs',\n",
       "                                                                   MaxAbsScaler())]),\n",
       "                                                  ['node1_nodes_roles_per_node',\n",
       "                                                   'node2_nodes_roles_per_node',\n",
       "                                                   'node3_nodes_roles_per_node',\n",
       "                                                   'total_qty_nodes',\n",
       "                                                   'total_qty_control_plane',\n",
       "                                                   'total_qty_workers',\n",
       "                                                   'total_nodes_ready',\n",
       "                                                   'total_nodes_notready',\n",
       "                                                   'total_nodes_unknown',\n",
       "                                                   't...\n",
       "                                                   'node1_node_pod_container_resource_requests_memory',\n",
       "                                                   'node1_node_pod_container_resource_limit_cpu',\n",
       "                                                   'node2_node_pod_container_resource_limit_cpu',\n",
       "                                                   'node3_node_pod_container_resource_limit_cpu',\n",
       "                                                   'node1_node_capacity_cpu',\n",
       "                                                   'node2_node_capacity_cpu',\n",
       "                                                   'node3_node_capacity_cpu', ...])])),\n",
       "                ('logistic_regression',\n",
       "                 LogisticRegression(class_weight='balanced', max_iter=3000,\n",
       "                                    random_state=42,\n",
       "                                    solver='newton-cholesky'))])"
      ]
     },
     "execution_count": 17,
     "metadata": {},
     "output_type": "execute_result"
    }
   ],
   "source": [
    "pipeline.fit(X_train_logreg, y_train_logreg)"
   ]
  },
  {
   "cell_type": "code",
   "execution_count": 18,
   "id": "f2f94f6a-d296-4214-ad07-bc82dd05c268",
   "metadata": {},
   "outputs": [
    {
     "data": {
      "text/plain": [
       "0.9850993377483444"
      ]
     },
     "execution_count": 18,
     "metadata": {},
     "output_type": "execute_result"
    }
   ],
   "source": [
    "pipeline.score(X_test_logreg, y_test_logreg)"
   ]
  },
  {
   "cell_type": "code",
   "execution_count": 19,
   "id": "17b004db-917b-4161-b5f9-b9470d811d03",
   "metadata": {},
   "outputs": [
    {
     "name": "stdout",
     "output_type": "stream",
     "text": [
      "           accuracy_score\t0.9850993377483444\n",
      "  balanced_accuracy_score\t0.9787650237960797\n",
      "                 f1_score\t0.9729270734246057\n",
      "          precision_score\t0.9673149223471055\n",
      "             recall_score\t0.9787650237960797\n",
      "       mean_squared_error\t0.014900662251655629\n"
     ]
    }
   ],
   "source": [
    "# Determine model scores\n",
    "y_pred_logreg=pipeline.predict(X_test_logreg)\n",
    "_ = ml_util.get_model_scores(y_test_logreg, y_pred_logreg, False)"
   ]
  },
  {
   "cell_type": "code",
   "execution_count": 20,
   "id": "37382493-4363-433f-9e7e-61a07c1e64e2",
   "metadata": {},
   "outputs": [
    {
     "data": {
      "image/png": "[encoded data removed]",
      "text/plain": [
       "<Figure size 640x480 with 2 Axes>"
      ]
     },
     "metadata": {},
     "output_type": "display_data"
    }
   ],
   "source": [
    "ml_util.show_confusion_matrix(y_test_logreg, y_pred_logreg, logreg=True)"
   ]
  },
  {
   "cell_type": "code",
   "execution_count": 21,
   "id": "2152daca-e2b8-4f29-93a1-9c93da08d61e",
   "metadata": {},
   "outputs": [
    {
     "name": "stdout",
     "output_type": "stream",
     "text": [
      "        standard,standard\t0.9917218543046358\n",
      "             power,minmax\t0.9917218543046358\n",
      "            maxabs,maxabs\t0.9884105960264901\n",
      "              power,power\t0.9884105960264901\n",
      "          maxabs,standard\t0.9917218543046358\n"
     ]
    }
   ],
   "source": [
    "# define transformer pair for uint32 columns and float64 columns\n",
    "# to determine how is the score affected\n",
    "scaler_pairs=[\n",
    "    ('standard','standard'),\n",
    "    ('power','minmax'),\n",
    "    ('maxabs','maxabs'),\n",
    "    ('power','power'),\n",
    "    ('maxabs','standard')\n",
    "]\n",
    "\n",
    "_= ml_util.pipeline_transformer_logreg(X_train_logreg, y_train_logreg,\n",
    "                                       X_test_logreg, y_test_logreg,\n",
    "                                       scaler_pairs=scaler_pairs)"
   ]
  },
  {
   "cell_type": "markdown",
   "id": "d828fdba-91c1-4070-9b5f-d27201db1c2e",
   "metadata": {},
   "source": [
    "**Discussion**\n",
    "\n",
    "When considering the whole dataset which combines the two types of clusters, transforming the features with the various scalers has about 1% improvements which is not significant among the scalers. Now lets compare how it behaves across clusters types (compact vs mno)"
   ]
  },
  {
   "cell_type": "code",
   "execution_count": 22,
   "id": "78559d7c-9c78-40ca-bfd9-69ad5c690c06",
   "metadata": {},
   "outputs": [],
   "source": [
    "# Get a structure with per cluster datasets with\n",
    "# keys ['X_full', 'X', 'y', 'X_train', 'y_train', 'X_test', 'y_test']\n",
    "X_clusters = ml_util.get_xy_by_cluster_type()"
   ]
  },
  {
   "cell_type": "code",
   "execution_count": 23,
   "id": "b283af87-09e2-4e8c-afd3-b3004544eea0",
   "metadata": {},
   "outputs": [
    {
     "name": "stdout",
     "output_type": "stream",
     "text": [
      "Cluster Type: compact\n",
      "y_label\n",
      "0    1127\n",
      "1     223\n",
      "Name: count, dtype: int64\n",
      "Cluster Type: mno\n",
      "y_label\n",
      "0    447\n",
      "1     12\n",
      "Name: count, dtype: int64\n"
     ]
    }
   ],
   "source": [
    "# create y_logreg with values 0 or 1\n",
    "X_clusters['compact']['y_train_logreg']=X_clusters['compact']['y_train'].astype('bool').replace({False:0, True:1})\n",
    "X_clusters['compact']['y_test_logreg']=X_clusters['compact']['y_test'].astype('bool').replace({False:0, True:1})\n",
    "print(f\"Cluster Type: compact\\n{X_clusters['compact']['y_train_logreg'].value_counts()}\")\n",
    "\n",
    "X_clusters['mno']['y_train_logreg']=X_clusters['mno']['y_train'].astype('bool').replace({False:0, True:1})\n",
    "X_clusters['mno']['y_test_logreg']=X_clusters['mno']['y_test'].astype('bool').replace({False:0, True:1})\n",
    "print(f\"Cluster Type: mno\\n{X_clusters['mno']['y_train_logreg'].value_counts()}\")"
   ]
  },
  {
   "cell_type": "markdown",
   "id": "d9c542dc-58bf-43a2-be66-a4798e3fba05",
   "metadata": {},
   "source": [
    "Using the `compact` cluster to predict the multi-node `mno` cluster lets determine how the various scalers affect the score."
   ]
  },
  {
   "cell_type": "code",
   "execution_count": 24,
   "id": "04e86be7-272a-4740-b09b-ad39f42d4461",
   "metadata": {},
   "outputs": [
    {
     "name": "stdout",
     "output_type": "stream",
     "text": [
      "        standard,standard\t0.6535947712418301\n",
      "             power,minmax\t0.9891067538126361\n",
      "            maxabs,maxabs\t0.8627450980392157\n",
      "              power,power\t0.9891067538126361\n",
      "          maxabs,standard\t0.6252723311546841\n"
     ]
    }
   ],
   "source": [
    "# Testing how well we can map from COMPACT to MNO clusters\n",
    "\n",
    "# define transformer pair for uint32 columns and float64 columns\n",
    "scaler_pairs=[\n",
    "    ('standard','standard'),\n",
    "    ('power','minmax'),\n",
    "    ('maxabs','maxabs'),\n",
    "    ('power','power'),\n",
    "    ('maxabs','standard')\n",
    "]\n",
    "\n",
    "_=ml_util.pipeline_transformer_logreg(X_clusters['compact']['X_train'], X_clusters['compact']['y_train_logreg'],\n",
    "                                      X_clusters['mno']['X_train'], X_clusters['mno']['y_train_logreg'],\n",
    "                                      scaler_pairs=scaler_pairs)"
   ]
  },
  {
   "cell_type": "markdown",
   "id": "906ae4f5-f297-4cbf-aea6-884bd6c62ed1",
   "metadata": {},
   "source": [
    "**Discussion**\n",
    "\n",
    "This test shows that using the `PowerTransformer` on `uint32` columns and the `MinMaxScaler` or `PowerTransformer` for the `float64` columns leads to the best score. Anything using the `StandardScaler` is particularly detrimental to these predictions.\n",
    "\n",
    "Next, we use the multi-node `mno` model to predict the state of the `compact` cluster and how the various scalers affect the score."
   ]
  },
  {
   "cell_type": "code",
   "execution_count": 25,
   "id": "d2980fc1-9275-4b79-8875-c5dd1f4ea8b4",
   "metadata": {},
   "outputs": [
    {
     "name": "stdout",
     "output_type": "stream",
     "text": [
      "        standard,standard\t0.825925925925926\n",
      "             power,minmax\t0.837037037037037\n",
      "            maxabs,maxabs\t0.8266666666666667\n",
      "              power,power\t0.8362962962962963\n",
      "          maxabs,standard\t0.8296296296296296\n"
     ]
    }
   ],
   "source": [
    "# Testing how well we can map from MNO to COMPAT clusters\n",
    "\n",
    "# define transformer pair for uint32 columns and float64 columns\n",
    "scaler_pairs=[\n",
    "    ('standard','standard'),\n",
    "    ('power','minmax'),\n",
    "    ('maxabs','maxabs'),\n",
    "    ('power','power'),\n",
    "    ('maxabs','standard')\n",
    "]\n",
    "\n",
    "_=ml_util.pipeline_transformer_logreg(X_clusters['mno']['X_train'], X_clusters['mno']['y_train_logreg'],\n",
    "                                      X_clusters['compact']['X_train'], X_clusters['compact']['y_train_logreg'],\n",
    "                                      scaler_pairs=scaler_pairs)"
   ]
  },
  {
   "cell_type": "markdown",
   "id": "375d52d9-6c74-4df9-8fa4-7391812c1c1b",
   "metadata": {},
   "source": [
    "**Discussion**\n",
    "\n",
    "It is interesting to see a similar pattern as from the combined dataset where the selection of scaler has a score with $~1%$ difference, which makes the specific scaler non-significant.\n",
    "\n",
    "Now, considering the previous results of using the `compact` model to predict `mno`, using the `PowerTransformer` for scaling both types of columns (`uint32` and `float64`), or the `MinMaxScaler` for the `float64` columns are the best options to consider\n",
    "\n",
    "With this, let's build the final `LogisticRegression` model and look at all the scores and confusion matrix."
   ]
  },
  {
   "cell_type": "code",
   "execution_count": 26,
   "id": "19d0da23-40e5-4cad-b965-8968e866691c",
   "metadata": {},
   "outputs": [],
   "source": [
    "# get ColumnTransformer with corresponding pipelines\n",
    "ct_mno = ml_util.feature_scaling_per_type(X_clusters['mno']['X_train'],'power','power')\n",
    "ct_compact = ml_util.feature_scaling_per_type(X_clusters['compact']['X_train'],'power','power')\n",
    "\n",
    "# LogisticRegression instance with settings\n",
    "log_model = LogisticRegression(random_state=RANDOM_STATE, penalty='l2', solver='newton-cholesky', \n",
    "                               class_weight='balanced', max_iter=3000)\n",
    "\n",
    "# Main pipeline for fitting.\n",
    "pipe_log_mno = Pipeline([\n",
    "                   ('column_transformer', ct_mno),\n",
    "                   ('logistic_regression', log_model)\n",
    "])\n",
    "\n",
    "pipe_log_compact = Pipeline([\n",
    "                   ('column_transformer', ct_compact),\n",
    "                   ('logistic_regression', log_model)\n",
    "])"
   ]
  },
  {
   "cell_type": "code",
   "execution_count": 27,
   "id": "ca2a95fc-39eb-4da5-9308-b2d5dfbd4196",
   "metadata": {},
   "outputs": [
    {
     "data": {
      "text/html": [
       "<style>#sk-container-id-2 {color: black;}#sk-container-id-2 pre{padding: 0;}#sk-container-id-2 div.sk-toggleable {background-color: white;}#sk-container-id-2 label.sk-toggleable__label {cursor: pointer;display: block;width: 100%;margin-bottom: 0;padding: 0.3em;box-sizing: border-box;text-align: center;}#sk-container-id-2 label.sk-toggleable__label-arrow:before {content: \"▸\";float: left;margin-right: 0.25em;color: #696969;}#sk-container-id-2 label.sk-toggleable__label-arrow:hover:before {color: black;}#sk-container-id-2 div.sk-estimator:hover label.sk-toggleable__label-arrow:before {color: black;}#sk-container-id-2 div.sk-toggleable__content {max-height: 0;max-width: 0;overflow: hidden;text-align: left;background-color: #f0f8ff;}#sk-container-id-2 div.sk-toggleable__content pre {margin: 0.2em;color: black;border-radius: 0.25em;background-color: #f0f8ff;}#sk-container-id-2 input.sk-toggleable__control:checked~div.sk-toggleable__content {max-height: 200px;max-width: 100%;overflow: auto;}#sk-container-id-2 input.sk-toggleable__control:checked~label.sk-toggleable__label-arrow:before {content: \"▾\";}#sk-container-id-2 div.sk-estimator input.sk-toggleable__control:checked~label.sk-toggleable__label {background-color: #d4ebff;}#sk-container-id-2 div.sk-label input.sk-toggleable__control:checked~label.sk-toggleable__label {background-color: #d4ebff;}#sk-container-id-2 input.sk-hidden--visually {border: 0;clip: rect(1px 1px 1px 1px);clip: rect(1px, 1px, 1px, 1px);height: 1px;margin: -1px;overflow: hidden;padding: 0;position: absolute;width: 1px;}#sk-container-id-2 div.sk-estimator {font-family: monospace;background-color: #f0f8ff;border: 1px dotted black;border-radius: 0.25em;box-sizing: border-box;margin-bottom: 0.5em;}#sk-container-id-2 div.sk-estimator:hover {background-color: #d4ebff;}#sk-container-id-2 div.sk-parallel-item::after {content: \"\";width: 100%;border-bottom: 1px solid gray;flex-grow: 1;}#sk-container-id-2 div.sk-label:hover label.sk-toggleable__label {background-color: #d4ebff;}#sk-container-id-2 div.sk-serial::before {content: \"\";position: absolute;border-left: 1px solid gray;box-sizing: border-box;top: 0;bottom: 0;left: 50%;z-index: 0;}#sk-container-id-2 div.sk-serial {display: flex;flex-direction: column;align-items: center;background-color: white;padding-right: 0.2em;padding-left: 0.2em;position: relative;}#sk-container-id-2 div.sk-item {position: relative;z-index: 1;}#sk-container-id-2 div.sk-parallel {display: flex;align-items: stretch;justify-content: center;background-color: white;position: relative;}#sk-container-id-2 div.sk-item::before, #sk-container-id-2 div.sk-parallel-item::before {content: \"\";position: absolute;border-left: 1px solid gray;box-sizing: border-box;top: 0;bottom: 0;left: 50%;z-index: -1;}#sk-container-id-2 div.sk-parallel-item {display: flex;flex-direction: column;z-index: 1;position: relative;background-color: white;}#sk-container-id-2 div.sk-parallel-item:first-child::after {align-self: flex-end;width: 50%;}#sk-container-id-2 div.sk-parallel-item:last-child::after {align-self: flex-start;width: 50%;}#sk-container-id-2 div.sk-parallel-item:only-child::after {width: 0;}#sk-container-id-2 div.sk-dashed-wrapped {border: 1px dashed gray;margin: 0 0.4em 0.5em 0.4em;box-sizing: border-box;padding-bottom: 0.4em;background-color: white;}#sk-container-id-2 div.sk-label label {font-family: monospace;font-weight: bold;display: inline-block;line-height: 1.2em;}#sk-container-id-2 div.sk-label-container {text-align: center;}#sk-container-id-2 div.sk-container {/* jupyter's `normalize.less` sets `[hidden] { display: none; }` but bootstrap.min.css set `[hidden] { display: none !important; }` so we also need the `!important` here to be able to override the default hidden behavior on the sphinx rendered scikit-learn.org. See: https://github.com/scikit-learn/scikit-learn/issues/21755 */display: inline-block !important;position: relative;}#sk-container-id-2 div.sk-text-repr-fallback {display: none;}</style><div id=\"sk-container-id-2\" class=\"sk-top-container\"><div class=\"sk-text-repr-fallback\"><pre>Pipeline(steps=[(&#x27;column_transformer&#x27;,\n",
       "                 ColumnTransformer(transformers=[(&#x27;scaler_uint32&#x27;,\n",
       "                                                  Pipeline(steps=[(&#x27;power&#x27;,\n",
       "                                                                   PowerTransformer())]),\n",
       "                                                  [&#x27;node1_nodes_roles_per_node&#x27;,\n",
       "                                                   &#x27;node2_nodes_roles_per_node&#x27;,\n",
       "                                                   &#x27;node3_nodes_roles_per_node&#x27;,\n",
       "                                                   &#x27;total_qty_nodes&#x27;,\n",
       "                                                   &#x27;total_qty_control_plane&#x27;,\n",
       "                                                   &#x27;total_qty_workers&#x27;,\n",
       "                                                   &#x27;total_nodes_ready&#x27;,\n",
       "                                                   &#x27;total_nodes_notready&#x27;,\n",
       "                                                   &#x27;total_nodes_unknown&#x27;...\n",
       "                                                   &#x27;node1_node_pod_container_resource_requests_memory&#x27;,\n",
       "                                                   &#x27;node1_node_pod_container_resource_limit_cpu&#x27;,\n",
       "                                                   &#x27;node2_node_pod_container_resource_limit_cpu&#x27;,\n",
       "                                                   &#x27;node3_node_pod_container_resource_limit_cpu&#x27;,\n",
       "                                                   &#x27;node1_node_capacity_cpu&#x27;,\n",
       "                                                   &#x27;node2_node_capacity_cpu&#x27;,\n",
       "                                                   &#x27;node3_node_capacity_cpu&#x27;, ...])])),\n",
       "                (&#x27;logistic_regression&#x27;,\n",
       "                 LogisticRegression(class_weight=&#x27;balanced&#x27;, max_iter=3000,\n",
       "                                    random_state=42,\n",
       "                                    solver=&#x27;newton-cholesky&#x27;))])</pre><b>In a Jupyter environment, please rerun this cell to show the HTML representation or trust the notebook. <br />On GitHub, the HTML representation is unable to render, please try loading this page with nbviewer.org.</b></div><div class=\"sk-container\" hidden><div class=\"sk-item sk-dashed-wrapped\"><div class=\"sk-label-container\"><div class=\"sk-label sk-toggleable\"><input class=\"sk-toggleable__control sk-hidden--visually\" id=\"sk-estimator-id-8\" type=\"checkbox\" ><label for=\"sk-estimator-id-8\" class=\"sk-toggleable__label sk-toggleable__label-arrow\">Pipeline</label><div class=\"sk-toggleable__content\"><pre>Pipeline(steps=[(&#x27;column_transformer&#x27;,\n",
       "                 ColumnTransformer(transformers=[(&#x27;scaler_uint32&#x27;,\n",
       "                                                  Pipeline(steps=[(&#x27;power&#x27;,\n",
       "                                                                   PowerTransformer())]),\n",
       "                                                  [&#x27;node1_nodes_roles_per_node&#x27;,\n",
       "                                                   &#x27;node2_nodes_roles_per_node&#x27;,\n",
       "                                                   &#x27;node3_nodes_roles_per_node&#x27;,\n",
       "                                                   &#x27;total_qty_nodes&#x27;,\n",
       "                                                   &#x27;total_qty_control_plane&#x27;,\n",
       "                                                   &#x27;total_qty_workers&#x27;,\n",
       "                                                   &#x27;total_nodes_ready&#x27;,\n",
       "                                                   &#x27;total_nodes_notready&#x27;,\n",
       "                                                   &#x27;total_nodes_unknown&#x27;...\n",
       "                                                   &#x27;node1_node_pod_container_resource_requests_memory&#x27;,\n",
       "                                                   &#x27;node1_node_pod_container_resource_limit_cpu&#x27;,\n",
       "                                                   &#x27;node2_node_pod_container_resource_limit_cpu&#x27;,\n",
       "                                                   &#x27;node3_node_pod_container_resource_limit_cpu&#x27;,\n",
       "                                                   &#x27;node1_node_capacity_cpu&#x27;,\n",
       "                                                   &#x27;node2_node_capacity_cpu&#x27;,\n",
       "                                                   &#x27;node3_node_capacity_cpu&#x27;, ...])])),\n",
       "                (&#x27;logistic_regression&#x27;,\n",
       "                 LogisticRegression(class_weight=&#x27;balanced&#x27;, max_iter=3000,\n",
       "                                    random_state=42,\n",
       "                                    solver=&#x27;newton-cholesky&#x27;))])</pre></div></div></div><div class=\"sk-serial\"><div class=\"sk-item sk-dashed-wrapped\"><div class=\"sk-label-container\"><div class=\"sk-label sk-toggleable\"><input class=\"sk-toggleable__control sk-hidden--visually\" id=\"sk-estimator-id-9\" type=\"checkbox\" ><label for=\"sk-estimator-id-9\" class=\"sk-toggleable__label sk-toggleable__label-arrow\">column_transformer: ColumnTransformer</label><div class=\"sk-toggleable__content\"><pre>ColumnTransformer(transformers=[(&#x27;scaler_uint32&#x27;,\n",
       "                                 Pipeline(steps=[(&#x27;power&#x27;,\n",
       "                                                  PowerTransformer())]),\n",
       "                                 [&#x27;node1_nodes_roles_per_node&#x27;,\n",
       "                                  &#x27;node2_nodes_roles_per_node&#x27;,\n",
       "                                  &#x27;node3_nodes_roles_per_node&#x27;,\n",
       "                                  &#x27;total_qty_nodes&#x27;, &#x27;total_qty_control_plane&#x27;,\n",
       "                                  &#x27;total_qty_workers&#x27;, &#x27;total_nodes_ready&#x27;,\n",
       "                                  &#x27;total_nodes_notready&#x27;, &#x27;total_nodes_unknown&#x27;,\n",
       "                                  &#x27;total_nodes_diskpressure&#x27;,\n",
       "                                  &#x27;total_nod...\n",
       "                                  &#x27;node2_node_pod_container_resource_requests_memory&#x27;,\n",
       "                                  &#x27;node3_node_pod_container_resource_requests_memory&#x27;,\n",
       "                                  &#x27;node1_node_pod_container_resource_requests_memory&#x27;,\n",
       "                                  &#x27;node1_node_pod_container_resource_limit_cpu&#x27;,\n",
       "                                  &#x27;node2_node_pod_container_resource_limit_cpu&#x27;,\n",
       "                                  &#x27;node3_node_pod_container_resource_limit_cpu&#x27;,\n",
       "                                  &#x27;node1_node_capacity_cpu&#x27;,\n",
       "                                  &#x27;node2_node_capacity_cpu&#x27;,\n",
       "                                  &#x27;node3_node_capacity_cpu&#x27;, ...])])</pre></div></div></div><div class=\"sk-parallel\"><div class=\"sk-parallel-item\"><div class=\"sk-item\"><div class=\"sk-label-container\"><div class=\"sk-label sk-toggleable\"><input class=\"sk-toggleable__control sk-hidden--visually\" id=\"sk-estimator-id-10\" type=\"checkbox\" ><label for=\"sk-estimator-id-10\" class=\"sk-toggleable__label sk-toggleable__label-arrow\">scaler_uint32</label><div class=\"sk-toggleable__content\"><pre>[&#x27;node1_nodes_roles_per_node&#x27;, &#x27;node2_nodes_roles_per_node&#x27;, &#x27;node3_nodes_roles_per_node&#x27;, &#x27;total_qty_nodes&#x27;, &#x27;total_qty_control_plane&#x27;, &#x27;total_qty_workers&#x27;, &#x27;total_nodes_ready&#x27;, &#x27;total_nodes_notready&#x27;, &#x27;total_nodes_unknown&#x27;, &#x27;total_nodes_diskpressure&#x27;, &#x27;total_node_memorypressure&#x27;, &#x27;total_node_pidpressure&#x27;, &#x27;node2_node_pod_qos_qty_burstable&#x27;, &#x27;node3_node_pod_qos_qty_burstable&#x27;, &#x27;node1_node_pod_qos_qty_burstable&#x27;, &#x27;node1_ephemeral_storage&#x27;, &#x27;node1_hugepages_1Gi&#x27;, &#x27;node1_hugepages_2Mi&#x27;, &#x27;node1_memory&#x27;, &#x27;node1_pods&#x27;, &#x27;node2_ephemeral_storage&#x27;, &#x27;node2_hugepages_1Gi&#x27;, &#x27;node2_hugepages_2Mi&#x27;, &#x27;node2_memory&#x27;, &#x27;node2_pods&#x27;, &#x27;node3_ephemeral_storage&#x27;, &#x27;node3_hugepages_1Gi&#x27;, &#x27;node3_hugepages_2Mi&#x27;, &#x27;node3_memory&#x27;, &#x27;node3_pods&#x27;, &#x27;node1_node_pod_total&#x27;, &#x27;node2_node_pod_total&#x27;, &#x27;node3_node_pod_total&#x27;, &#x27;node1_node_container_total&#x27;, &#x27;node2_node_container_total&#x27;, &#x27;node3_node_container_total&#x27;, &#x27;node2_apiserver_memory_usage&#x27;, &#x27;node3_apiserver_memory_usage&#x27;, &#x27;node1_apiserver_memory_usage&#x27;, &#x27;node1_openshift_apiserver_memory_usage&#x27;, &#x27;node3_openshift_apiserver_memory_usage&#x27;, &#x27;node2_openshift_apiserver_memory_usage&#x27;, &#x27;apiserver_max_inflight_requests_kube_apiserver&#x27;, &#x27;apiserver_max_inflight_requests_openshift_apiserver&#x27;, &#x27;cluster_pod_total&#x27;, &#x27;cluster_namespace_total&#x27;, &#x27;etcd_member_active&#x27;, &#x27;node1_etcd_db_size_bytes&#x27;, &#x27;node2_etcd_db_size_bytes&#x27;, &#x27;node3_etcd_db_size_bytes&#x27;, &#x27;node1_etcd_db_use_bytes&#x27;, &#x27;node2_etcd_db_use_bytes&#x27;, &#x27;node3_etcd_db_use_bytes&#x27;, &#x27;node1_etcd_object_counts&#x27;, &#x27;node2_etcd_object_counts&#x27;, &#x27;node3_etcd_object_counts&#x27;, &#x27;etcd_member_down_total&#x27;, &#x27;etcd_qty_grpc_requests_slow&#x27;, &#x27;node_pod_crashloopbackoff&#x27;, &#x27;node1_node_pod_qos_qty_guaranteed&#x27;, &#x27;node3_node_pod_qos_qty_guaranteed&#x27;, &#x27;node2_node_pod_qos_qty_guaranteed&#x27;, &#x27;node2_node_pod_qos_qty_besteffort&#x27;, &#x27;node1_node_pod_qos_qty_besteffort&#x27;, &#x27;node3_node_pod_qos_qty_besteffort&#x27;, &#x27;node4_nodes_roles_per_node&#x27;, &#x27;node5_nodes_roles_per_node&#x27;, &#x27;node6_nodes_roles_per_node&#x27;, &#x27;node5_node_pod_qos_qty_burstable&#x27;, &#x27;node6_node_pod_qos_qty_burstable&#x27;, &#x27;node4_node_pod_qos_qty_burstable&#x27;, &#x27;node4_ephemeral_storage&#x27;, &#x27;node4_hugepages_1Gi&#x27;, &#x27;node4_hugepages_2Mi&#x27;, &#x27;node4_memory&#x27;, &#x27;node4_pods&#x27;, &#x27;node5_ephemeral_storage&#x27;, &#x27;node5_hugepages_1Gi&#x27;, &#x27;node5_hugepages_2Mi&#x27;, &#x27;node5_memory&#x27;, &#x27;node5_pods&#x27;, &#x27;node6_ephemeral_storage&#x27;, &#x27;node6_hugepages_1Gi&#x27;, &#x27;node6_hugepages_2Mi&#x27;, &#x27;node6_memory&#x27;, &#x27;node6_pods&#x27;, &#x27;node4_node_pod_total&#x27;, &#x27;node5_node_pod_total&#x27;, &#x27;node6_node_pod_total&#x27;, &#x27;node4_node_container_total&#x27;, &#x27;node5_node_container_total&#x27;, &#x27;node6_node_container_total&#x27;, &#x27;node4_node_pod_qos_qty_besteffort&#x27;, &#x27;node5_node_pod_qos_qty_besteffort&#x27;, &#x27;node6_node_pod_qos_qty_besteffort&#x27;]</pre></div></div></div><div class=\"sk-serial\"><div class=\"sk-item\"><div class=\"sk-serial\"><div class=\"sk-item\"><div class=\"sk-estimator sk-toggleable\"><input class=\"sk-toggleable__control sk-hidden--visually\" id=\"sk-estimator-id-11\" type=\"checkbox\" ><label for=\"sk-estimator-id-11\" class=\"sk-toggleable__label sk-toggleable__label-arrow\">PowerTransformer</label><div class=\"sk-toggleable__content\"><pre>PowerTransformer()</pre></div></div></div></div></div></div></div></div><div class=\"sk-parallel-item\"><div class=\"sk-item\"><div class=\"sk-label-container\"><div class=\"sk-label sk-toggleable\"><input class=\"sk-toggleable__control sk-hidden--visually\" id=\"sk-estimator-id-12\" type=\"checkbox\" ><label for=\"sk-estimator-id-12\" class=\"sk-toggleable__label sk-toggleable__label-arrow\">scaler_float64</label><div class=\"sk-toggleable__content\"><pre>[&#x27;node1_node_load1&#x27;, &#x27;node2_node_load1&#x27;, &#x27;node3_node_load1&#x27;, &#x27;node1_node_load5&#x27;, &#x27;node2_node_load5&#x27;, &#x27;node3_node_load5&#x27;, &#x27;node1_node_load15&#x27;, &#x27;node2_node_load15&#x27;, &#x27;node3_node_load15&#x27;, &#x27;node2_node_pod_qos_mem_burstable&#x27;, &#x27;node3_node_pod_qos_mem_burstable&#x27;, &#x27;node1_node_pod_qos_mem_burstable&#x27;, &#x27;node2_node_pod_qos_cpu_burstable&#x27;, &#x27;node3_node_pod_qos_cpu_burstable&#x27;, &#x27;node1_node_pod_qos_cpu_burstable&#x27;, &#x27;node1_cpu&#x27;, &#x27;node2_cpu&#x27;, &#x27;node3_cpu&#x27;, &#x27;node2_node_pod_container_resource_requests_cpu&#x27;, &#x27;node3_node_pod_container_resource_requests_cpu&#x27;, &#x27;node1_node_pod_container_resource_requests_cpu&#x27;, &#x27;node2_node_pod_container_resource_requests_memory&#x27;, &#x27;node3_node_pod_container_resource_requests_memory&#x27;, &#x27;node1_node_pod_container_resource_requests_memory&#x27;, &#x27;node1_node_pod_container_resource_limit_cpu&#x27;, &#x27;node2_node_pod_container_resource_limit_cpu&#x27;, &#x27;node3_node_pod_container_resource_limit_cpu&#x27;, &#x27;node1_node_capacity_cpu&#x27;, &#x27;node2_node_capacity_cpu&#x27;, &#x27;node3_node_capacity_cpu&#x27;, &#x27;node1_node_capacity_memory&#x27;, &#x27;node2_node_capacity_memory&#x27;, &#x27;node3_node_capacity_memory&#x27;, &#x27;node1_node_capacity_pods&#x27;, &#x27;node2_node_capacity_pods&#x27;, &#x27;node3_node_capacity_pods&#x27;, &#x27;node1_node_capacity_ephemeral_storage&#x27;, &#x27;node2_node_capacity_ephemeral_storage&#x27;, &#x27;node3_node_capacity_ephemeral_storage&#x27;, &#x27;node1_node_capacity_hugepages_1Gi&#x27;, &#x27;node2_node_capacity_hugepages_1Gi&#x27;, &#x27;node3_node_capacity_hugepages_1Gi&#x27;, &#x27;node1_node_capacity_hugepages_2Mi&#x27;, &#x27;node2_node_capacity_hugepages_2Mi&#x27;, &#x27;node3_node_capacity_hugepages_2Mi&#x27;, &#x27;node1_node_cpu_utilization_p&#x27;, &#x27;node2_node_cpu_utilization_p&#x27;, &#x27;node3_node_cpu_utilization_p&#x27;, &#x27;node1_node_memory_utilization_p&#x27;, &#x27;node2_node_memory_utilization_p&#x27;, &#x27;node3_node_memory_utilization_p&#x27;, &#x27;node1_node_pod_system_cluster_critical&#x27;, &#x27;node2_node_pod_system_cluster_critical&#x27;, &#x27;node3_node_pod_system_cluster_critical&#x27;, &#x27;node1_node_pod_system_node_critical&#x27;, &#x27;node2_node_pod_system_node_critical&#x27;, &#x27;node3_node_pod_system_node_critical&#x27;, &#x27;node1_node_pod_openshift_user_critical&#x27;, &#x27;node2_node_pod_openshift_user_critical&#x27;, &#x27;node3_node_pod_openshift_user_critical&#x27;, &#x27;node1_kubelet_health_failures&#x27;, &#x27;node2_kubelet_health_failures&#x27;, &#x27;node3_kubelet_health_failures&#x27;, &#x27;node3_create_container&#x27;, &#x27;node3_podsandbox_status&#x27;, &#x27;node3_pull_image&#x27;, &#x27;node1_exec_sync&#x27;, &#x27;node1_list_images&#x27;, &#x27;node1_pull_image&#x27;, &#x27;node2_exec_sync&#x27;, &#x27;node2_podsandbox_status&#x27;, &#x27;node3_status&#x27;, &#x27;node3_stop_podsandbox&#x27;, &#x27;node3_remove_podsandbox&#x27;, &#x27;node3_start_container&#x27;, &#x27;node1_run_podsandbox&#x27;, &#x27;node1_status&#x27;, &#x27;node2_list_containers&#x27;, &#x27;node2_list_podsandbox&#x27;, &#x27;node1_podsandbox_status&#x27;, &#x27;node1_remove_container&#x27;, &#x27;node1_stop_container&#x27;, &#x27;node3_container_status&#x27;, &#x27;node3_image_status&#x27;, &#x27;node3_exec_sync&#x27;, &#x27;node3_stop_container&#x27;, &#x27;node1_image_status&#x27;, &#x27;node1_stop_podsandbox&#x27;, &#x27;node2_container_status&#x27;, &#x27;node2_remove_container&#x27;, &#x27;node2_remove_podsandbox&#x27;, &#x27;node2_status&#x27;, &#x27;node2_stop_container&#x27;, &#x27;node2_stop_podsandbox&#x27;, &#x27;node1_container_status&#x27;, &#x27;node1_list_containers&#x27;, &#x27;node1_list_podsandbox&#x27;, &#x27;node2_run_podsandbox&#x27;, &#x27;node2_start_container&#x27;, &#x27;node3_remove_container&#x27;, &#x27;node3_run_podsandbox&#x27;, &#x27;node2_create_container&#x27;, &#x27;node2_image_status&#x27;, &#x27;node2_pull_image&#x27;, &#x27;node1_create_container&#x27;, &#x27;node1_start_container&#x27;, &#x27;node2_list_images&#x27;, &#x27;node3_list_images&#x27;, &#x27;node1_remove_podsandbox&#x27;, &#x27;node3_list_containers&#x27;, &#x27;node3_list_podsandbox&#x27;, &#x27;node1_default&#x27;, &#x27;node2_default&#x27;, &#x27;node3_default&#x27;, &#x27;node1_node_uptime&#x27;, &#x27;node2_node_uptime&#x27;, &#x27;node3_node_uptime&#x27;, &#x27;node1_total_node_net_receive_bytes&#x27;, &#x27;node2_total_node_net_receive_bytes&#x27;, &#x27;node3_total_node_net_receive_bytes&#x27;, &#x27;node1_total_node_net_transmit_bytes&#x27;, &#x27;node2_total_node_net_transmit_bytes&#x27;, &#x27;node3_total_node_net_transmit_bytes&#x27;, &#x27;apiserver_errors&#x27;, &#x27;apiserver_latency_resource&#x27;, &#x27;apiserver_latency_cluster&#x27;, &#x27;apiserver_requests_duration_seconds_GET&#x27;, &#x27;apiserver_requests_duration_seconds_PUT&#x27;, &#x27;apiserver_requests_duration_seconds_APPLY&#x27;, &#x27;apiserver_requests_duration_seconds_DELETE&#x27;, &#x27;apiserver_requests_duration_seconds_PATCH&#x27;, &#x27;apiserver_requests_duration_seconds_POST&#x27;, &#x27;apiserver_requests_duration_seconds_LIST&#x27;, &#x27;apiserver_request_read_total&#x27;, &#x27;apiserver_request_write_total&#x27;, &#x27;cluster_control_plane_utilization&#x27;, &#x27;node1_etcd_network_peer_rtt&#x27;, &#x27;node2_etcd_network_peer_rtt&#x27;, &#x27;node3_etcd_network_peer_rtt&#x27;, &#x27;node1_etcd_failed_proposal&#x27;, &#x27;node2_etcd_failed_proposal&#x27;, &#x27;node3_etcd_failed_proposal&#x27;, &#x27;node3_etcd_fsync_duration&#x27;, &#x27;node1_etcd_fsync_duration&#x27;, &#x27;node2_etcd_fsync_duration&#x27;, &#x27;etcd_high_failed_grpc_requests&#x27;, &#x27;etcd_number_leader_changes&#x27;, &#x27;workqueue_queue_waiting_time_total&#x27;, &#x27;workqueue_queue_work_time_total&#x27;, &#x27;workqueue_retries_rate&#x27;, &#x27;node1_node_pod_qos_mem_guaranteed&#x27;, &#x27;node2_node_pod_qos_mem_guaranteed&#x27;, &#x27;node1_node_pod_qos_cpu_guaranteed&#x27;, &#x27;node3_node_pod_qos_mem_guaranteed&#x27;, &#x27;node3_node_pod_qos_cpu_guaranteed&#x27;, &#x27;node2_node_pod_qos_cpu_guaranteed&#x27;, &#x27;node1_node_pod_qos_mem_besteffort&#x27;, &#x27;node3_node_pod_qos_mem_besteffort&#x27;, &#x27;node2_node_pod_qos_mem_besteffort&#x27;, &#x27;node2_node_pod_qos_cpu_besteffort&#x27;, &#x27;node3_node_pod_qos_cpu_besteffort&#x27;, &#x27;node1_node_pod_qos_cpu_besteffort&#x27;, &#x27;node4_node_load1&#x27;, &#x27;node5_node_load1&#x27;, &#x27;node6_node_load1&#x27;, &#x27;node4_node_load5&#x27;, &#x27;node5_node_load5&#x27;, &#x27;node6_node_load5&#x27;, &#x27;node4_node_load15&#x27;, &#x27;node5_node_load15&#x27;, &#x27;node6_node_load15&#x27;, &#x27;node5_node_pod_qos_mem_burstable&#x27;, &#x27;node6_node_pod_qos_mem_burstable&#x27;, &#x27;node4_node_pod_qos_mem_burstable&#x27;, &#x27;node5_node_pod_qos_cpu_burstable&#x27;, &#x27;node6_node_pod_qos_cpu_burstable&#x27;, &#x27;node4_node_pod_qos_cpu_burstable&#x27;, &#x27;node4_cpu&#x27;, &#x27;node5_cpu&#x27;, &#x27;node6_cpu&#x27;, &#x27;node5_node_pod_container_resource_requests_cpu&#x27;, &#x27;node6_node_pod_container_resource_requests_cpu&#x27;, &#x27;node4_node_pod_container_resource_requests_cpu&#x27;, &#x27;node5_node_pod_container_resource_requests_memory&#x27;, &#x27;node6_node_pod_container_resource_requests_memory&#x27;, &#x27;node4_node_pod_container_resource_requests_memory&#x27;, &#x27;node4_node_capacity_cpu&#x27;, &#x27;node5_node_capacity_cpu&#x27;, &#x27;node6_node_capacity_cpu&#x27;, &#x27;node4_node_capacity_memory&#x27;, &#x27;node5_node_capacity_memory&#x27;, &#x27;node6_node_capacity_memory&#x27;, &#x27;node4_node_capacity_pods&#x27;, &#x27;node5_node_capacity_pods&#x27;, &#x27;node6_node_capacity_pods&#x27;, &#x27;node4_node_capacity_ephemeral_storage&#x27;, &#x27;node5_node_capacity_ephemeral_storage&#x27;, &#x27;node6_node_capacity_ephemeral_storage&#x27;, &#x27;node4_node_capacity_hugepages_1Gi&#x27;, &#x27;node5_node_capacity_hugepages_1Gi&#x27;, &#x27;node6_node_capacity_hugepages_1Gi&#x27;, &#x27;node4_node_capacity_hugepages_2Mi&#x27;, &#x27;node5_node_capacity_hugepages_2Mi&#x27;, &#x27;node6_node_capacity_hugepages_2Mi&#x27;, &#x27;node4_node_cpu_utilization_p&#x27;, &#x27;node5_node_cpu_utilization_p&#x27;, &#x27;node6_node_cpu_utilization_p&#x27;, &#x27;node4_node_memory_utilization_p&#x27;, &#x27;node5_node_memory_utilization_p&#x27;, &#x27;node6_node_memory_utilization_p&#x27;, &#x27;node4_node_pod_system_cluster_critical&#x27;, &#x27;node5_node_pod_system_cluster_critical&#x27;, &#x27;node6_node_pod_system_cluster_critical&#x27;, &#x27;node4_node_pod_system_node_critical&#x27;, &#x27;node5_node_pod_system_node_critical&#x27;, &#x27;node6_node_pod_system_node_critical&#x27;, &#x27;node4_node_pod_openshift_user_critical&#x27;, &#x27;node5_node_pod_openshift_user_critical&#x27;, &#x27;node6_node_pod_openshift_user_critical&#x27;, &#x27;node4_kubelet_health_failures&#x27;, &#x27;node5_kubelet_health_failures&#x27;, &#x27;node6_kubelet_health_failures&#x27;, &#x27;node5_exec_sync&#x27;, &#x27;node5_list_containers&#x27;, &#x27;node5_list_podsandbox&#x27;, &#x27;node5_start_container&#x27;, &#x27;node6_create_container&#x27;, &#x27;node4_pull_image&#x27;, &#x27;node6_podsandbox_status&#x27;, &#x27;node4_remove_container&#x27;, &#x27;node4_stop_container&#x27;, &#x27;node6_stop_container&#x27;, &#x27;node4_image_status&#x27;, &#x27;node4_exec_sync&#x27;, &#x27;node4_list_containers&#x27;, &#x27;node4_list_podsandbox&#x27;, &#x27;node4_run_podsandbox&#x27;, &#x27;node4_create_container&#x27;, &#x27;node4_start_container&#x27;, &#x27;node6_run_podsandbox&#x27;, &#x27;node6_remove_podsandbox&#x27;, &#x27;node4_status&#x27;, &#x27;node6_exec_sync&#x27;, &#x27;node4_stop_podsandbox&#x27;, &#x27;node5_image_status&#x27;, &#x27;node4_container_status&#x27;, &#x27;node5_podsandbox_status&#x27;, &#x27;node5_remove_container&#x27;, &#x27;node6_pull_image&#x27;, &#x27;node5_list_images&#x27;, &#x27;node6_image_status&#x27;, &#x27;node6_list_containers&#x27;, &#x27;node6_list_podsandbox&#x27;, &#x27;node6_start_container&#x27;, &#x27;node4_list_images&#x27;, &#x27;node6_container_status&#x27;, &#x27;node6_list_images&#x27;, &#x27;node6_status&#x27;, &#x27;node5_create_container&#x27;, &#x27;node5_remove_podsandbox&#x27;, &#x27;node5_stop_podsandbox&#x27;, &#x27;node6_remove_container&#x27;, &#x27;node6_stop_podsandbox&#x27;, &#x27;node4_podsandbox_status&#x27;, &#x27;node5_pull_image&#x27;, &#x27;node5_run_podsandbox&#x27;, &#x27;node5_status&#x27;, &#x27;node4_remove_podsandbox&#x27;, &#x27;node5_container_status&#x27;, &#x27;node5_stop_container&#x27;, &#x27;node4_default&#x27;, &#x27;node5_default&#x27;, &#x27;node6_default&#x27;, &#x27;node4_node_uptime&#x27;, &#x27;node5_node_uptime&#x27;, &#x27;node6_node_uptime&#x27;, &#x27;node4_total_node_net_receive_bytes&#x27;, &#x27;node5_total_node_net_receive_bytes&#x27;, &#x27;node6_total_node_net_receive_bytes&#x27;, &#x27;node4_total_node_net_transmit_bytes&#x27;, &#x27;node5_total_node_net_transmit_bytes&#x27;, &#x27;node6_total_node_net_transmit_bytes&#x27;, &#x27;node4_node_pod_qos_mem_besteffort&#x27;, &#x27;node5_node_pod_qos_mem_besteffort&#x27;, &#x27;node6_node_pod_qos_mem_besteffort&#x27;, &#x27;node4_node_pod_qos_cpu_besteffort&#x27;, &#x27;node6_node_pod_qos_cpu_besteffort&#x27;, &#x27;node5_node_pod_qos_cpu_besteffort&#x27;, &#x27;node4_node_pod_container_resource_limit_cpu&#x27;, &#x27;node5_node_pod_container_resource_limit_cpu&#x27;, &#x27;node6_node_pod_container_resource_limit_cpu&#x27;]</pre></div></div></div><div class=\"sk-serial\"><div class=\"sk-item\"><div class=\"sk-serial\"><div class=\"sk-item\"><div class=\"sk-estimator sk-toggleable\"><input class=\"sk-toggleable__control sk-hidden--visually\" id=\"sk-estimator-id-13\" type=\"checkbox\" ><label for=\"sk-estimator-id-13\" class=\"sk-toggleable__label sk-toggleable__label-arrow\">PowerTransformer</label><div class=\"sk-toggleable__content\"><pre>PowerTransformer()</pre></div></div></div></div></div></div></div></div></div></div><div class=\"sk-item\"><div class=\"sk-estimator sk-toggleable\"><input class=\"sk-toggleable__control sk-hidden--visually\" id=\"sk-estimator-id-14\" type=\"checkbox\" ><label for=\"sk-estimator-id-14\" class=\"sk-toggleable__label sk-toggleable__label-arrow\">LogisticRegression</label><div class=\"sk-toggleable__content\"><pre>LogisticRegression(class_weight=&#x27;balanced&#x27;, max_iter=3000, random_state=42,\n",
       "                   solver=&#x27;newton-cholesky&#x27;)</pre></div></div></div></div></div></div></div>"
      ],
      "text/plain": [
       "Pipeline(steps=[('column_transformer',\n",
       "                 ColumnTransformer(transformers=[('scaler_uint32',\n",
       "                                                  Pipeline(steps=[('power',\n",
       "                                                                   PowerTransformer())]),\n",
       "                                                  ['node1_nodes_roles_per_node',\n",
       "                                                   'node2_nodes_roles_per_node',\n",
       "                                                   'node3_nodes_roles_per_node',\n",
       "                                                   'total_qty_nodes',\n",
       "                                                   'total_qty_control_plane',\n",
       "                                                   'total_qty_workers',\n",
       "                                                   'total_nodes_ready',\n",
       "                                                   'total_nodes_notready',\n",
       "                                                   'total_nodes_unknown'...\n",
       "                                                   'node1_node_pod_container_resource_requests_memory',\n",
       "                                                   'node1_node_pod_container_resource_limit_cpu',\n",
       "                                                   'node2_node_pod_container_resource_limit_cpu',\n",
       "                                                   'node3_node_pod_container_resource_limit_cpu',\n",
       "                                                   'node1_node_capacity_cpu',\n",
       "                                                   'node2_node_capacity_cpu',\n",
       "                                                   'node3_node_capacity_cpu', ...])])),\n",
       "                ('logistic_regression',\n",
       "                 LogisticRegression(class_weight='balanced', max_iter=3000,\n",
       "                                    random_state=42,\n",
       "                                    solver='newton-cholesky'))])"
      ]
     },
     "execution_count": 27,
     "metadata": {},
     "output_type": "execute_result"
    }
   ],
   "source": [
    "# Train mno cluster model\n",
    "pipe_log_mno.fit(X_clusters['mno']['X_train'], X_clusters['mno']['y_train_logreg'])"
   ]
  },
  {
   "cell_type": "code",
   "execution_count": 28,
   "id": "671eefe9-48c1-481c-89de-42d6040234a1",
   "metadata": {},
   "outputs": [
    {
     "data": {
      "text/html": [
       "<style>#sk-container-id-3 {color: black;}#sk-container-id-3 pre{padding: 0;}#sk-container-id-3 div.sk-toggleable {background-color: white;}#sk-container-id-3 label.sk-toggleable__label {cursor: pointer;display: block;width: 100%;margin-bottom: 0;padding: 0.3em;box-sizing: border-box;text-align: center;}#sk-container-id-3 label.sk-toggleable__label-arrow:before {content: \"▸\";float: left;margin-right: 0.25em;color: #696969;}#sk-container-id-3 label.sk-toggleable__label-arrow:hover:before {color: black;}#sk-container-id-3 div.sk-estimator:hover label.sk-toggleable__label-arrow:before {color: black;}#sk-container-id-3 div.sk-toggleable__content {max-height: 0;max-width: 0;overflow: hidden;text-align: left;background-color: #f0f8ff;}#sk-container-id-3 div.sk-toggleable__content pre {margin: 0.2em;color: black;border-radius: 0.25em;background-color: #f0f8ff;}#sk-container-id-3 input.sk-toggleable__control:checked~div.sk-toggleable__content {max-height: 200px;max-width: 100%;overflow: auto;}#sk-container-id-3 input.sk-toggleable__control:checked~label.sk-toggleable__label-arrow:before {content: \"▾\";}#sk-container-id-3 div.sk-estimator input.sk-toggleable__control:checked~label.sk-toggleable__label {background-color: #d4ebff;}#sk-container-id-3 div.sk-label input.sk-toggleable__control:checked~label.sk-toggleable__label {background-color: #d4ebff;}#sk-container-id-3 input.sk-hidden--visually {border: 0;clip: rect(1px 1px 1px 1px);clip: rect(1px, 1px, 1px, 1px);height: 1px;margin: -1px;overflow: hidden;padding: 0;position: absolute;width: 1px;}#sk-container-id-3 div.sk-estimator {font-family: monospace;background-color: #f0f8ff;border: 1px dotted black;border-radius: 0.25em;box-sizing: border-box;margin-bottom: 0.5em;}#sk-container-id-3 div.sk-estimator:hover {background-color: #d4ebff;}#sk-container-id-3 div.sk-parallel-item::after {content: \"\";width: 100%;border-bottom: 1px solid gray;flex-grow: 1;}#sk-container-id-3 div.sk-label:hover label.sk-toggleable__label {background-color: #d4ebff;}#sk-container-id-3 div.sk-serial::before {content: \"\";position: absolute;border-left: 1px solid gray;box-sizing: border-box;top: 0;bottom: 0;left: 50%;z-index: 0;}#sk-container-id-3 div.sk-serial {display: flex;flex-direction: column;align-items: center;background-color: white;padding-right: 0.2em;padding-left: 0.2em;position: relative;}#sk-container-id-3 div.sk-item {position: relative;z-index: 1;}#sk-container-id-3 div.sk-parallel {display: flex;align-items: stretch;justify-content: center;background-color: white;position: relative;}#sk-container-id-3 div.sk-item::before, #sk-container-id-3 div.sk-parallel-item::before {content: \"\";position: absolute;border-left: 1px solid gray;box-sizing: border-box;top: 0;bottom: 0;left: 50%;z-index: -1;}#sk-container-id-3 div.sk-parallel-item {display: flex;flex-direction: column;z-index: 1;position: relative;background-color: white;}#sk-container-id-3 div.sk-parallel-item:first-child::after {align-self: flex-end;width: 50%;}#sk-container-id-3 div.sk-parallel-item:last-child::after {align-self: flex-start;width: 50%;}#sk-container-id-3 div.sk-parallel-item:only-child::after {width: 0;}#sk-container-id-3 div.sk-dashed-wrapped {border: 1px dashed gray;margin: 0 0.4em 0.5em 0.4em;box-sizing: border-box;padding-bottom: 0.4em;background-color: white;}#sk-container-id-3 div.sk-label label {font-family: monospace;font-weight: bold;display: inline-block;line-height: 1.2em;}#sk-container-id-3 div.sk-label-container {text-align: center;}#sk-container-id-3 div.sk-container {/* jupyter's `normalize.less` sets `[hidden] { display: none; }` but bootstrap.min.css set `[hidden] { display: none !important; }` so we also need the `!important` here to be able to override the default hidden behavior on the sphinx rendered scikit-learn.org. See: https://github.com/scikit-learn/scikit-learn/issues/21755 */display: inline-block !important;position: relative;}#sk-container-id-3 div.sk-text-repr-fallback {display: none;}</style><div id=\"sk-container-id-3\" class=\"sk-top-container\"><div class=\"sk-text-repr-fallback\"><pre>Pipeline(steps=[(&#x27;column_transformer&#x27;,\n",
       "                 ColumnTransformer(transformers=[(&#x27;scaler_uint32&#x27;,\n",
       "                                                  Pipeline(steps=[(&#x27;power&#x27;,\n",
       "                                                                   PowerTransformer())]),\n",
       "                                                  [&#x27;node1_nodes_roles_per_node&#x27;,\n",
       "                                                   &#x27;node2_nodes_roles_per_node&#x27;,\n",
       "                                                   &#x27;node3_nodes_roles_per_node&#x27;,\n",
       "                                                   &#x27;total_qty_nodes&#x27;,\n",
       "                                                   &#x27;total_qty_control_plane&#x27;,\n",
       "                                                   &#x27;total_qty_workers&#x27;,\n",
       "                                                   &#x27;total_nodes_ready&#x27;,\n",
       "                                                   &#x27;total_nodes_notready&#x27;,\n",
       "                                                   &#x27;total_nodes_unknown&#x27;...\n",
       "                                                   &#x27;node1_node_pod_container_resource_requests_memory&#x27;,\n",
       "                                                   &#x27;node1_node_pod_container_resource_limit_cpu&#x27;,\n",
       "                                                   &#x27;node2_node_pod_container_resource_limit_cpu&#x27;,\n",
       "                                                   &#x27;node3_node_pod_container_resource_limit_cpu&#x27;,\n",
       "                                                   &#x27;node1_node_capacity_cpu&#x27;,\n",
       "                                                   &#x27;node2_node_capacity_cpu&#x27;,\n",
       "                                                   &#x27;node3_node_capacity_cpu&#x27;, ...])])),\n",
       "                (&#x27;logistic_regression&#x27;,\n",
       "                 LogisticRegression(class_weight=&#x27;balanced&#x27;, max_iter=3000,\n",
       "                                    random_state=42,\n",
       "                                    solver=&#x27;newton-cholesky&#x27;))])</pre><b>In a Jupyter environment, please rerun this cell to show the HTML representation or trust the notebook. <br />On GitHub, the HTML representation is unable to render, please try loading this page with nbviewer.org.</b></div><div class=\"sk-container\" hidden><div class=\"sk-item sk-dashed-wrapped\"><div class=\"sk-label-container\"><div class=\"sk-label sk-toggleable\"><input class=\"sk-toggleable__control sk-hidden--visually\" id=\"sk-estimator-id-15\" type=\"checkbox\" ><label for=\"sk-estimator-id-15\" class=\"sk-toggleable__label sk-toggleable__label-arrow\">Pipeline</label><div class=\"sk-toggleable__content\"><pre>Pipeline(steps=[(&#x27;column_transformer&#x27;,\n",
       "                 ColumnTransformer(transformers=[(&#x27;scaler_uint32&#x27;,\n",
       "                                                  Pipeline(steps=[(&#x27;power&#x27;,\n",
       "                                                                   PowerTransformer())]),\n",
       "                                                  [&#x27;node1_nodes_roles_per_node&#x27;,\n",
       "                                                   &#x27;node2_nodes_roles_per_node&#x27;,\n",
       "                                                   &#x27;node3_nodes_roles_per_node&#x27;,\n",
       "                                                   &#x27;total_qty_nodes&#x27;,\n",
       "                                                   &#x27;total_qty_control_plane&#x27;,\n",
       "                                                   &#x27;total_qty_workers&#x27;,\n",
       "                                                   &#x27;total_nodes_ready&#x27;,\n",
       "                                                   &#x27;total_nodes_notready&#x27;,\n",
       "                                                   &#x27;total_nodes_unknown&#x27;...\n",
       "                                                   &#x27;node1_node_pod_container_resource_requests_memory&#x27;,\n",
       "                                                   &#x27;node1_node_pod_container_resource_limit_cpu&#x27;,\n",
       "                                                   &#x27;node2_node_pod_container_resource_limit_cpu&#x27;,\n",
       "                                                   &#x27;node3_node_pod_container_resource_limit_cpu&#x27;,\n",
       "                                                   &#x27;node1_node_capacity_cpu&#x27;,\n",
       "                                                   &#x27;node2_node_capacity_cpu&#x27;,\n",
       "                                                   &#x27;node3_node_capacity_cpu&#x27;, ...])])),\n",
       "                (&#x27;logistic_regression&#x27;,\n",
       "                 LogisticRegression(class_weight=&#x27;balanced&#x27;, max_iter=3000,\n",
       "                                    random_state=42,\n",
       "                                    solver=&#x27;newton-cholesky&#x27;))])</pre></div></div></div><div class=\"sk-serial\"><div class=\"sk-item sk-dashed-wrapped\"><div class=\"sk-label-container\"><div class=\"sk-label sk-toggleable\"><input class=\"sk-toggleable__control sk-hidden--visually\" id=\"sk-estimator-id-16\" type=\"checkbox\" ><label for=\"sk-estimator-id-16\" class=\"sk-toggleable__label sk-toggleable__label-arrow\">column_transformer: ColumnTransformer</label><div class=\"sk-toggleable__content\"><pre>ColumnTransformer(transformers=[(&#x27;scaler_uint32&#x27;,\n",
       "                                 Pipeline(steps=[(&#x27;power&#x27;,\n",
       "                                                  PowerTransformer())]),\n",
       "                                 [&#x27;node1_nodes_roles_per_node&#x27;,\n",
       "                                  &#x27;node2_nodes_roles_per_node&#x27;,\n",
       "                                  &#x27;node3_nodes_roles_per_node&#x27;,\n",
       "                                  &#x27;total_qty_nodes&#x27;, &#x27;total_qty_control_plane&#x27;,\n",
       "                                  &#x27;total_qty_workers&#x27;, &#x27;total_nodes_ready&#x27;,\n",
       "                                  &#x27;total_nodes_notready&#x27;, &#x27;total_nodes_unknown&#x27;,\n",
       "                                  &#x27;total_nodes_diskpressure&#x27;,\n",
       "                                  &#x27;total_nod...\n",
       "                                  &#x27;node2_node_pod_container_resource_requests_memory&#x27;,\n",
       "                                  &#x27;node3_node_pod_container_resource_requests_memory&#x27;,\n",
       "                                  &#x27;node1_node_pod_container_resource_requests_memory&#x27;,\n",
       "                                  &#x27;node1_node_pod_container_resource_limit_cpu&#x27;,\n",
       "                                  &#x27;node2_node_pod_container_resource_limit_cpu&#x27;,\n",
       "                                  &#x27;node3_node_pod_container_resource_limit_cpu&#x27;,\n",
       "                                  &#x27;node1_node_capacity_cpu&#x27;,\n",
       "                                  &#x27;node2_node_capacity_cpu&#x27;,\n",
       "                                  &#x27;node3_node_capacity_cpu&#x27;, ...])])</pre></div></div></div><div class=\"sk-parallel\"><div class=\"sk-parallel-item\"><div class=\"sk-item\"><div class=\"sk-label-container\"><div class=\"sk-label sk-toggleable\"><input class=\"sk-toggleable__control sk-hidden--visually\" id=\"sk-estimator-id-17\" type=\"checkbox\" ><label for=\"sk-estimator-id-17\" class=\"sk-toggleable__label sk-toggleable__label-arrow\">scaler_uint32</label><div class=\"sk-toggleable__content\"><pre>[&#x27;node1_nodes_roles_per_node&#x27;, &#x27;node2_nodes_roles_per_node&#x27;, &#x27;node3_nodes_roles_per_node&#x27;, &#x27;total_qty_nodes&#x27;, &#x27;total_qty_control_plane&#x27;, &#x27;total_qty_workers&#x27;, &#x27;total_nodes_ready&#x27;, &#x27;total_nodes_notready&#x27;, &#x27;total_nodes_unknown&#x27;, &#x27;total_nodes_diskpressure&#x27;, &#x27;total_node_memorypressure&#x27;, &#x27;total_node_pidpressure&#x27;, &#x27;node2_node_pod_qos_qty_burstable&#x27;, &#x27;node3_node_pod_qos_qty_burstable&#x27;, &#x27;node1_node_pod_qos_qty_burstable&#x27;, &#x27;node1_ephemeral_storage&#x27;, &#x27;node1_hugepages_1Gi&#x27;, &#x27;node1_hugepages_2Mi&#x27;, &#x27;node1_memory&#x27;, &#x27;node1_pods&#x27;, &#x27;node2_ephemeral_storage&#x27;, &#x27;node2_hugepages_1Gi&#x27;, &#x27;node2_hugepages_2Mi&#x27;, &#x27;node2_memory&#x27;, &#x27;node2_pods&#x27;, &#x27;node3_ephemeral_storage&#x27;, &#x27;node3_hugepages_1Gi&#x27;, &#x27;node3_hugepages_2Mi&#x27;, &#x27;node3_memory&#x27;, &#x27;node3_pods&#x27;, &#x27;node1_node_pod_total&#x27;, &#x27;node2_node_pod_total&#x27;, &#x27;node3_node_pod_total&#x27;, &#x27;node1_node_container_total&#x27;, &#x27;node2_node_container_total&#x27;, &#x27;node3_node_container_total&#x27;, &#x27;node2_apiserver_memory_usage&#x27;, &#x27;node3_apiserver_memory_usage&#x27;, &#x27;node1_apiserver_memory_usage&#x27;, &#x27;node1_openshift_apiserver_memory_usage&#x27;, &#x27;node3_openshift_apiserver_memory_usage&#x27;, &#x27;node2_openshift_apiserver_memory_usage&#x27;, &#x27;apiserver_max_inflight_requests_kube_apiserver&#x27;, &#x27;apiserver_max_inflight_requests_openshift_apiserver&#x27;, &#x27;cluster_pod_total&#x27;, &#x27;cluster_namespace_total&#x27;, &#x27;etcd_member_active&#x27;, &#x27;node1_etcd_db_size_bytes&#x27;, &#x27;node2_etcd_db_size_bytes&#x27;, &#x27;node3_etcd_db_size_bytes&#x27;, &#x27;node1_etcd_db_use_bytes&#x27;, &#x27;node2_etcd_db_use_bytes&#x27;, &#x27;node3_etcd_db_use_bytes&#x27;, &#x27;node1_etcd_object_counts&#x27;, &#x27;node2_etcd_object_counts&#x27;, &#x27;node3_etcd_object_counts&#x27;, &#x27;etcd_member_down_total&#x27;, &#x27;etcd_qty_grpc_requests_slow&#x27;, &#x27;node_pod_crashloopbackoff&#x27;, &#x27;node1_node_pod_qos_qty_guaranteed&#x27;, &#x27;node3_node_pod_qos_qty_guaranteed&#x27;, &#x27;node2_node_pod_qos_qty_guaranteed&#x27;, &#x27;node2_node_pod_qos_qty_besteffort&#x27;, &#x27;node1_node_pod_qos_qty_besteffort&#x27;, &#x27;node3_node_pod_qos_qty_besteffort&#x27;, &#x27;node4_nodes_roles_per_node&#x27;, &#x27;node5_nodes_roles_per_node&#x27;, &#x27;node6_nodes_roles_per_node&#x27;, &#x27;node5_node_pod_qos_qty_burstable&#x27;, &#x27;node6_node_pod_qos_qty_burstable&#x27;, &#x27;node4_node_pod_qos_qty_burstable&#x27;, &#x27;node4_ephemeral_storage&#x27;, &#x27;node4_hugepages_1Gi&#x27;, &#x27;node4_hugepages_2Mi&#x27;, &#x27;node4_memory&#x27;, &#x27;node4_pods&#x27;, &#x27;node5_ephemeral_storage&#x27;, &#x27;node5_hugepages_1Gi&#x27;, &#x27;node5_hugepages_2Mi&#x27;, &#x27;node5_memory&#x27;, &#x27;node5_pods&#x27;, &#x27;node6_ephemeral_storage&#x27;, &#x27;node6_hugepages_1Gi&#x27;, &#x27;node6_hugepages_2Mi&#x27;, &#x27;node6_memory&#x27;, &#x27;node6_pods&#x27;, &#x27;node4_node_pod_total&#x27;, &#x27;node5_node_pod_total&#x27;, &#x27;node6_node_pod_total&#x27;, &#x27;node4_node_container_total&#x27;, &#x27;node5_node_container_total&#x27;, &#x27;node6_node_container_total&#x27;, &#x27;node4_node_pod_qos_qty_besteffort&#x27;, &#x27;node5_node_pod_qos_qty_besteffort&#x27;, &#x27;node6_node_pod_qos_qty_besteffort&#x27;]</pre></div></div></div><div class=\"sk-serial\"><div class=\"sk-item\"><div class=\"sk-serial\"><div class=\"sk-item\"><div class=\"sk-estimator sk-toggleable\"><input class=\"sk-toggleable__control sk-hidden--visually\" id=\"sk-estimator-id-18\" type=\"checkbox\" ><label for=\"sk-estimator-id-18\" class=\"sk-toggleable__label sk-toggleable__label-arrow\">PowerTransformer</label><div class=\"sk-toggleable__content\"><pre>PowerTransformer()</pre></div></div></div></div></div></div></div></div><div class=\"sk-parallel-item\"><div class=\"sk-item\"><div class=\"sk-label-container\"><div class=\"sk-label sk-toggleable\"><input class=\"sk-toggleable__control sk-hidden--visually\" id=\"sk-estimator-id-19\" type=\"checkbox\" ><label for=\"sk-estimator-id-19\" class=\"sk-toggleable__label sk-toggleable__label-arrow\">scaler_float64</label><div class=\"sk-toggleable__content\"><pre>[&#x27;node1_node_load1&#x27;, &#x27;node2_node_load1&#x27;, &#x27;node3_node_load1&#x27;, &#x27;node1_node_load5&#x27;, &#x27;node2_node_load5&#x27;, &#x27;node3_node_load5&#x27;, &#x27;node1_node_load15&#x27;, &#x27;node2_node_load15&#x27;, &#x27;node3_node_load15&#x27;, &#x27;node2_node_pod_qos_mem_burstable&#x27;, &#x27;node3_node_pod_qos_mem_burstable&#x27;, &#x27;node1_node_pod_qos_mem_burstable&#x27;, &#x27;node2_node_pod_qos_cpu_burstable&#x27;, &#x27;node3_node_pod_qos_cpu_burstable&#x27;, &#x27;node1_node_pod_qos_cpu_burstable&#x27;, &#x27;node1_cpu&#x27;, &#x27;node2_cpu&#x27;, &#x27;node3_cpu&#x27;, &#x27;node2_node_pod_container_resource_requests_cpu&#x27;, &#x27;node3_node_pod_container_resource_requests_cpu&#x27;, &#x27;node1_node_pod_container_resource_requests_cpu&#x27;, &#x27;node2_node_pod_container_resource_requests_memory&#x27;, &#x27;node3_node_pod_container_resource_requests_memory&#x27;, &#x27;node1_node_pod_container_resource_requests_memory&#x27;, &#x27;node1_node_pod_container_resource_limit_cpu&#x27;, &#x27;node2_node_pod_container_resource_limit_cpu&#x27;, &#x27;node3_node_pod_container_resource_limit_cpu&#x27;, &#x27;node1_node_capacity_cpu&#x27;, &#x27;node2_node_capacity_cpu&#x27;, &#x27;node3_node_capacity_cpu&#x27;, &#x27;node1_node_capacity_memory&#x27;, &#x27;node2_node_capacity_memory&#x27;, &#x27;node3_node_capacity_memory&#x27;, &#x27;node1_node_capacity_pods&#x27;, &#x27;node2_node_capacity_pods&#x27;, &#x27;node3_node_capacity_pods&#x27;, &#x27;node1_node_capacity_ephemeral_storage&#x27;, &#x27;node2_node_capacity_ephemeral_storage&#x27;, &#x27;node3_node_capacity_ephemeral_storage&#x27;, &#x27;node1_node_capacity_hugepages_1Gi&#x27;, &#x27;node2_node_capacity_hugepages_1Gi&#x27;, &#x27;node3_node_capacity_hugepages_1Gi&#x27;, &#x27;node1_node_capacity_hugepages_2Mi&#x27;, &#x27;node2_node_capacity_hugepages_2Mi&#x27;, &#x27;node3_node_capacity_hugepages_2Mi&#x27;, &#x27;node1_node_cpu_utilization_p&#x27;, &#x27;node2_node_cpu_utilization_p&#x27;, &#x27;node3_node_cpu_utilization_p&#x27;, &#x27;node1_node_memory_utilization_p&#x27;, &#x27;node2_node_memory_utilization_p&#x27;, &#x27;node3_node_memory_utilization_p&#x27;, &#x27;node1_node_pod_system_cluster_critical&#x27;, &#x27;node2_node_pod_system_cluster_critical&#x27;, &#x27;node3_node_pod_system_cluster_critical&#x27;, &#x27;node1_node_pod_system_node_critical&#x27;, &#x27;node2_node_pod_system_node_critical&#x27;, &#x27;node3_node_pod_system_node_critical&#x27;, &#x27;node1_node_pod_openshift_user_critical&#x27;, &#x27;node2_node_pod_openshift_user_critical&#x27;, &#x27;node3_node_pod_openshift_user_critical&#x27;, &#x27;node1_kubelet_health_failures&#x27;, &#x27;node2_kubelet_health_failures&#x27;, &#x27;node3_kubelet_health_failures&#x27;, &#x27;node3_create_container&#x27;, &#x27;node3_podsandbox_status&#x27;, &#x27;node3_pull_image&#x27;, &#x27;node1_exec_sync&#x27;, &#x27;node1_list_images&#x27;, &#x27;node1_pull_image&#x27;, &#x27;node2_exec_sync&#x27;, &#x27;node2_podsandbox_status&#x27;, &#x27;node3_status&#x27;, &#x27;node3_stop_podsandbox&#x27;, &#x27;node3_remove_podsandbox&#x27;, &#x27;node3_start_container&#x27;, &#x27;node1_run_podsandbox&#x27;, &#x27;node1_status&#x27;, &#x27;node2_list_containers&#x27;, &#x27;node2_list_podsandbox&#x27;, &#x27;node1_podsandbox_status&#x27;, &#x27;node1_remove_container&#x27;, &#x27;node1_stop_container&#x27;, &#x27;node3_container_status&#x27;, &#x27;node3_image_status&#x27;, &#x27;node3_exec_sync&#x27;, &#x27;node3_stop_container&#x27;, &#x27;node1_image_status&#x27;, &#x27;node1_stop_podsandbox&#x27;, &#x27;node2_container_status&#x27;, &#x27;node2_remove_container&#x27;, &#x27;node2_remove_podsandbox&#x27;, &#x27;node2_status&#x27;, &#x27;node2_stop_container&#x27;, &#x27;node2_stop_podsandbox&#x27;, &#x27;node1_container_status&#x27;, &#x27;node1_list_containers&#x27;, &#x27;node1_list_podsandbox&#x27;, &#x27;node2_run_podsandbox&#x27;, &#x27;node2_start_container&#x27;, &#x27;node3_remove_container&#x27;, &#x27;node3_run_podsandbox&#x27;, &#x27;node2_create_container&#x27;, &#x27;node2_image_status&#x27;, &#x27;node2_pull_image&#x27;, &#x27;node1_create_container&#x27;, &#x27;node1_start_container&#x27;, &#x27;node2_list_images&#x27;, &#x27;node3_list_images&#x27;, &#x27;node1_remove_podsandbox&#x27;, &#x27;node3_list_containers&#x27;, &#x27;node3_list_podsandbox&#x27;, &#x27;node1_default&#x27;, &#x27;node2_default&#x27;, &#x27;node3_default&#x27;, &#x27;node1_node_uptime&#x27;, &#x27;node2_node_uptime&#x27;, &#x27;node3_node_uptime&#x27;, &#x27;node1_total_node_net_receive_bytes&#x27;, &#x27;node2_total_node_net_receive_bytes&#x27;, &#x27;node3_total_node_net_receive_bytes&#x27;, &#x27;node1_total_node_net_transmit_bytes&#x27;, &#x27;node2_total_node_net_transmit_bytes&#x27;, &#x27;node3_total_node_net_transmit_bytes&#x27;, &#x27;apiserver_errors&#x27;, &#x27;apiserver_latency_resource&#x27;, &#x27;apiserver_latency_cluster&#x27;, &#x27;apiserver_requests_duration_seconds_GET&#x27;, &#x27;apiserver_requests_duration_seconds_PUT&#x27;, &#x27;apiserver_requests_duration_seconds_APPLY&#x27;, &#x27;apiserver_requests_duration_seconds_DELETE&#x27;, &#x27;apiserver_requests_duration_seconds_PATCH&#x27;, &#x27;apiserver_requests_duration_seconds_POST&#x27;, &#x27;apiserver_requests_duration_seconds_LIST&#x27;, &#x27;apiserver_request_read_total&#x27;, &#x27;apiserver_request_write_total&#x27;, &#x27;cluster_control_plane_utilization&#x27;, &#x27;node1_etcd_network_peer_rtt&#x27;, &#x27;node2_etcd_network_peer_rtt&#x27;, &#x27;node3_etcd_network_peer_rtt&#x27;, &#x27;node1_etcd_failed_proposal&#x27;, &#x27;node2_etcd_failed_proposal&#x27;, &#x27;node3_etcd_failed_proposal&#x27;, &#x27;node3_etcd_fsync_duration&#x27;, &#x27;node1_etcd_fsync_duration&#x27;, &#x27;node2_etcd_fsync_duration&#x27;, &#x27;etcd_high_failed_grpc_requests&#x27;, &#x27;etcd_number_leader_changes&#x27;, &#x27;workqueue_queue_waiting_time_total&#x27;, &#x27;workqueue_queue_work_time_total&#x27;, &#x27;workqueue_retries_rate&#x27;, &#x27;node1_node_pod_qos_mem_guaranteed&#x27;, &#x27;node2_node_pod_qos_mem_guaranteed&#x27;, &#x27;node1_node_pod_qos_cpu_guaranteed&#x27;, &#x27;node3_node_pod_qos_mem_guaranteed&#x27;, &#x27;node3_node_pod_qos_cpu_guaranteed&#x27;, &#x27;node2_node_pod_qos_cpu_guaranteed&#x27;, &#x27;node1_node_pod_qos_mem_besteffort&#x27;, &#x27;node3_node_pod_qos_mem_besteffort&#x27;, &#x27;node2_node_pod_qos_mem_besteffort&#x27;, &#x27;node2_node_pod_qos_cpu_besteffort&#x27;, &#x27;node3_node_pod_qos_cpu_besteffort&#x27;, &#x27;node1_node_pod_qos_cpu_besteffort&#x27;, &#x27;node4_node_load1&#x27;, &#x27;node5_node_load1&#x27;, &#x27;node6_node_load1&#x27;, &#x27;node4_node_load5&#x27;, &#x27;node5_node_load5&#x27;, &#x27;node6_node_load5&#x27;, &#x27;node4_node_load15&#x27;, &#x27;node5_node_load15&#x27;, &#x27;node6_node_load15&#x27;, &#x27;node5_node_pod_qos_mem_burstable&#x27;, &#x27;node6_node_pod_qos_mem_burstable&#x27;, &#x27;node4_node_pod_qos_mem_burstable&#x27;, &#x27;node5_node_pod_qos_cpu_burstable&#x27;, &#x27;node6_node_pod_qos_cpu_burstable&#x27;, &#x27;node4_node_pod_qos_cpu_burstable&#x27;, &#x27;node4_cpu&#x27;, &#x27;node5_cpu&#x27;, &#x27;node6_cpu&#x27;, &#x27;node5_node_pod_container_resource_requests_cpu&#x27;, &#x27;node6_node_pod_container_resource_requests_cpu&#x27;, &#x27;node4_node_pod_container_resource_requests_cpu&#x27;, &#x27;node5_node_pod_container_resource_requests_memory&#x27;, &#x27;node6_node_pod_container_resource_requests_memory&#x27;, &#x27;node4_node_pod_container_resource_requests_memory&#x27;, &#x27;node4_node_capacity_cpu&#x27;, &#x27;node5_node_capacity_cpu&#x27;, &#x27;node6_node_capacity_cpu&#x27;, &#x27;node4_node_capacity_memory&#x27;, &#x27;node5_node_capacity_memory&#x27;, &#x27;node6_node_capacity_memory&#x27;, &#x27;node4_node_capacity_pods&#x27;, &#x27;node5_node_capacity_pods&#x27;, &#x27;node6_node_capacity_pods&#x27;, &#x27;node4_node_capacity_ephemeral_storage&#x27;, &#x27;node5_node_capacity_ephemeral_storage&#x27;, &#x27;node6_node_capacity_ephemeral_storage&#x27;, &#x27;node4_node_capacity_hugepages_1Gi&#x27;, &#x27;node5_node_capacity_hugepages_1Gi&#x27;, &#x27;node6_node_capacity_hugepages_1Gi&#x27;, &#x27;node4_node_capacity_hugepages_2Mi&#x27;, &#x27;node5_node_capacity_hugepages_2Mi&#x27;, &#x27;node6_node_capacity_hugepages_2Mi&#x27;, &#x27;node4_node_cpu_utilization_p&#x27;, &#x27;node5_node_cpu_utilization_p&#x27;, &#x27;node6_node_cpu_utilization_p&#x27;, &#x27;node4_node_memory_utilization_p&#x27;, &#x27;node5_node_memory_utilization_p&#x27;, &#x27;node6_node_memory_utilization_p&#x27;, &#x27;node4_node_pod_system_cluster_critical&#x27;, &#x27;node5_node_pod_system_cluster_critical&#x27;, &#x27;node6_node_pod_system_cluster_critical&#x27;, &#x27;node4_node_pod_system_node_critical&#x27;, &#x27;node5_node_pod_system_node_critical&#x27;, &#x27;node6_node_pod_system_node_critical&#x27;, &#x27;node4_node_pod_openshift_user_critical&#x27;, &#x27;node5_node_pod_openshift_user_critical&#x27;, &#x27;node6_node_pod_openshift_user_critical&#x27;, &#x27;node4_kubelet_health_failures&#x27;, &#x27;node5_kubelet_health_failures&#x27;, &#x27;node6_kubelet_health_failures&#x27;, &#x27;node5_exec_sync&#x27;, &#x27;node5_list_containers&#x27;, &#x27;node5_list_podsandbox&#x27;, &#x27;node5_start_container&#x27;, &#x27;node6_create_container&#x27;, &#x27;node4_pull_image&#x27;, &#x27;node6_podsandbox_status&#x27;, &#x27;node4_remove_container&#x27;, &#x27;node4_stop_container&#x27;, &#x27;node6_stop_container&#x27;, &#x27;node4_image_status&#x27;, &#x27;node4_exec_sync&#x27;, &#x27;node4_list_containers&#x27;, &#x27;node4_list_podsandbox&#x27;, &#x27;node4_run_podsandbox&#x27;, &#x27;node4_create_container&#x27;, &#x27;node4_start_container&#x27;, &#x27;node6_run_podsandbox&#x27;, &#x27;node6_remove_podsandbox&#x27;, &#x27;node4_status&#x27;, &#x27;node6_exec_sync&#x27;, &#x27;node4_stop_podsandbox&#x27;, &#x27;node5_image_status&#x27;, &#x27;node4_container_status&#x27;, &#x27;node5_podsandbox_status&#x27;, &#x27;node5_remove_container&#x27;, &#x27;node6_pull_image&#x27;, &#x27;node5_list_images&#x27;, &#x27;node6_image_status&#x27;, &#x27;node6_list_containers&#x27;, &#x27;node6_list_podsandbox&#x27;, &#x27;node6_start_container&#x27;, &#x27;node4_list_images&#x27;, &#x27;node6_container_status&#x27;, &#x27;node6_list_images&#x27;, &#x27;node6_status&#x27;, &#x27;node5_create_container&#x27;, &#x27;node5_remove_podsandbox&#x27;, &#x27;node5_stop_podsandbox&#x27;, &#x27;node6_remove_container&#x27;, &#x27;node6_stop_podsandbox&#x27;, &#x27;node4_podsandbox_status&#x27;, &#x27;node5_pull_image&#x27;, &#x27;node5_run_podsandbox&#x27;, &#x27;node5_status&#x27;, &#x27;node4_remove_podsandbox&#x27;, &#x27;node5_container_status&#x27;, &#x27;node5_stop_container&#x27;, &#x27;node4_default&#x27;, &#x27;node5_default&#x27;, &#x27;node6_default&#x27;, &#x27;node4_node_uptime&#x27;, &#x27;node5_node_uptime&#x27;, &#x27;node6_node_uptime&#x27;, &#x27;node4_total_node_net_receive_bytes&#x27;, &#x27;node5_total_node_net_receive_bytes&#x27;, &#x27;node6_total_node_net_receive_bytes&#x27;, &#x27;node4_total_node_net_transmit_bytes&#x27;, &#x27;node5_total_node_net_transmit_bytes&#x27;, &#x27;node6_total_node_net_transmit_bytes&#x27;, &#x27;node4_node_pod_qos_mem_besteffort&#x27;, &#x27;node5_node_pod_qos_mem_besteffort&#x27;, &#x27;node6_node_pod_qos_mem_besteffort&#x27;, &#x27;node4_node_pod_qos_cpu_besteffort&#x27;, &#x27;node6_node_pod_qos_cpu_besteffort&#x27;, &#x27;node5_node_pod_qos_cpu_besteffort&#x27;, &#x27;node4_node_pod_container_resource_limit_cpu&#x27;, &#x27;node5_node_pod_container_resource_limit_cpu&#x27;, &#x27;node6_node_pod_container_resource_limit_cpu&#x27;]</pre></div></div></div><div class=\"sk-serial\"><div class=\"sk-item\"><div class=\"sk-serial\"><div class=\"sk-item\"><div class=\"sk-estimator sk-toggleable\"><input class=\"sk-toggleable__control sk-hidden--visually\" id=\"sk-estimator-id-20\" type=\"checkbox\" ><label for=\"sk-estimator-id-20\" class=\"sk-toggleable__label sk-toggleable__label-arrow\">PowerTransformer</label><div class=\"sk-toggleable__content\"><pre>PowerTransformer()</pre></div></div></div></div></div></div></div></div></div></div><div class=\"sk-item\"><div class=\"sk-estimator sk-toggleable\"><input class=\"sk-toggleable__control sk-hidden--visually\" id=\"sk-estimator-id-21\" type=\"checkbox\" ><label for=\"sk-estimator-id-21\" class=\"sk-toggleable__label sk-toggleable__label-arrow\">LogisticRegression</label><div class=\"sk-toggleable__content\"><pre>LogisticRegression(class_weight=&#x27;balanced&#x27;, max_iter=3000, random_state=42,\n",
       "                   solver=&#x27;newton-cholesky&#x27;)</pre></div></div></div></div></div></div></div>"
      ],
      "text/plain": [
       "Pipeline(steps=[('column_transformer',\n",
       "                 ColumnTransformer(transformers=[('scaler_uint32',\n",
       "                                                  Pipeline(steps=[('power',\n",
       "                                                                   PowerTransformer())]),\n",
       "                                                  ['node1_nodes_roles_per_node',\n",
       "                                                   'node2_nodes_roles_per_node',\n",
       "                                                   'node3_nodes_roles_per_node',\n",
       "                                                   'total_qty_nodes',\n",
       "                                                   'total_qty_control_plane',\n",
       "                                                   'total_qty_workers',\n",
       "                                                   'total_nodes_ready',\n",
       "                                                   'total_nodes_notready',\n",
       "                                                   'total_nodes_unknown'...\n",
       "                                                   'node1_node_pod_container_resource_requests_memory',\n",
       "                                                   'node1_node_pod_container_resource_limit_cpu',\n",
       "                                                   'node2_node_pod_container_resource_limit_cpu',\n",
       "                                                   'node3_node_pod_container_resource_limit_cpu',\n",
       "                                                   'node1_node_capacity_cpu',\n",
       "                                                   'node2_node_capacity_cpu',\n",
       "                                                   'node3_node_capacity_cpu', ...])])),\n",
       "                ('logistic_regression',\n",
       "                 LogisticRegression(class_weight='balanced', max_iter=3000,\n",
       "                                    random_state=42,\n",
       "                                    solver='newton-cholesky'))])"
      ]
     },
     "execution_count": 28,
     "metadata": {},
     "output_type": "execute_result"
    }
   ],
   "source": [
    "# Train compact cluster model\n",
    "pipe_log_compact.fit(X_clusters['compact']['X_train'], X_clusters['compact']['y_train_logreg'])"
   ]
  },
  {
   "cell_type": "code",
   "execution_count": 29,
   "id": "42a78e08-8667-4e9c-8e45-9d9c875e9788",
   "metadata": {},
   "outputs": [
    {
     "name": "stdout",
     "output_type": "stream",
     "text": [
      "           accuracy_score\t0.7933333333333333\n",
      "  balanced_accuracy_score\t0.5105263157894737\n",
      "                 f1_score\t0.46271071112195244\n",
      "          precision_score\t0.8962053571428572\n",
      "             recall_score\t0.5105263157894737\n",
      "       mean_squared_error\t0.20666666666666667\n"
     ]
    }
   ],
   "source": [
    "# Determine model scores of MNO predicting COMPACT\n",
    "y_pred_logreg_mno=pipe_log_mno.predict(X_clusters['compact']['X_test'])\n",
    "_ = ml_util.get_model_scores(X_clusters['compact']['y_test_logreg'], y_pred_logreg_mno)"
   ]
  },
  {
   "cell_type": "code",
   "execution_count": 30,
   "id": "312b011e-a16f-4032-bf55-569038aa4fdc",
   "metadata": {},
   "outputs": [
    {
     "data": {
      "image/png": "[encoded data removed]",
      "text/plain": [
       "<Figure size 640x480 with 2 Axes>"
      ]
     },
     "metadata": {},
     "output_type": "display_data"
    }
   ],
   "source": [
    "ml_util.show_confusion_matrix(X_clusters['compact']['y_test_logreg'], y_pred_logreg_mno, logreg=True)"
   ]
  },
  {
   "cell_type": "code",
   "execution_count": 31,
   "id": "ca78fbd5-2224-4e38-8bd1-8d2ba107c1c1",
   "metadata": {},
   "outputs": [
    {
     "name": "stdout",
     "output_type": "stream",
     "text": [
      "           accuracy_score\t0.987012987012987\n",
      "  balanced_accuracy_score\t0.75\n",
      "                 f1_score\t0.8300220750551877\n",
      "          precision_score\t0.993421052631579\n",
      "             recall_score\t0.75\n",
      "       mean_squared_error\t0.012987012987012988\n"
     ]
    }
   ],
   "source": [
    "# Determine model scores of COMPACT predicting MNO\n",
    "y_pred_logreg_compact=pipe_log_compact.predict(X_clusters['mno']['X_test'])\n",
    "_ = ml_util.get_model_scores(X_clusters['mno']['y_test_logreg'], y_pred_logreg_compact)"
   ]
  },
  {
   "cell_type": "code",
   "execution_count": 32,
   "id": "89fca6a4-0829-4ed2-b1fa-9d964026d822",
   "metadata": {},
   "outputs": [
    {
     "data": {
      "image/png": "[encoded data removed]",
      "text/plain": [
       "<Figure size 640x480 with 2 Axes>"
      ]
     },
     "metadata": {},
     "output_type": "display_data"
    }
   ],
   "source": [
    "ml_util.show_confusion_matrix(X_clusters['mno']['y_test_logreg'], y_pred_logreg_compact, logreg=True)"
   ]
  },
  {
   "cell_type": "markdown",
   "id": "7b4a488a-1762-48f6-a913-d989e27aa0c8",
   "metadata": {},
   "source": [
    "**Discusion**\n",
    "\n",
    "From the results above, it would appear the `compact` cluster is better at predicting `mno` than the `mno` is at predicting the `compact` clusters. We would need a much larger dataset to determine if this holds."
   ]
  },
  {
   "cell_type": "markdown",
   "id": "70152372-583a-4be7-a37c-a1c142f4f134",
   "metadata": {},
   "source": [
    "### 2.2 K-Means\n",
    "\n",
    "The dataset uses a target variable y_label with $0=green$, $1=red$ and $2=yellow$\n",
    "\n",
    "The dataset is evaluated and transformed using the best scalers identified in the previous section and without any transformations to identify if there are relevant improvements between the two approaches."
   ]
  },
  {
   "cell_type": "code",
   "execution_count": 33,
   "id": "4a179097-a38e-4f17-99e1-dfd86aa5e6ef",
   "metadata": {},
   "outputs": [],
   "source": [
    "# Obtain a copy of the X,y split combined dataset\n",
    "X_train=ml_util.X_train\n",
    "y_train=ml_util.y_train\n",
    "\n",
    "X_test=ml_util.X_test\n",
    "y_test=ml_util.y_test"
   ]
  },
  {
   "cell_type": "code",
   "execution_count": 34,
   "id": "26400265-85c4-4b52-8584-3dcc3239a437",
   "metadata": {},
   "outputs": [],
   "source": [
    "# Create two KMeans model\n",
    "kmeans_model1 = KMeans(n_clusters=3,\n",
    "                      max_iter=1000,\n",
    "                      verbose=False,\n",
    "                      random_state=RANDOM_STATE,\n",
    "                      tol=0.0001, # default 0.0001\n",
    "                      algorithm='lloyd' # 'lloyd' or 'elkan'\n",
    "                     )\n",
    "\n",
    "kmeans_model2 = KMeans(n_clusters=3,\n",
    "                      max_iter=1000,\n",
    "                      verbose=False,\n",
    "                      random_state=RANDOM_STATE,\n",
    "                      tol=0.0001, # default 0.0001\n",
    "                      algorithm='lloyd' # 'lloyd' or 'elkan'\n",
    "                     )"
   ]
  },
  {
   "cell_type": "code",
   "execution_count": 35,
   "id": "81717da4-dca4-49e8-8056-92c70adae005",
   "metadata": {},
   "outputs": [],
   "source": [
    "# Scale features using same scalers as previous section\n",
    "ct=ml_util.feature_scaling_per_type(X_train, 'power', 'power')\n",
    "\n",
    "# Pipeline for fitting the model:\n",
    "# with column transformer\n",
    "pipe_kmeans_scaled = Pipeline([\n",
    "    ('column_transformer', ct),\n",
    "    ('kmeans_model', kmeans_model1)\n",
    "])\n",
    "# without scaling data\n",
    "pipe_kmeans = Pipeline([\n",
    "    ('kmeans_model', kmeans_model2)\n",
    "])"
   ]
  },
  {
   "cell_type": "code",
   "execution_count": 36,
   "id": "a7984bc4-b191-446a-9df2-18a4b92f3005",
   "metadata": {},
   "outputs": [
    {
     "data": {
      "text/html": [
       "<style>#sk-container-id-4 {color: black;}#sk-container-id-4 pre{padding: 0;}#sk-container-id-4 div.sk-toggleable {background-color: white;}#sk-container-id-4 label.sk-toggleable__label {cursor: pointer;display: block;width: 100%;margin-bottom: 0;padding: 0.3em;box-sizing: border-box;text-align: center;}#sk-container-id-4 label.sk-toggleable__label-arrow:before {content: \"▸\";float: left;margin-right: 0.25em;color: #696969;}#sk-container-id-4 label.sk-toggleable__label-arrow:hover:before {color: black;}#sk-container-id-4 div.sk-estimator:hover label.sk-toggleable__label-arrow:before {color: black;}#sk-container-id-4 div.sk-toggleable__content {max-height: 0;max-width: 0;overflow: hidden;text-align: left;background-color: #f0f8ff;}#sk-container-id-4 div.sk-toggleable__content pre {margin: 0.2em;color: black;border-radius: 0.25em;background-color: #f0f8ff;}#sk-container-id-4 input.sk-toggleable__control:checked~div.sk-toggleable__content {max-height: 200px;max-width: 100%;overflow: auto;}#sk-container-id-4 input.sk-toggleable__control:checked~label.sk-toggleable__label-arrow:before {content: \"▾\";}#sk-container-id-4 div.sk-estimator input.sk-toggleable__control:checked~label.sk-toggleable__label {background-color: #d4ebff;}#sk-container-id-4 div.sk-label input.sk-toggleable__control:checked~label.sk-toggleable__label {background-color: #d4ebff;}#sk-container-id-4 input.sk-hidden--visually {border: 0;clip: rect(1px 1px 1px 1px);clip: rect(1px, 1px, 1px, 1px);height: 1px;margin: -1px;overflow: hidden;padding: 0;position: absolute;width: 1px;}#sk-container-id-4 div.sk-estimator {font-family: monospace;background-color: #f0f8ff;border: 1px dotted black;border-radius: 0.25em;box-sizing: border-box;margin-bottom: 0.5em;}#sk-container-id-4 div.sk-estimator:hover {background-color: #d4ebff;}#sk-container-id-4 div.sk-parallel-item::after {content: \"\";width: 100%;border-bottom: 1px solid gray;flex-grow: 1;}#sk-container-id-4 div.sk-label:hover label.sk-toggleable__label {background-color: #d4ebff;}#sk-container-id-4 div.sk-serial::before {content: \"\";position: absolute;border-left: 1px solid gray;box-sizing: border-box;top: 0;bottom: 0;left: 50%;z-index: 0;}#sk-container-id-4 div.sk-serial {display: flex;flex-direction: column;align-items: center;background-color: white;padding-right: 0.2em;padding-left: 0.2em;position: relative;}#sk-container-id-4 div.sk-item {position: relative;z-index: 1;}#sk-container-id-4 div.sk-parallel {display: flex;align-items: stretch;justify-content: center;background-color: white;position: relative;}#sk-container-id-4 div.sk-item::before, #sk-container-id-4 div.sk-parallel-item::before {content: \"\";position: absolute;border-left: 1px solid gray;box-sizing: border-box;top: 0;bottom: 0;left: 50%;z-index: -1;}#sk-container-id-4 div.sk-parallel-item {display: flex;flex-direction: column;z-index: 1;position: relative;background-color: white;}#sk-container-id-4 div.sk-parallel-item:first-child::after {align-self: flex-end;width: 50%;}#sk-container-id-4 div.sk-parallel-item:last-child::after {align-self: flex-start;width: 50%;}#sk-container-id-4 div.sk-parallel-item:only-child::after {width: 0;}#sk-container-id-4 div.sk-dashed-wrapped {border: 1px dashed gray;margin: 0 0.4em 0.5em 0.4em;box-sizing: border-box;padding-bottom: 0.4em;background-color: white;}#sk-container-id-4 div.sk-label label {font-family: monospace;font-weight: bold;display: inline-block;line-height: 1.2em;}#sk-container-id-4 div.sk-label-container {text-align: center;}#sk-container-id-4 div.sk-container {/* jupyter's `normalize.less` sets `[hidden] { display: none; }` but bootstrap.min.css set `[hidden] { display: none !important; }` so we also need the `!important` here to be able to override the default hidden behavior on the sphinx rendered scikit-learn.org. See: https://github.com/scikit-learn/scikit-learn/issues/21755 */display: inline-block !important;position: relative;}#sk-container-id-4 div.sk-text-repr-fallback {display: none;}</style><div id=\"sk-container-id-4\" class=\"sk-top-container\"><div class=\"sk-text-repr-fallback\"><pre>Pipeline(steps=[(&#x27;column_transformer&#x27;,\n",
       "                 ColumnTransformer(transformers=[(&#x27;scaler_uint32&#x27;,\n",
       "                                                  Pipeline(steps=[(&#x27;power&#x27;,\n",
       "                                                                   PowerTransformer())]),\n",
       "                                                  [&#x27;node1_nodes_roles_per_node&#x27;,\n",
       "                                                   &#x27;node2_nodes_roles_per_node&#x27;,\n",
       "                                                   &#x27;node3_nodes_roles_per_node&#x27;,\n",
       "                                                   &#x27;total_qty_nodes&#x27;,\n",
       "                                                   &#x27;total_qty_control_plane&#x27;,\n",
       "                                                   &#x27;total_qty_workers&#x27;,\n",
       "                                                   &#x27;total_nodes_ready&#x27;,\n",
       "                                                   &#x27;total_nodes_notready&#x27;,\n",
       "                                                   &#x27;total_nodes_unknown&#x27;...\n",
       "                                                   &#x27;node1_node_pod_container_resource_requests_memory&#x27;,\n",
       "                                                   &#x27;node1_node_pod_container_resource_limit_cpu&#x27;,\n",
       "                                                   &#x27;node2_node_pod_container_resource_limit_cpu&#x27;,\n",
       "                                                   &#x27;node3_node_pod_container_resource_limit_cpu&#x27;,\n",
       "                                                   &#x27;node1_node_capacity_cpu&#x27;,\n",
       "                                                   &#x27;node2_node_capacity_cpu&#x27;,\n",
       "                                                   &#x27;node3_node_capacity_cpu&#x27;, ...])])),\n",
       "                (&#x27;kmeans_model&#x27;,\n",
       "                 KMeans(max_iter=1000, n_clusters=3, random_state=42,\n",
       "                        verbose=False))])</pre><b>In a Jupyter environment, please rerun this cell to show the HTML representation or trust the notebook. <br />On GitHub, the HTML representation is unable to render, please try loading this page with nbviewer.org.</b></div><div class=\"sk-container\" hidden><div class=\"sk-item sk-dashed-wrapped\"><div class=\"sk-label-container\"><div class=\"sk-label sk-toggleable\"><input class=\"sk-toggleable__control sk-hidden--visually\" id=\"sk-estimator-id-22\" type=\"checkbox\" ><label for=\"sk-estimator-id-22\" class=\"sk-toggleable__label sk-toggleable__label-arrow\">Pipeline</label><div class=\"sk-toggleable__content\"><pre>Pipeline(steps=[(&#x27;column_transformer&#x27;,\n",
       "                 ColumnTransformer(transformers=[(&#x27;scaler_uint32&#x27;,\n",
       "                                                  Pipeline(steps=[(&#x27;power&#x27;,\n",
       "                                                                   PowerTransformer())]),\n",
       "                                                  [&#x27;node1_nodes_roles_per_node&#x27;,\n",
       "                                                   &#x27;node2_nodes_roles_per_node&#x27;,\n",
       "                                                   &#x27;node3_nodes_roles_per_node&#x27;,\n",
       "                                                   &#x27;total_qty_nodes&#x27;,\n",
       "                                                   &#x27;total_qty_control_plane&#x27;,\n",
       "                                                   &#x27;total_qty_workers&#x27;,\n",
       "                                                   &#x27;total_nodes_ready&#x27;,\n",
       "                                                   &#x27;total_nodes_notready&#x27;,\n",
       "                                                   &#x27;total_nodes_unknown&#x27;...\n",
       "                                                   &#x27;node1_node_pod_container_resource_requests_memory&#x27;,\n",
       "                                                   &#x27;node1_node_pod_container_resource_limit_cpu&#x27;,\n",
       "                                                   &#x27;node2_node_pod_container_resource_limit_cpu&#x27;,\n",
       "                                                   &#x27;node3_node_pod_container_resource_limit_cpu&#x27;,\n",
       "                                                   &#x27;node1_node_capacity_cpu&#x27;,\n",
       "                                                   &#x27;node2_node_capacity_cpu&#x27;,\n",
       "                                                   &#x27;node3_node_capacity_cpu&#x27;, ...])])),\n",
       "                (&#x27;kmeans_model&#x27;,\n",
       "                 KMeans(max_iter=1000, n_clusters=3, random_state=42,\n",
       "                        verbose=False))])</pre></div></div></div><div class=\"sk-serial\"><div class=\"sk-item sk-dashed-wrapped\"><div class=\"sk-label-container\"><div class=\"sk-label sk-toggleable\"><input class=\"sk-toggleable__control sk-hidden--visually\" id=\"sk-estimator-id-23\" type=\"checkbox\" ><label for=\"sk-estimator-id-23\" class=\"sk-toggleable__label sk-toggleable__label-arrow\">column_transformer: ColumnTransformer</label><div class=\"sk-toggleable__content\"><pre>ColumnTransformer(transformers=[(&#x27;scaler_uint32&#x27;,\n",
       "                                 Pipeline(steps=[(&#x27;power&#x27;,\n",
       "                                                  PowerTransformer())]),\n",
       "                                 [&#x27;node1_nodes_roles_per_node&#x27;,\n",
       "                                  &#x27;node2_nodes_roles_per_node&#x27;,\n",
       "                                  &#x27;node3_nodes_roles_per_node&#x27;,\n",
       "                                  &#x27;total_qty_nodes&#x27;, &#x27;total_qty_control_plane&#x27;,\n",
       "                                  &#x27;total_qty_workers&#x27;, &#x27;total_nodes_ready&#x27;,\n",
       "                                  &#x27;total_nodes_notready&#x27;, &#x27;total_nodes_unknown&#x27;,\n",
       "                                  &#x27;total_nodes_diskpressure&#x27;,\n",
       "                                  &#x27;total_nod...\n",
       "                                  &#x27;node2_node_pod_container_resource_requests_memory&#x27;,\n",
       "                                  &#x27;node3_node_pod_container_resource_requests_memory&#x27;,\n",
       "                                  &#x27;node1_node_pod_container_resource_requests_memory&#x27;,\n",
       "                                  &#x27;node1_node_pod_container_resource_limit_cpu&#x27;,\n",
       "                                  &#x27;node2_node_pod_container_resource_limit_cpu&#x27;,\n",
       "                                  &#x27;node3_node_pod_container_resource_limit_cpu&#x27;,\n",
       "                                  &#x27;node1_node_capacity_cpu&#x27;,\n",
       "                                  &#x27;node2_node_capacity_cpu&#x27;,\n",
       "                                  &#x27;node3_node_capacity_cpu&#x27;, ...])])</pre></div></div></div><div class=\"sk-parallel\"><div class=\"sk-parallel-item\"><div class=\"sk-item\"><div class=\"sk-label-container\"><div class=\"sk-label sk-toggleable\"><input class=\"sk-toggleable__control sk-hidden--visually\" id=\"sk-estimator-id-24\" type=\"checkbox\" ><label for=\"sk-estimator-id-24\" class=\"sk-toggleable__label sk-toggleable__label-arrow\">scaler_uint32</label><div class=\"sk-toggleable__content\"><pre>[&#x27;node1_nodes_roles_per_node&#x27;, &#x27;node2_nodes_roles_per_node&#x27;, &#x27;node3_nodes_roles_per_node&#x27;, &#x27;total_qty_nodes&#x27;, &#x27;total_qty_control_plane&#x27;, &#x27;total_qty_workers&#x27;, &#x27;total_nodes_ready&#x27;, &#x27;total_nodes_notready&#x27;, &#x27;total_nodes_unknown&#x27;, &#x27;total_nodes_diskpressure&#x27;, &#x27;total_node_memorypressure&#x27;, &#x27;total_node_pidpressure&#x27;, &#x27;node2_node_pod_qos_qty_burstable&#x27;, &#x27;node3_node_pod_qos_qty_burstable&#x27;, &#x27;node1_node_pod_qos_qty_burstable&#x27;, &#x27;node1_ephemeral_storage&#x27;, &#x27;node1_hugepages_1Gi&#x27;, &#x27;node1_hugepages_2Mi&#x27;, &#x27;node1_memory&#x27;, &#x27;node1_pods&#x27;, &#x27;node2_ephemeral_storage&#x27;, &#x27;node2_hugepages_1Gi&#x27;, &#x27;node2_hugepages_2Mi&#x27;, &#x27;node2_memory&#x27;, &#x27;node2_pods&#x27;, &#x27;node3_ephemeral_storage&#x27;, &#x27;node3_hugepages_1Gi&#x27;, &#x27;node3_hugepages_2Mi&#x27;, &#x27;node3_memory&#x27;, &#x27;node3_pods&#x27;, &#x27;node1_node_pod_total&#x27;, &#x27;node2_node_pod_total&#x27;, &#x27;node3_node_pod_total&#x27;, &#x27;node1_node_container_total&#x27;, &#x27;node2_node_container_total&#x27;, &#x27;node3_node_container_total&#x27;, &#x27;node2_apiserver_memory_usage&#x27;, &#x27;node3_apiserver_memory_usage&#x27;, &#x27;node1_apiserver_memory_usage&#x27;, &#x27;node1_openshift_apiserver_memory_usage&#x27;, &#x27;node3_openshift_apiserver_memory_usage&#x27;, &#x27;node2_openshift_apiserver_memory_usage&#x27;, &#x27;apiserver_max_inflight_requests_kube_apiserver&#x27;, &#x27;apiserver_max_inflight_requests_openshift_apiserver&#x27;, &#x27;cluster_pod_total&#x27;, &#x27;cluster_namespace_total&#x27;, &#x27;etcd_member_active&#x27;, &#x27;node1_etcd_db_size_bytes&#x27;, &#x27;node2_etcd_db_size_bytes&#x27;, &#x27;node3_etcd_db_size_bytes&#x27;, &#x27;node1_etcd_db_use_bytes&#x27;, &#x27;node2_etcd_db_use_bytes&#x27;, &#x27;node3_etcd_db_use_bytes&#x27;, &#x27;node1_etcd_object_counts&#x27;, &#x27;node2_etcd_object_counts&#x27;, &#x27;node3_etcd_object_counts&#x27;, &#x27;etcd_member_down_total&#x27;, &#x27;etcd_qty_grpc_requests_slow&#x27;, &#x27;node_pod_crashloopbackoff&#x27;, &#x27;node1_node_pod_qos_qty_guaranteed&#x27;, &#x27;node3_node_pod_qos_qty_guaranteed&#x27;, &#x27;node2_node_pod_qos_qty_guaranteed&#x27;, &#x27;node2_node_pod_qos_qty_besteffort&#x27;, &#x27;node1_node_pod_qos_qty_besteffort&#x27;, &#x27;node3_node_pod_qos_qty_besteffort&#x27;, &#x27;node4_nodes_roles_per_node&#x27;, &#x27;node5_nodes_roles_per_node&#x27;, &#x27;node6_nodes_roles_per_node&#x27;, &#x27;node5_node_pod_qos_qty_burstable&#x27;, &#x27;node6_node_pod_qos_qty_burstable&#x27;, &#x27;node4_node_pod_qos_qty_burstable&#x27;, &#x27;node4_ephemeral_storage&#x27;, &#x27;node4_hugepages_1Gi&#x27;, &#x27;node4_hugepages_2Mi&#x27;, &#x27;node4_memory&#x27;, &#x27;node4_pods&#x27;, &#x27;node5_ephemeral_storage&#x27;, &#x27;node5_hugepages_1Gi&#x27;, &#x27;node5_hugepages_2Mi&#x27;, &#x27;node5_memory&#x27;, &#x27;node5_pods&#x27;, &#x27;node6_ephemeral_storage&#x27;, &#x27;node6_hugepages_1Gi&#x27;, &#x27;node6_hugepages_2Mi&#x27;, &#x27;node6_memory&#x27;, &#x27;node6_pods&#x27;, &#x27;node4_node_pod_total&#x27;, &#x27;node5_node_pod_total&#x27;, &#x27;node6_node_pod_total&#x27;, &#x27;node4_node_container_total&#x27;, &#x27;node5_node_container_total&#x27;, &#x27;node6_node_container_total&#x27;, &#x27;node4_node_pod_qos_qty_besteffort&#x27;, &#x27;node5_node_pod_qos_qty_besteffort&#x27;, &#x27;node6_node_pod_qos_qty_besteffort&#x27;]</pre></div></div></div><div class=\"sk-serial\"><div class=\"sk-item\"><div class=\"sk-serial\"><div class=\"sk-item\"><div class=\"sk-estimator sk-toggleable\"><input class=\"sk-toggleable__control sk-hidden--visually\" id=\"sk-estimator-id-25\" type=\"checkbox\" ><label for=\"sk-estimator-id-25\" class=\"sk-toggleable__label sk-toggleable__label-arrow\">PowerTransformer</label><div class=\"sk-toggleable__content\"><pre>PowerTransformer()</pre></div></div></div></div></div></div></div></div><div class=\"sk-parallel-item\"><div class=\"sk-item\"><div class=\"sk-label-container\"><div class=\"sk-label sk-toggleable\"><input class=\"sk-toggleable__control sk-hidden--visually\" id=\"sk-estimator-id-26\" type=\"checkbox\" ><label for=\"sk-estimator-id-26\" class=\"sk-toggleable__label sk-toggleable__label-arrow\">scaler_float64</label><div class=\"sk-toggleable__content\"><pre>[&#x27;node1_node_load1&#x27;, &#x27;node2_node_load1&#x27;, &#x27;node3_node_load1&#x27;, &#x27;node1_node_load5&#x27;, &#x27;node2_node_load5&#x27;, &#x27;node3_node_load5&#x27;, &#x27;node1_node_load15&#x27;, &#x27;node2_node_load15&#x27;, &#x27;node3_node_load15&#x27;, &#x27;node2_node_pod_qos_mem_burstable&#x27;, &#x27;node3_node_pod_qos_mem_burstable&#x27;, &#x27;node1_node_pod_qos_mem_burstable&#x27;, &#x27;node2_node_pod_qos_cpu_burstable&#x27;, &#x27;node3_node_pod_qos_cpu_burstable&#x27;, &#x27;node1_node_pod_qos_cpu_burstable&#x27;, &#x27;node1_cpu&#x27;, &#x27;node2_cpu&#x27;, &#x27;node3_cpu&#x27;, &#x27;node2_node_pod_container_resource_requests_cpu&#x27;, &#x27;node3_node_pod_container_resource_requests_cpu&#x27;, &#x27;node1_node_pod_container_resource_requests_cpu&#x27;, &#x27;node2_node_pod_container_resource_requests_memory&#x27;, &#x27;node3_node_pod_container_resource_requests_memory&#x27;, &#x27;node1_node_pod_container_resource_requests_memory&#x27;, &#x27;node1_node_pod_container_resource_limit_cpu&#x27;, &#x27;node2_node_pod_container_resource_limit_cpu&#x27;, &#x27;node3_node_pod_container_resource_limit_cpu&#x27;, &#x27;node1_node_capacity_cpu&#x27;, &#x27;node2_node_capacity_cpu&#x27;, &#x27;node3_node_capacity_cpu&#x27;, &#x27;node1_node_capacity_memory&#x27;, &#x27;node2_node_capacity_memory&#x27;, &#x27;node3_node_capacity_memory&#x27;, &#x27;node1_node_capacity_pods&#x27;, &#x27;node2_node_capacity_pods&#x27;, &#x27;node3_node_capacity_pods&#x27;, &#x27;node1_node_capacity_ephemeral_storage&#x27;, &#x27;node2_node_capacity_ephemeral_storage&#x27;, &#x27;node3_node_capacity_ephemeral_storage&#x27;, &#x27;node1_node_capacity_hugepages_1Gi&#x27;, &#x27;node2_node_capacity_hugepages_1Gi&#x27;, &#x27;node3_node_capacity_hugepages_1Gi&#x27;, &#x27;node1_node_capacity_hugepages_2Mi&#x27;, &#x27;node2_node_capacity_hugepages_2Mi&#x27;, &#x27;node3_node_capacity_hugepages_2Mi&#x27;, &#x27;node1_node_cpu_utilization_p&#x27;, &#x27;node2_node_cpu_utilization_p&#x27;, &#x27;node3_node_cpu_utilization_p&#x27;, &#x27;node1_node_memory_utilization_p&#x27;, &#x27;node2_node_memory_utilization_p&#x27;, &#x27;node3_node_memory_utilization_p&#x27;, &#x27;node1_node_pod_system_cluster_critical&#x27;, &#x27;node2_node_pod_system_cluster_critical&#x27;, &#x27;node3_node_pod_system_cluster_critical&#x27;, &#x27;node1_node_pod_system_node_critical&#x27;, &#x27;node2_node_pod_system_node_critical&#x27;, &#x27;node3_node_pod_system_node_critical&#x27;, &#x27;node1_node_pod_openshift_user_critical&#x27;, &#x27;node2_node_pod_openshift_user_critical&#x27;, &#x27;node3_node_pod_openshift_user_critical&#x27;, &#x27;node1_kubelet_health_failures&#x27;, &#x27;node2_kubelet_health_failures&#x27;, &#x27;node3_kubelet_health_failures&#x27;, &#x27;node3_create_container&#x27;, &#x27;node3_podsandbox_status&#x27;, &#x27;node3_pull_image&#x27;, &#x27;node1_exec_sync&#x27;, &#x27;node1_list_images&#x27;, &#x27;node1_pull_image&#x27;, &#x27;node2_exec_sync&#x27;, &#x27;node2_podsandbox_status&#x27;, &#x27;node3_status&#x27;, &#x27;node3_stop_podsandbox&#x27;, &#x27;node3_remove_podsandbox&#x27;, &#x27;node3_start_container&#x27;, &#x27;node1_run_podsandbox&#x27;, &#x27;node1_status&#x27;, &#x27;node2_list_containers&#x27;, &#x27;node2_list_podsandbox&#x27;, &#x27;node1_podsandbox_status&#x27;, &#x27;node1_remove_container&#x27;, &#x27;node1_stop_container&#x27;, &#x27;node3_container_status&#x27;, &#x27;node3_image_status&#x27;, &#x27;node3_exec_sync&#x27;, &#x27;node3_stop_container&#x27;, &#x27;node1_image_status&#x27;, &#x27;node1_stop_podsandbox&#x27;, &#x27;node2_container_status&#x27;, &#x27;node2_remove_container&#x27;, &#x27;node2_remove_podsandbox&#x27;, &#x27;node2_status&#x27;, &#x27;node2_stop_container&#x27;, &#x27;node2_stop_podsandbox&#x27;, &#x27;node1_container_status&#x27;, &#x27;node1_list_containers&#x27;, &#x27;node1_list_podsandbox&#x27;, &#x27;node2_run_podsandbox&#x27;, &#x27;node2_start_container&#x27;, &#x27;node3_remove_container&#x27;, &#x27;node3_run_podsandbox&#x27;, &#x27;node2_create_container&#x27;, &#x27;node2_image_status&#x27;, &#x27;node2_pull_image&#x27;, &#x27;node1_create_container&#x27;, &#x27;node1_start_container&#x27;, &#x27;node2_list_images&#x27;, &#x27;node3_list_images&#x27;, &#x27;node1_remove_podsandbox&#x27;, &#x27;node3_list_containers&#x27;, &#x27;node3_list_podsandbox&#x27;, &#x27;node1_default&#x27;, &#x27;node2_default&#x27;, &#x27;node3_default&#x27;, &#x27;node1_node_uptime&#x27;, &#x27;node2_node_uptime&#x27;, &#x27;node3_node_uptime&#x27;, &#x27;node1_total_node_net_receive_bytes&#x27;, &#x27;node2_total_node_net_receive_bytes&#x27;, &#x27;node3_total_node_net_receive_bytes&#x27;, &#x27;node1_total_node_net_transmit_bytes&#x27;, &#x27;node2_total_node_net_transmit_bytes&#x27;, &#x27;node3_total_node_net_transmit_bytes&#x27;, &#x27;apiserver_errors&#x27;, &#x27;apiserver_latency_resource&#x27;, &#x27;apiserver_latency_cluster&#x27;, &#x27;apiserver_requests_duration_seconds_GET&#x27;, &#x27;apiserver_requests_duration_seconds_PUT&#x27;, &#x27;apiserver_requests_duration_seconds_APPLY&#x27;, &#x27;apiserver_requests_duration_seconds_DELETE&#x27;, &#x27;apiserver_requests_duration_seconds_PATCH&#x27;, &#x27;apiserver_requests_duration_seconds_POST&#x27;, &#x27;apiserver_requests_duration_seconds_LIST&#x27;, &#x27;apiserver_request_read_total&#x27;, &#x27;apiserver_request_write_total&#x27;, &#x27;cluster_control_plane_utilization&#x27;, &#x27;node1_etcd_network_peer_rtt&#x27;, &#x27;node2_etcd_network_peer_rtt&#x27;, &#x27;node3_etcd_network_peer_rtt&#x27;, &#x27;node1_etcd_failed_proposal&#x27;, &#x27;node2_etcd_failed_proposal&#x27;, &#x27;node3_etcd_failed_proposal&#x27;, &#x27;node3_etcd_fsync_duration&#x27;, &#x27;node1_etcd_fsync_duration&#x27;, &#x27;node2_etcd_fsync_duration&#x27;, &#x27;etcd_high_failed_grpc_requests&#x27;, &#x27;etcd_number_leader_changes&#x27;, &#x27;workqueue_queue_waiting_time_total&#x27;, &#x27;workqueue_queue_work_time_total&#x27;, &#x27;workqueue_retries_rate&#x27;, &#x27;node1_node_pod_qos_mem_guaranteed&#x27;, &#x27;node2_node_pod_qos_mem_guaranteed&#x27;, &#x27;node1_node_pod_qos_cpu_guaranteed&#x27;, &#x27;node3_node_pod_qos_mem_guaranteed&#x27;, &#x27;node3_node_pod_qos_cpu_guaranteed&#x27;, &#x27;node2_node_pod_qos_cpu_guaranteed&#x27;, &#x27;node1_node_pod_qos_mem_besteffort&#x27;, &#x27;node3_node_pod_qos_mem_besteffort&#x27;, &#x27;node2_node_pod_qos_mem_besteffort&#x27;, &#x27;node2_node_pod_qos_cpu_besteffort&#x27;, &#x27;node3_node_pod_qos_cpu_besteffort&#x27;, &#x27;node1_node_pod_qos_cpu_besteffort&#x27;, &#x27;node4_node_load1&#x27;, &#x27;node5_node_load1&#x27;, &#x27;node6_node_load1&#x27;, &#x27;node4_node_load5&#x27;, &#x27;node5_node_load5&#x27;, &#x27;node6_node_load5&#x27;, &#x27;node4_node_load15&#x27;, &#x27;node5_node_load15&#x27;, &#x27;node6_node_load15&#x27;, &#x27;node5_node_pod_qos_mem_burstable&#x27;, &#x27;node6_node_pod_qos_mem_burstable&#x27;, &#x27;node4_node_pod_qos_mem_burstable&#x27;, &#x27;node5_node_pod_qos_cpu_burstable&#x27;, &#x27;node6_node_pod_qos_cpu_burstable&#x27;, &#x27;node4_node_pod_qos_cpu_burstable&#x27;, &#x27;node4_cpu&#x27;, &#x27;node5_cpu&#x27;, &#x27;node6_cpu&#x27;, &#x27;node5_node_pod_container_resource_requests_cpu&#x27;, &#x27;node6_node_pod_container_resource_requests_cpu&#x27;, &#x27;node4_node_pod_container_resource_requests_cpu&#x27;, &#x27;node5_node_pod_container_resource_requests_memory&#x27;, &#x27;node6_node_pod_container_resource_requests_memory&#x27;, &#x27;node4_node_pod_container_resource_requests_memory&#x27;, &#x27;node4_node_capacity_cpu&#x27;, &#x27;node5_node_capacity_cpu&#x27;, &#x27;node6_node_capacity_cpu&#x27;, &#x27;node4_node_capacity_memory&#x27;, &#x27;node5_node_capacity_memory&#x27;, &#x27;node6_node_capacity_memory&#x27;, &#x27;node4_node_capacity_pods&#x27;, &#x27;node5_node_capacity_pods&#x27;, &#x27;node6_node_capacity_pods&#x27;, &#x27;node4_node_capacity_ephemeral_storage&#x27;, &#x27;node5_node_capacity_ephemeral_storage&#x27;, &#x27;node6_node_capacity_ephemeral_storage&#x27;, &#x27;node4_node_capacity_hugepages_1Gi&#x27;, &#x27;node5_node_capacity_hugepages_1Gi&#x27;, &#x27;node6_node_capacity_hugepages_1Gi&#x27;, &#x27;node4_node_capacity_hugepages_2Mi&#x27;, &#x27;node5_node_capacity_hugepages_2Mi&#x27;, &#x27;node6_node_capacity_hugepages_2Mi&#x27;, &#x27;node4_node_cpu_utilization_p&#x27;, &#x27;node5_node_cpu_utilization_p&#x27;, &#x27;node6_node_cpu_utilization_p&#x27;, &#x27;node4_node_memory_utilization_p&#x27;, &#x27;node5_node_memory_utilization_p&#x27;, &#x27;node6_node_memory_utilization_p&#x27;, &#x27;node4_node_pod_system_cluster_critical&#x27;, &#x27;node5_node_pod_system_cluster_critical&#x27;, &#x27;node6_node_pod_system_cluster_critical&#x27;, &#x27;node4_node_pod_system_node_critical&#x27;, &#x27;node5_node_pod_system_node_critical&#x27;, &#x27;node6_node_pod_system_node_critical&#x27;, &#x27;node4_node_pod_openshift_user_critical&#x27;, &#x27;node5_node_pod_openshift_user_critical&#x27;, &#x27;node6_node_pod_openshift_user_critical&#x27;, &#x27;node4_kubelet_health_failures&#x27;, &#x27;node5_kubelet_health_failures&#x27;, &#x27;node6_kubelet_health_failures&#x27;, &#x27;node5_exec_sync&#x27;, &#x27;node5_list_containers&#x27;, &#x27;node5_list_podsandbox&#x27;, &#x27;node5_start_container&#x27;, &#x27;node6_create_container&#x27;, &#x27;node4_pull_image&#x27;, &#x27;node6_podsandbox_status&#x27;, &#x27;node4_remove_container&#x27;, &#x27;node4_stop_container&#x27;, &#x27;node6_stop_container&#x27;, &#x27;node4_image_status&#x27;, &#x27;node4_exec_sync&#x27;, &#x27;node4_list_containers&#x27;, &#x27;node4_list_podsandbox&#x27;, &#x27;node4_run_podsandbox&#x27;, &#x27;node4_create_container&#x27;, &#x27;node4_start_container&#x27;, &#x27;node6_run_podsandbox&#x27;, &#x27;node6_remove_podsandbox&#x27;, &#x27;node4_status&#x27;, &#x27;node6_exec_sync&#x27;, &#x27;node4_stop_podsandbox&#x27;, &#x27;node5_image_status&#x27;, &#x27;node4_container_status&#x27;, &#x27;node5_podsandbox_status&#x27;, &#x27;node5_remove_container&#x27;, &#x27;node6_pull_image&#x27;, &#x27;node5_list_images&#x27;, &#x27;node6_image_status&#x27;, &#x27;node6_list_containers&#x27;, &#x27;node6_list_podsandbox&#x27;, &#x27;node6_start_container&#x27;, &#x27;node4_list_images&#x27;, &#x27;node6_container_status&#x27;, &#x27;node6_list_images&#x27;, &#x27;node6_status&#x27;, &#x27;node5_create_container&#x27;, &#x27;node5_remove_podsandbox&#x27;, &#x27;node5_stop_podsandbox&#x27;, &#x27;node6_remove_container&#x27;, &#x27;node6_stop_podsandbox&#x27;, &#x27;node4_podsandbox_status&#x27;, &#x27;node5_pull_image&#x27;, &#x27;node5_run_podsandbox&#x27;, &#x27;node5_status&#x27;, &#x27;node4_remove_podsandbox&#x27;, &#x27;node5_container_status&#x27;, &#x27;node5_stop_container&#x27;, &#x27;node4_default&#x27;, &#x27;node5_default&#x27;, &#x27;node6_default&#x27;, &#x27;node4_node_uptime&#x27;, &#x27;node5_node_uptime&#x27;, &#x27;node6_node_uptime&#x27;, &#x27;node4_total_node_net_receive_bytes&#x27;, &#x27;node5_total_node_net_receive_bytes&#x27;, &#x27;node6_total_node_net_receive_bytes&#x27;, &#x27;node4_total_node_net_transmit_bytes&#x27;, &#x27;node5_total_node_net_transmit_bytes&#x27;, &#x27;node6_total_node_net_transmit_bytes&#x27;, &#x27;node4_node_pod_qos_mem_besteffort&#x27;, &#x27;node5_node_pod_qos_mem_besteffort&#x27;, &#x27;node6_node_pod_qos_mem_besteffort&#x27;, &#x27;node4_node_pod_qos_cpu_besteffort&#x27;, &#x27;node6_node_pod_qos_cpu_besteffort&#x27;, &#x27;node5_node_pod_qos_cpu_besteffort&#x27;, &#x27;node4_node_pod_container_resource_limit_cpu&#x27;, &#x27;node5_node_pod_container_resource_limit_cpu&#x27;, &#x27;node6_node_pod_container_resource_limit_cpu&#x27;]</pre></div></div></div><div class=\"sk-serial\"><div class=\"sk-item\"><div class=\"sk-serial\"><div class=\"sk-item\"><div class=\"sk-estimator sk-toggleable\"><input class=\"sk-toggleable__control sk-hidden--visually\" id=\"sk-estimator-id-27\" type=\"checkbox\" ><label for=\"sk-estimator-id-27\" class=\"sk-toggleable__label sk-toggleable__label-arrow\">PowerTransformer</label><div class=\"sk-toggleable__content\"><pre>PowerTransformer()</pre></div></div></div></div></div></div></div></div></div></div><div class=\"sk-item\"><div class=\"sk-estimator sk-toggleable\"><input class=\"sk-toggleable__control sk-hidden--visually\" id=\"sk-estimator-id-28\" type=\"checkbox\" ><label for=\"sk-estimator-id-28\" class=\"sk-toggleable__label sk-toggleable__label-arrow\">KMeans</label><div class=\"sk-toggleable__content\"><pre>KMeans(max_iter=1000, n_clusters=3, random_state=42, verbose=False)</pre></div></div></div></div></div></div></div>"
      ],
      "text/plain": [
       "Pipeline(steps=[('column_transformer',\n",
       "                 ColumnTransformer(transformers=[('scaler_uint32',\n",
       "                                                  Pipeline(steps=[('power',\n",
       "                                                                   PowerTransformer())]),\n",
       "                                                  ['node1_nodes_roles_per_node',\n",
       "                                                   'node2_nodes_roles_per_node',\n",
       "                                                   'node3_nodes_roles_per_node',\n",
       "                                                   'total_qty_nodes',\n",
       "                                                   'total_qty_control_plane',\n",
       "                                                   'total_qty_workers',\n",
       "                                                   'total_nodes_ready',\n",
       "                                                   'total_nodes_notready',\n",
       "                                                   'total_nodes_unknown'...\n",
       "                                                   'node1_node_pod_container_resource_requests_memory',\n",
       "                                                   'node1_node_pod_container_resource_limit_cpu',\n",
       "                                                   'node2_node_pod_container_resource_limit_cpu',\n",
       "                                                   'node3_node_pod_container_resource_limit_cpu',\n",
       "                                                   'node1_node_capacity_cpu',\n",
       "                                                   'node2_node_capacity_cpu',\n",
       "                                                   'node3_node_capacity_cpu', ...])])),\n",
       "                ('kmeans_model',\n",
       "                 KMeans(max_iter=1000, n_clusters=3, random_state=42,\n",
       "                        verbose=False))])"
      ]
     },
     "execution_count": 36,
     "metadata": {},
     "output_type": "execute_result"
    }
   ],
   "source": [
    "# Training scaled model\n",
    "pipe_kmeans_scaled.fit(X_train)"
   ]
  },
  {
   "cell_type": "code",
   "execution_count": 37,
   "id": "9d17b6d1-ab6e-4d10-aae5-25d25ecf1b39",
   "metadata": {},
   "outputs": [
    {
     "data": {
      "text/html": [
       "<style>#sk-container-id-5 {color: black;}#sk-container-id-5 pre{padding: 0;}#sk-container-id-5 div.sk-toggleable {background-color: white;}#sk-container-id-5 label.sk-toggleable__label {cursor: pointer;display: block;width: 100%;margin-bottom: 0;padding: 0.3em;box-sizing: border-box;text-align: center;}#sk-container-id-5 label.sk-toggleable__label-arrow:before {content: \"▸\";float: left;margin-right: 0.25em;color: #696969;}#sk-container-id-5 label.sk-toggleable__label-arrow:hover:before {color: black;}#sk-container-id-5 div.sk-estimator:hover label.sk-toggleable__label-arrow:before {color: black;}#sk-container-id-5 div.sk-toggleable__content {max-height: 0;max-width: 0;overflow: hidden;text-align: left;background-color: #f0f8ff;}#sk-container-id-5 div.sk-toggleable__content pre {margin: 0.2em;color: black;border-radius: 0.25em;background-color: #f0f8ff;}#sk-container-id-5 input.sk-toggleable__control:checked~div.sk-toggleable__content {max-height: 200px;max-width: 100%;overflow: auto;}#sk-container-id-5 input.sk-toggleable__control:checked~label.sk-toggleable__label-arrow:before {content: \"▾\";}#sk-container-id-5 div.sk-estimator input.sk-toggleable__control:checked~label.sk-toggleable__label {background-color: #d4ebff;}#sk-container-id-5 div.sk-label input.sk-toggleable__control:checked~label.sk-toggleable__label {background-color: #d4ebff;}#sk-container-id-5 input.sk-hidden--visually {border: 0;clip: rect(1px 1px 1px 1px);clip: rect(1px, 1px, 1px, 1px);height: 1px;margin: -1px;overflow: hidden;padding: 0;position: absolute;width: 1px;}#sk-container-id-5 div.sk-estimator {font-family: monospace;background-color: #f0f8ff;border: 1px dotted black;border-radius: 0.25em;box-sizing: border-box;margin-bottom: 0.5em;}#sk-container-id-5 div.sk-estimator:hover {background-color: #d4ebff;}#sk-container-id-5 div.sk-parallel-item::after {content: \"\";width: 100%;border-bottom: 1px solid gray;flex-grow: 1;}#sk-container-id-5 div.sk-label:hover label.sk-toggleable__label {background-color: #d4ebff;}#sk-container-id-5 div.sk-serial::before {content: \"\";position: absolute;border-left: 1px solid gray;box-sizing: border-box;top: 0;bottom: 0;left: 50%;z-index: 0;}#sk-container-id-5 div.sk-serial {display: flex;flex-direction: column;align-items: center;background-color: white;padding-right: 0.2em;padding-left: 0.2em;position: relative;}#sk-container-id-5 div.sk-item {position: relative;z-index: 1;}#sk-container-id-5 div.sk-parallel {display: flex;align-items: stretch;justify-content: center;background-color: white;position: relative;}#sk-container-id-5 div.sk-item::before, #sk-container-id-5 div.sk-parallel-item::before {content: \"\";position: absolute;border-left: 1px solid gray;box-sizing: border-box;top: 0;bottom: 0;left: 50%;z-index: -1;}#sk-container-id-5 div.sk-parallel-item {display: flex;flex-direction: column;z-index: 1;position: relative;background-color: white;}#sk-container-id-5 div.sk-parallel-item:first-child::after {align-self: flex-end;width: 50%;}#sk-container-id-5 div.sk-parallel-item:last-child::after {align-self: flex-start;width: 50%;}#sk-container-id-5 div.sk-parallel-item:only-child::after {width: 0;}#sk-container-id-5 div.sk-dashed-wrapped {border: 1px dashed gray;margin: 0 0.4em 0.5em 0.4em;box-sizing: border-box;padding-bottom: 0.4em;background-color: white;}#sk-container-id-5 div.sk-label label {font-family: monospace;font-weight: bold;display: inline-block;line-height: 1.2em;}#sk-container-id-5 div.sk-label-container {text-align: center;}#sk-container-id-5 div.sk-container {/* jupyter's `normalize.less` sets `[hidden] { display: none; }` but bootstrap.min.css set `[hidden] { display: none !important; }` so we also need the `!important` here to be able to override the default hidden behavior on the sphinx rendered scikit-learn.org. See: https://github.com/scikit-learn/scikit-learn/issues/21755 */display: inline-block !important;position: relative;}#sk-container-id-5 div.sk-text-repr-fallback {display: none;}</style><div id=\"sk-container-id-5\" class=\"sk-top-container\"><div class=\"sk-text-repr-fallback\"><pre>Pipeline(steps=[(&#x27;kmeans_model&#x27;,\n",
       "                 KMeans(max_iter=1000, n_clusters=3, random_state=42,\n",
       "                        verbose=False))])</pre><b>In a Jupyter environment, please rerun this cell to show the HTML representation or trust the notebook. <br />On GitHub, the HTML representation is unable to render, please try loading this page with nbviewer.org.</b></div><div class=\"sk-container\" hidden><div class=\"sk-item sk-dashed-wrapped\"><div class=\"sk-label-container\"><div class=\"sk-label sk-toggleable\"><input class=\"sk-toggleable__control sk-hidden--visually\" id=\"sk-estimator-id-29\" type=\"checkbox\" ><label for=\"sk-estimator-id-29\" class=\"sk-toggleable__label sk-toggleable__label-arrow\">Pipeline</label><div class=\"sk-toggleable__content\"><pre>Pipeline(steps=[(&#x27;kmeans_model&#x27;,\n",
       "                 KMeans(max_iter=1000, n_clusters=3, random_state=42,\n",
       "                        verbose=False))])</pre></div></div></div><div class=\"sk-serial\"><div class=\"sk-item\"><div class=\"sk-estimator sk-toggleable\"><input class=\"sk-toggleable__control sk-hidden--visually\" id=\"sk-estimator-id-30\" type=\"checkbox\" ><label for=\"sk-estimator-id-30\" class=\"sk-toggleable__label sk-toggleable__label-arrow\">KMeans</label><div class=\"sk-toggleable__content\"><pre>KMeans(max_iter=1000, n_clusters=3, random_state=42, verbose=False)</pre></div></div></div></div></div></div></div>"
      ],
      "text/plain": [
       "Pipeline(steps=[('kmeans_model',\n",
       "                 KMeans(max_iter=1000, n_clusters=3, random_state=42,\n",
       "                        verbose=False))])"
      ]
     },
     "execution_count": 37,
     "metadata": {},
     "output_type": "execute_result"
    }
   ],
   "source": [
    "# Training unscaled model\n",
    "pipe_kmeans.fit(X_train)"
   ]
  },
  {
   "cell_type": "code",
   "execution_count": 38,
   "id": "5bfe6838-8168-4a0c-aa08-f360324f21ac",
   "metadata": {},
   "outputs": [
    {
     "name": "stdout",
     "output_type": "stream",
     "text": [
      "Scaled dataset:\n",
      "Num. iterations: 3\n",
      "\tInertia: 361868.69698219385\n",
      "Unscaled dataset:\n",
      "Num. iterations: 2\n",
      "\tInertia: 3.867108127896277e+23\n"
     ]
    }
   ],
   "source": [
    "# A good model should have a low intertia\n",
    "print(f\"Scaled dataset:\\nNum. iterations: {pipe_kmeans_scaled.named_steps.kmeans_model.n_iter_}\\n\"\n",
    "      +f\"\\tInertia: {pipe_kmeans_scaled.named_steps.kmeans_model.inertia_}\")\n",
    "\n",
    "print(f\"Unscaled dataset:\\nNum. iterations: {pipe_kmeans.named_steps.kmeans_model.n_iter_}\\n\"\n",
    "      +f\"\\tInertia: {pipe_kmeans.named_steps.kmeans_model.inertia_}\")"
   ]
  },
  {
   "cell_type": "markdown",
   "id": "12dafb3d-5b3d-4268-8d9a-b0905449303c",
   "metadata": {},
   "source": [
    "**Discussion**\n",
    "\n",
    "A good KMeans model should have low \"inertia\". From the results above scaling the features has a negative impact on the \"inertia\" attribute. For the remainder of this section, the evaluation will use the unscaled model."
   ]
  },
  {
   "cell_type": "code",
   "execution_count": 39,
   "id": "47da07c0-fbc4-4b73-91e6-afed31ee8573",
   "metadata": {},
   "outputs": [
    {
     "data": {
      "text/plain": [
       "(array([0, 1, 2], dtype=int32), array([ 450, 1345,   14]))"
      ]
     },
     "execution_count": 39,
     "metadata": {},
     "output_type": "execute_result"
    }
   ],
   "source": [
    "# Confirm distribution among groups\n",
    "np.unique(pipe_kmeans.named_steps.kmeans_model.labels_, return_counts=True)"
   ]
  },
  {
   "cell_type": "code",
   "execution_count": 40,
   "id": "8275cb93-a9a6-4279-87ad-471d945b28ae",
   "metadata": {},
   "outputs": [
    {
     "data": {
      "text/plain": [
       "y_label\n",
       "0    1573\n",
       "2     129\n",
       "1     107\n",
       "Name: count, dtype: int64"
      ]
     },
     "execution_count": 40,
     "metadata": {},
     "output_type": "execute_result"
    }
   ],
   "source": [
    "# Compare quantities with actual y\n",
    "y_train.value_counts()"
   ]
  },
  {
   "cell_type": "code",
   "execution_count": 41,
   "id": "3cd3cdff-3366-446a-9b3d-644d2c8eda80",
   "metadata": {},
   "outputs": [
    {
     "name": "stdout",
     "output_type": "stream",
     "text": [
      "           accuracy_score\t0.29574350469872857\n",
      "  balanced_accuracy_score\t0.37757682702457557\n",
      "                 f1_score\t0.18809880134195955\n",
      "          precision_score\t0.3514415530772408\n",
      "             recall_score\t0.37757682702457557\n",
      "       mean_squared_error\t0.710889994472084\n"
     ]
    }
   ],
   "source": [
    "# Determine model scores\n",
    "y_pred_kmeans=pipe_kmeans.predict(X_train)\n",
    "_ = ml_util.get_model_scores(y_train, y_pred_kmeans)"
   ]
  },
  {
   "cell_type": "code",
   "execution_count": 42,
   "id": "802941f0-c35b-4671-b9ab-f323cdba594d",
   "metadata": {},
   "outputs": [
    {
     "data": {
      "image/png": "[encoded data removed]",
      "text/plain": [
       "<Figure size 640x480 with 2 Axes>"
      ]
     },
     "metadata": {},
     "output_type": "display_data"
    }
   ],
   "source": [
    "ml_util.show_confusion_matrix(y_train, y_pred_kmeans)"
   ]
  },
  {
   "cell_type": "markdown",
   "id": "1c1874ff-28e2-4ebf-a7cb-59fc780ef6b1",
   "metadata": {},
   "source": [
    "**Discussion**\n",
    "\n",
    "As seen from the model scores, when using a combined dataset **the model canNOT predict** the target variable. This model is not usable.\n",
    "\n",
    "In the next steps, we will do a similar analysis but for a specific cluster type."
   ]
  },
  {
   "cell_type": "code",
   "execution_count": 43,
   "id": "327224b5-3e8b-4259-90ae-3148ecac4c04",
   "metadata": {},
   "outputs": [
    {
     "name": "stdout",
     "output_type": "stream",
     "text": [
      "dict_keys(['X_full', 'X', 'y', 'X_train', 'y_train', 'X_test', 'y_test', 'y_train_logreg', 'y_test_logreg'])\n",
      "dict_keys(['X_full', 'X', 'y', 'X_train', 'y_train', 'X_test', 'y_test', 'y_train_logreg', 'y_test_logreg'])\n"
     ]
    }
   ],
   "source": [
    "# Using the previously acquired structure with per cluster datasets with\n",
    "# keys ['X_full', 'X', 'y', 'X_train', 'y_train', 'X_test', 'y_test']\n",
    "for k in X_clusters.keys():\n",
    "    print(X_clusters[k].keys())"
   ]
  },
  {
   "cell_type": "code",
   "execution_count": 44,
   "id": "46788ee1-fc64-467c-9e6a-9fb1bdf9a300",
   "metadata": {},
   "outputs": [],
   "source": [
    "# Create KMeans model per cluster type\n",
    "kmeans_model_compact = KMeans(n_clusters=3, \n",
    "                              max_iter=1000, \n",
    "                              verbose=False, \n",
    "                              random_state=RANDOM_STATE,\n",
    "                              tol=0.0001, # default 0.0001\n",
    "                              algorithm='lloyd' # 'lloyd' or 'elkan'\n",
    "                             )\n",
    "\n",
    "kmeans_model_mno = KMeans(n_clusters=3, \n",
    "                          max_iter=1000, \n",
    "                          verbose=False, \n",
    "                          random_state=RANDOM_STATE,\n",
    "                          tol=0.0001, # default 0.0001\n",
    "                          algorithm='lloyd' # 'lloyd' or 'elkan'\n",
    "                         )\n"
   ]
  },
  {
   "cell_type": "code",
   "execution_count": 45,
   "id": "645488f2-3ebb-440f-b231-f1c48accd8c7",
   "metadata": {},
   "outputs": [],
   "source": [
    "# Pipeline for fitting the model:\n",
    "pipe_kmeans_compact = Pipeline([\n",
    "    ('kmeans_model', kmeans_model_compact)\n",
    "])\n",
    "# without scaling data\n",
    "pipe_kmeans_mno = Pipeline([\n",
    "    ('kmeans_model', kmeans_model_mno)\n",
    "])"
   ]
  },
  {
   "cell_type": "code",
   "execution_count": 46,
   "id": "3a97be52-ebaf-42e6-b0cd-aad1e8306a78",
   "metadata": {},
   "outputs": [
    {
     "data": {
      "text/html": [
       "<style>#sk-container-id-6 {color: black;}#sk-container-id-6 pre{padding: 0;}#sk-container-id-6 div.sk-toggleable {background-color: white;}#sk-container-id-6 label.sk-toggleable__label {cursor: pointer;display: block;width: 100%;margin-bottom: 0;padding: 0.3em;box-sizing: border-box;text-align: center;}#sk-container-id-6 label.sk-toggleable__label-arrow:before {content: \"▸\";float: left;margin-right: 0.25em;color: #696969;}#sk-container-id-6 label.sk-toggleable__label-arrow:hover:before {color: black;}#sk-container-id-6 div.sk-estimator:hover label.sk-toggleable__label-arrow:before {color: black;}#sk-container-id-6 div.sk-toggleable__content {max-height: 0;max-width: 0;overflow: hidden;text-align: left;background-color: #f0f8ff;}#sk-container-id-6 div.sk-toggleable__content pre {margin: 0.2em;color: black;border-radius: 0.25em;background-color: #f0f8ff;}#sk-container-id-6 input.sk-toggleable__control:checked~div.sk-toggleable__content {max-height: 200px;max-width: 100%;overflow: auto;}#sk-container-id-6 input.sk-toggleable__control:checked~label.sk-toggleable__label-arrow:before {content: \"▾\";}#sk-container-id-6 div.sk-estimator input.sk-toggleable__control:checked~label.sk-toggleable__label {background-color: #d4ebff;}#sk-container-id-6 div.sk-label input.sk-toggleable__control:checked~label.sk-toggleable__label {background-color: #d4ebff;}#sk-container-id-6 input.sk-hidden--visually {border: 0;clip: rect(1px 1px 1px 1px);clip: rect(1px, 1px, 1px, 1px);height: 1px;margin: -1px;overflow: hidden;padding: 0;position: absolute;width: 1px;}#sk-container-id-6 div.sk-estimator {font-family: monospace;background-color: #f0f8ff;border: 1px dotted black;border-radius: 0.25em;box-sizing: border-box;margin-bottom: 0.5em;}#sk-container-id-6 div.sk-estimator:hover {background-color: #d4ebff;}#sk-container-id-6 div.sk-parallel-item::after {content: \"\";width: 100%;border-bottom: 1px solid gray;flex-grow: 1;}#sk-container-id-6 div.sk-label:hover label.sk-toggleable__label {background-color: #d4ebff;}#sk-container-id-6 div.sk-serial::before {content: \"\";position: absolute;border-left: 1px solid gray;box-sizing: border-box;top: 0;bottom: 0;left: 50%;z-index: 0;}#sk-container-id-6 div.sk-serial {display: flex;flex-direction: column;align-items: center;background-color: white;padding-right: 0.2em;padding-left: 0.2em;position: relative;}#sk-container-id-6 div.sk-item {position: relative;z-index: 1;}#sk-container-id-6 div.sk-parallel {display: flex;align-items: stretch;justify-content: center;background-color: white;position: relative;}#sk-container-id-6 div.sk-item::before, #sk-container-id-6 div.sk-parallel-item::before {content: \"\";position: absolute;border-left: 1px solid gray;box-sizing: border-box;top: 0;bottom: 0;left: 50%;z-index: -1;}#sk-container-id-6 div.sk-parallel-item {display: flex;flex-direction: column;z-index: 1;position: relative;background-color: white;}#sk-container-id-6 div.sk-parallel-item:first-child::after {align-self: flex-end;width: 50%;}#sk-container-id-6 div.sk-parallel-item:last-child::after {align-self: flex-start;width: 50%;}#sk-container-id-6 div.sk-parallel-item:only-child::after {width: 0;}#sk-container-id-6 div.sk-dashed-wrapped {border: 1px dashed gray;margin: 0 0.4em 0.5em 0.4em;box-sizing: border-box;padding-bottom: 0.4em;background-color: white;}#sk-container-id-6 div.sk-label label {font-family: monospace;font-weight: bold;display: inline-block;line-height: 1.2em;}#sk-container-id-6 div.sk-label-container {text-align: center;}#sk-container-id-6 div.sk-container {/* jupyter's `normalize.less` sets `[hidden] { display: none; }` but bootstrap.min.css set `[hidden] { display: none !important; }` so we also need the `!important` here to be able to override the default hidden behavior on the sphinx rendered scikit-learn.org. See: https://github.com/scikit-learn/scikit-learn/issues/21755 */display: inline-block !important;position: relative;}#sk-container-id-6 div.sk-text-repr-fallback {display: none;}</style><div id=\"sk-container-id-6\" class=\"sk-top-container\"><div class=\"sk-text-repr-fallback\"><pre>Pipeline(steps=[(&#x27;kmeans_model&#x27;,\n",
       "                 KMeans(max_iter=1000, n_clusters=3, random_state=42,\n",
       "                        verbose=False))])</pre><b>In a Jupyter environment, please rerun this cell to show the HTML representation or trust the notebook. <br />On GitHub, the HTML representation is unable to render, please try loading this page with nbviewer.org.</b></div><div class=\"sk-container\" hidden><div class=\"sk-item sk-dashed-wrapped\"><div class=\"sk-label-container\"><div class=\"sk-label sk-toggleable\"><input class=\"sk-toggleable__control sk-hidden--visually\" id=\"sk-estimator-id-31\" type=\"checkbox\" ><label for=\"sk-estimator-id-31\" class=\"sk-toggleable__label sk-toggleable__label-arrow\">Pipeline</label><div class=\"sk-toggleable__content\"><pre>Pipeline(steps=[(&#x27;kmeans_model&#x27;,\n",
       "                 KMeans(max_iter=1000, n_clusters=3, random_state=42,\n",
       "                        verbose=False))])</pre></div></div></div><div class=\"sk-serial\"><div class=\"sk-item\"><div class=\"sk-estimator sk-toggleable\"><input class=\"sk-toggleable__control sk-hidden--visually\" id=\"sk-estimator-id-32\" type=\"checkbox\" ><label for=\"sk-estimator-id-32\" class=\"sk-toggleable__label sk-toggleable__label-arrow\">KMeans</label><div class=\"sk-toggleable__content\"><pre>KMeans(max_iter=1000, n_clusters=3, random_state=42, verbose=False)</pre></div></div></div></div></div></div></div>"
      ],
      "text/plain": [
       "Pipeline(steps=[('kmeans_model',\n",
       "                 KMeans(max_iter=1000, n_clusters=3, random_state=42,\n",
       "                        verbose=False))])"
      ]
     },
     "execution_count": 46,
     "metadata": {},
     "output_type": "execute_result"
    }
   ],
   "source": [
    "pipe_kmeans_compact.fit(X_clusters['compact']['X_train'])"
   ]
  },
  {
   "cell_type": "code",
   "execution_count": 47,
   "id": "58275584-e404-4b62-9d61-08a0772cfc26",
   "metadata": {},
   "outputs": [
    {
     "data": {
      "text/html": [
       "<style>#sk-container-id-7 {color: black;}#sk-container-id-7 pre{padding: 0;}#sk-container-id-7 div.sk-toggleable {background-color: white;}#sk-container-id-7 label.sk-toggleable__label {cursor: pointer;display: block;width: 100%;margin-bottom: 0;padding: 0.3em;box-sizing: border-box;text-align: center;}#sk-container-id-7 label.sk-toggleable__label-arrow:before {content: \"▸\";float: left;margin-right: 0.25em;color: #696969;}#sk-container-id-7 label.sk-toggleable__label-arrow:hover:before {color: black;}#sk-container-id-7 div.sk-estimator:hover label.sk-toggleable__label-arrow:before {color: black;}#sk-container-id-7 div.sk-toggleable__content {max-height: 0;max-width: 0;overflow: hidden;text-align: left;background-color: #f0f8ff;}#sk-container-id-7 div.sk-toggleable__content pre {margin: 0.2em;color: black;border-radius: 0.25em;background-color: #f0f8ff;}#sk-container-id-7 input.sk-toggleable__control:checked~div.sk-toggleable__content {max-height: 200px;max-width: 100%;overflow: auto;}#sk-container-id-7 input.sk-toggleable__control:checked~label.sk-toggleable__label-arrow:before {content: \"▾\";}#sk-container-id-7 div.sk-estimator input.sk-toggleable__control:checked~label.sk-toggleable__label {background-color: #d4ebff;}#sk-container-id-7 div.sk-label input.sk-toggleable__control:checked~label.sk-toggleable__label {background-color: #d4ebff;}#sk-container-id-7 input.sk-hidden--visually {border: 0;clip: rect(1px 1px 1px 1px);clip: rect(1px, 1px, 1px, 1px);height: 1px;margin: -1px;overflow: hidden;padding: 0;position: absolute;width: 1px;}#sk-container-id-7 div.sk-estimator {font-family: monospace;background-color: #f0f8ff;border: 1px dotted black;border-radius: 0.25em;box-sizing: border-box;margin-bottom: 0.5em;}#sk-container-id-7 div.sk-estimator:hover {background-color: #d4ebff;}#sk-container-id-7 div.sk-parallel-item::after {content: \"\";width: 100%;border-bottom: 1px solid gray;flex-grow: 1;}#sk-container-id-7 div.sk-label:hover label.sk-toggleable__label {background-color: #d4ebff;}#sk-container-id-7 div.sk-serial::before {content: \"\";position: absolute;border-left: 1px solid gray;box-sizing: border-box;top: 0;bottom: 0;left: 50%;z-index: 0;}#sk-container-id-7 div.sk-serial {display: flex;flex-direction: column;align-items: center;background-color: white;padding-right: 0.2em;padding-left: 0.2em;position: relative;}#sk-container-id-7 div.sk-item {position: relative;z-index: 1;}#sk-container-id-7 div.sk-parallel {display: flex;align-items: stretch;justify-content: center;background-color: white;position: relative;}#sk-container-id-7 div.sk-item::before, #sk-container-id-7 div.sk-parallel-item::before {content: \"\";position: absolute;border-left: 1px solid gray;box-sizing: border-box;top: 0;bottom: 0;left: 50%;z-index: -1;}#sk-container-id-7 div.sk-parallel-item {display: flex;flex-direction: column;z-index: 1;position: relative;background-color: white;}#sk-container-id-7 div.sk-parallel-item:first-child::after {align-self: flex-end;width: 50%;}#sk-container-id-7 div.sk-parallel-item:last-child::after {align-self: flex-start;width: 50%;}#sk-container-id-7 div.sk-parallel-item:only-child::after {width: 0;}#sk-container-id-7 div.sk-dashed-wrapped {border: 1px dashed gray;margin: 0 0.4em 0.5em 0.4em;box-sizing: border-box;padding-bottom: 0.4em;background-color: white;}#sk-container-id-7 div.sk-label label {font-family: monospace;font-weight: bold;display: inline-block;line-height: 1.2em;}#sk-container-id-7 div.sk-label-container {text-align: center;}#sk-container-id-7 div.sk-container {/* jupyter's `normalize.less` sets `[hidden] { display: none; }` but bootstrap.min.css set `[hidden] { display: none !important; }` so we also need the `!important` here to be able to override the default hidden behavior on the sphinx rendered scikit-learn.org. See: https://github.com/scikit-learn/scikit-learn/issues/21755 */display: inline-block !important;position: relative;}#sk-container-id-7 div.sk-text-repr-fallback {display: none;}</style><div id=\"sk-container-id-7\" class=\"sk-top-container\"><div class=\"sk-text-repr-fallback\"><pre>Pipeline(steps=[(&#x27;kmeans_model&#x27;,\n",
       "                 KMeans(max_iter=1000, n_clusters=3, random_state=42,\n",
       "                        verbose=False))])</pre><b>In a Jupyter environment, please rerun this cell to show the HTML representation or trust the notebook. <br />On GitHub, the HTML representation is unable to render, please try loading this page with nbviewer.org.</b></div><div class=\"sk-container\" hidden><div class=\"sk-item sk-dashed-wrapped\"><div class=\"sk-label-container\"><div class=\"sk-label sk-toggleable\"><input class=\"sk-toggleable__control sk-hidden--visually\" id=\"sk-estimator-id-33\" type=\"checkbox\" ><label for=\"sk-estimator-id-33\" class=\"sk-toggleable__label sk-toggleable__label-arrow\">Pipeline</label><div class=\"sk-toggleable__content\"><pre>Pipeline(steps=[(&#x27;kmeans_model&#x27;,\n",
       "                 KMeans(max_iter=1000, n_clusters=3, random_state=42,\n",
       "                        verbose=False))])</pre></div></div></div><div class=\"sk-serial\"><div class=\"sk-item\"><div class=\"sk-estimator sk-toggleable\"><input class=\"sk-toggleable__control sk-hidden--visually\" id=\"sk-estimator-id-34\" type=\"checkbox\" ><label for=\"sk-estimator-id-34\" class=\"sk-toggleable__label sk-toggleable__label-arrow\">KMeans</label><div class=\"sk-toggleable__content\"><pre>KMeans(max_iter=1000, n_clusters=3, random_state=42, verbose=False)</pre></div></div></div></div></div></div></div>"
      ],
      "text/plain": [
       "Pipeline(steps=[('kmeans_model',\n",
       "                 KMeans(max_iter=1000, n_clusters=3, random_state=42,\n",
       "                        verbose=False))])"
      ]
     },
     "execution_count": 47,
     "metadata": {},
     "output_type": "execute_result"
    }
   ],
   "source": [
    "pipe_kmeans_mno.fit(X_clusters['mno']['X_train'])"
   ]
  },
  {
   "cell_type": "code",
   "execution_count": 48,
   "id": "7bd6a9c5-ff84-45c8-add9-fa18a8dff066",
   "metadata": {},
   "outputs": [
    {
     "data": {
      "text/plain": [
       "(array([0, 1, 2], dtype=int32), array([984, 360,   6]))"
      ]
     },
     "execution_count": 48,
     "metadata": {},
     "output_type": "execute_result"
    }
   ],
   "source": [
    "# Quantity of labels per class\n",
    "np.unique(pipe_kmeans_compact.named_steps.kmeans_model.labels_, return_counts=True)"
   ]
  },
  {
   "cell_type": "code",
   "execution_count": 49,
   "id": "fe8af4d2-f1ac-4e50-aed0-8208b0bb42e0",
   "metadata": {},
   "outputs": [
    {
     "data": {
      "text/plain": [
       "y_label\n",
       "0    1127\n",
       "2     123\n",
       "1     100\n",
       "Name: count, dtype: int64"
      ]
     },
     "execution_count": 49,
     "metadata": {},
     "output_type": "execute_result"
    }
   ],
   "source": [
    "# Quantity of actual labels\n",
    "X_clusters['compact']['y_train'].value_counts()"
   ]
  },
  {
   "cell_type": "code",
   "execution_count": 50,
   "id": "9b08fbfc-e320-4505-8e48-c11dc0d65f75",
   "metadata": {},
   "outputs": [
    {
     "name": "stdout",
     "output_type": "stream",
     "text": [
      "           accuracy_score\t0.08\n",
      "  balanced_accuracy_score\t0.3\n",
      "                 f1_score\t0.049484536082474224\n",
      "          precision_score\t0.026966292134831458\n",
      "             recall_score\t0.3\n",
      "       mean_squared_error\t0.9266666666666666\n"
     ]
    }
   ],
   "source": [
    "# Determine model scores\n",
    "y_pred_kmeans_compact=pipe_kmeans.predict(X_clusters['compact']['X_test'])\n",
    "_ = ml_util.get_model_scores(X_clusters['compact']['y_test'].astype('uint32'), y_pred_kmeans_compact)"
   ]
  },
  {
   "cell_type": "code",
   "execution_count": 51,
   "id": "b849801f-8c23-4002-a081-9f1b167510e7",
   "metadata": {},
   "outputs": [
    {
     "data": {
      "image/png": "[encoded data removed]",
      "text/plain": [
       "<Figure size 640x480 with 2 Axes>"
      ]
     },
     "metadata": {},
     "output_type": "display_data"
    }
   ],
   "source": [
    "ml_util.show_confusion_matrix(X_clusters['compact']['y_test'].astype('uint32'), y_pred_kmeans_compact)"
   ]
  },
  {
   "cell_type": "code",
   "execution_count": 52,
   "id": "3accfd9e-f4a7-481e-8c78-25a0ecf776c8",
   "metadata": {},
   "outputs": [
    {
     "name": "stdout",
     "output_type": "stream",
     "text": [
      "           accuracy_score\t0.974025974025974\n",
      "  balanced_accuracy_score\t0.5\n",
      "                 f1_score\t0.3311258278145695\n",
      "          precision_score\t0.3289473684210526\n",
      "             recall_score\t0.3333333333333333\n",
      "       mean_squared_error\t0.025974025974025976\n"
     ]
    },
    {
     "data": {
      "image/png": "[encoded data removed]",
      "text/plain": [
       "<Figure size 640x480 with 2 Axes>"
      ]
     },
     "metadata": {},
     "output_type": "display_data"
    }
   ],
   "source": [
    "# Determine model scores\n",
    "y_pred_kmeans_mno=pipe_kmeans.predict(X_clusters['mno']['X_test'])\n",
    "_ = ml_util.get_model_scores(X_clusters['mno']['y_test'].astype('uint32'), y_pred_kmeans_mno)\n",
    "\n",
    "ml_util.show_confusion_matrix(X_clusters['mno']['y_test'].astype('uint32'), y_pred_kmeans_mno)"
   ]
  },
  {
   "cell_type": "markdown",
   "id": "7fdaae3b-03a6-4fd7-ad5c-b32208053c7e",
   "metadata": {},
   "source": [
    "**Discussion**\n",
    "\n",
    "As we can see with this model scores and confusion matrix results above, the `KMeans` algorithm is **NOT** suitable for this purpose when we have a specific classification. It might be the case that the algorithm is detecting a different type of grouping due to how data of the nodes is present or not based on the type of cluster or if the control plane is schedulable. We would need a dataset of features not present in the current samples to test those other hypotheses. "
   ]
  },
  {
   "cell_type": "markdown",
   "id": "d968652e-4cce-40b1-a61e-527421fb66e6",
   "metadata": {},
   "source": [
    "### 2.3 Radom Forest Classifier\n",
    "\n",
    "The dataset uses a target variable y_label with $0=green$, $1=red$ and $2=yellow$\n",
    "\n",
    "The dataset is evaluated and transformed using the best scalers identified in section 2.1 and also without any transformations to identify if there are relevant improvements between the two approaches."
   ]
  },
  {
   "cell_type": "code",
   "execution_count": 53,
   "id": "a14ef4c2-5986-4fa4-9565-fb8e271d698b",
   "metadata": {},
   "outputs": [
    {
     "data": {
      "text/plain": [
       "((1809, 465), (604, 465))"
      ]
     },
     "execution_count": 53,
     "metadata": {},
     "output_type": "execute_result"
    }
   ],
   "source": [
    "# First will do evaluation with the X,y combined dataset\n",
    "X_train.shape , X_test.shape"
   ]
  },
  {
   "cell_type": "code",
   "execution_count": 54,
   "id": "028398f2-3823-43bf-8ebb-d10b34a65e62",
   "metadata": {},
   "outputs": [],
   "source": [
    "# Create two RandomForest models\n",
    "rf_model1 = RandomForestClassifier(n_estimators = 100, \n",
    "                                   criterion = 'gini', # 'entropy', \n",
    "                                   max_features = 'log2',\n",
    "                                   n_jobs = -1, # num of parallel jobs, when -1 use all processors\n",
    "                                   random_state = RANDOM_STATE)\n",
    "\n",
    "rf_model2 = RandomForestClassifier(n_estimators = 100, \n",
    "                                   criterion = 'gini', # 'entropy', \n",
    "                                   max_features = 'log2',\n",
    "                                   n_jobs = -1, # num of parallel jobs, when -1 use all processors\n",
    "                                   random_state = RANDOM_STATE)"
   ]
  },
  {
   "cell_type": "code",
   "execution_count": 55,
   "id": "5cce3278-bdf1-4684-abe1-9b3135fa5403",
   "metadata": {},
   "outputs": [],
   "source": [
    "# Scale features using same scalers as found in section 2.1\n",
    "ct=ml_util.feature_scaling_per_type(X_train, 'power', 'power')\n",
    "\n",
    "# Pipeline for fitting the model:\n",
    "# with column transformer\n",
    "rf_scaled = Pipeline([\n",
    "    ('column_transformer', ct),\n",
    "    ('rf_model', rf_model1)\n",
    "])\n",
    "# without scaling data\n",
    "rf = Pipeline([\n",
    "    ('rf_model', rf_model2)\n",
    "])"
   ]
  },
  {
   "cell_type": "code",
   "execution_count": 56,
   "id": "9ff20603-22a3-4554-baef-fecd2be3a777",
   "metadata": {},
   "outputs": [
    {
     "data": {
      "text/html": [
       "<style>#sk-container-id-8 {color: black;}#sk-container-id-8 pre{padding: 0;}#sk-container-id-8 div.sk-toggleable {background-color: white;}#sk-container-id-8 label.sk-toggleable__label {cursor: pointer;display: block;width: 100%;margin-bottom: 0;padding: 0.3em;box-sizing: border-box;text-align: center;}#sk-container-id-8 label.sk-toggleable__label-arrow:before {content: \"▸\";float: left;margin-right: 0.25em;color: #696969;}#sk-container-id-8 label.sk-toggleable__label-arrow:hover:before {color: black;}#sk-container-id-8 div.sk-estimator:hover label.sk-toggleable__label-arrow:before {color: black;}#sk-container-id-8 div.sk-toggleable__content {max-height: 0;max-width: 0;overflow: hidden;text-align: left;background-color: #f0f8ff;}#sk-container-id-8 div.sk-toggleable__content pre {margin: 0.2em;color: black;border-radius: 0.25em;background-color: #f0f8ff;}#sk-container-id-8 input.sk-toggleable__control:checked~div.sk-toggleable__content {max-height: 200px;max-width: 100%;overflow: auto;}#sk-container-id-8 input.sk-toggleable__control:checked~label.sk-toggleable__label-arrow:before {content: \"▾\";}#sk-container-id-8 div.sk-estimator input.sk-toggleable__control:checked~label.sk-toggleable__label {background-color: #d4ebff;}#sk-container-id-8 div.sk-label input.sk-toggleable__control:checked~label.sk-toggleable__label {background-color: #d4ebff;}#sk-container-id-8 input.sk-hidden--visually {border: 0;clip: rect(1px 1px 1px 1px);clip: rect(1px, 1px, 1px, 1px);height: 1px;margin: -1px;overflow: hidden;padding: 0;position: absolute;width: 1px;}#sk-container-id-8 div.sk-estimator {font-family: monospace;background-color: #f0f8ff;border: 1px dotted black;border-radius: 0.25em;box-sizing: border-box;margin-bottom: 0.5em;}#sk-container-id-8 div.sk-estimator:hover {background-color: #d4ebff;}#sk-container-id-8 div.sk-parallel-item::after {content: \"\";width: 100%;border-bottom: 1px solid gray;flex-grow: 1;}#sk-container-id-8 div.sk-label:hover label.sk-toggleable__label {background-color: #d4ebff;}#sk-container-id-8 div.sk-serial::before {content: \"\";position: absolute;border-left: 1px solid gray;box-sizing: border-box;top: 0;bottom: 0;left: 50%;z-index: 0;}#sk-container-id-8 div.sk-serial {display: flex;flex-direction: column;align-items: center;background-color: white;padding-right: 0.2em;padding-left: 0.2em;position: relative;}#sk-container-id-8 div.sk-item {position: relative;z-index: 1;}#sk-container-id-8 div.sk-parallel {display: flex;align-items: stretch;justify-content: center;background-color: white;position: relative;}#sk-container-id-8 div.sk-item::before, #sk-container-id-8 div.sk-parallel-item::before {content: \"\";position: absolute;border-left: 1px solid gray;box-sizing: border-box;top: 0;bottom: 0;left: 50%;z-index: -1;}#sk-container-id-8 div.sk-parallel-item {display: flex;flex-direction: column;z-index: 1;position: relative;background-color: white;}#sk-container-id-8 div.sk-parallel-item:first-child::after {align-self: flex-end;width: 50%;}#sk-container-id-8 div.sk-parallel-item:last-child::after {align-self: flex-start;width: 50%;}#sk-container-id-8 div.sk-parallel-item:only-child::after {width: 0;}#sk-container-id-8 div.sk-dashed-wrapped {border: 1px dashed gray;margin: 0 0.4em 0.5em 0.4em;box-sizing: border-box;padding-bottom: 0.4em;background-color: white;}#sk-container-id-8 div.sk-label label {font-family: monospace;font-weight: bold;display: inline-block;line-height: 1.2em;}#sk-container-id-8 div.sk-label-container {text-align: center;}#sk-container-id-8 div.sk-container {/* jupyter's `normalize.less` sets `[hidden] { display: none; }` but bootstrap.min.css set `[hidden] { display: none !important; }` so we also need the `!important` here to be able to override the default hidden behavior on the sphinx rendered scikit-learn.org. See: https://github.com/scikit-learn/scikit-learn/issues/21755 */display: inline-block !important;position: relative;}#sk-container-id-8 div.sk-text-repr-fallback {display: none;}</style><div id=\"sk-container-id-8\" class=\"sk-top-container\"><div class=\"sk-text-repr-fallback\"><pre>Pipeline(steps=[(&#x27;column_transformer&#x27;,\n",
       "                 ColumnTransformer(transformers=[(&#x27;scaler_uint32&#x27;,\n",
       "                                                  Pipeline(steps=[(&#x27;power&#x27;,\n",
       "                                                                   PowerTransformer())]),\n",
       "                                                  [&#x27;node1_nodes_roles_per_node&#x27;,\n",
       "                                                   &#x27;node2_nodes_roles_per_node&#x27;,\n",
       "                                                   &#x27;node3_nodes_roles_per_node&#x27;,\n",
       "                                                   &#x27;total_qty_nodes&#x27;,\n",
       "                                                   &#x27;total_qty_control_plane&#x27;,\n",
       "                                                   &#x27;total_qty_workers&#x27;,\n",
       "                                                   &#x27;total_nodes_ready&#x27;,\n",
       "                                                   &#x27;total_nodes_notready&#x27;,\n",
       "                                                   &#x27;total_nodes_unknown&#x27;...\n",
       "                                                   &#x27;node1_node_pod_container_resource_requests_memory&#x27;,\n",
       "                                                   &#x27;node1_node_pod_container_resource_limit_cpu&#x27;,\n",
       "                                                   &#x27;node2_node_pod_container_resource_limit_cpu&#x27;,\n",
       "                                                   &#x27;node3_node_pod_container_resource_limit_cpu&#x27;,\n",
       "                                                   &#x27;node1_node_capacity_cpu&#x27;,\n",
       "                                                   &#x27;node2_node_capacity_cpu&#x27;,\n",
       "                                                   &#x27;node3_node_capacity_cpu&#x27;, ...])])),\n",
       "                (&#x27;rf_model&#x27;,\n",
       "                 RandomForestClassifier(max_features=&#x27;log2&#x27;, n_jobs=-1,\n",
       "                                        random_state=42))])</pre><b>In a Jupyter environment, please rerun this cell to show the HTML representation or trust the notebook. <br />On GitHub, the HTML representation is unable to render, please try loading this page with nbviewer.org.</b></div><div class=\"sk-container\" hidden><div class=\"sk-item sk-dashed-wrapped\"><div class=\"sk-label-container\"><div class=\"sk-label sk-toggleable\"><input class=\"sk-toggleable__control sk-hidden--visually\" id=\"sk-estimator-id-35\" type=\"checkbox\" ><label for=\"sk-estimator-id-35\" class=\"sk-toggleable__label sk-toggleable__label-arrow\">Pipeline</label><div class=\"sk-toggleable__content\"><pre>Pipeline(steps=[(&#x27;column_transformer&#x27;,\n",
       "                 ColumnTransformer(transformers=[(&#x27;scaler_uint32&#x27;,\n",
       "                                                  Pipeline(steps=[(&#x27;power&#x27;,\n",
       "                                                                   PowerTransformer())]),\n",
       "                                                  [&#x27;node1_nodes_roles_per_node&#x27;,\n",
       "                                                   &#x27;node2_nodes_roles_per_node&#x27;,\n",
       "                                                   &#x27;node3_nodes_roles_per_node&#x27;,\n",
       "                                                   &#x27;total_qty_nodes&#x27;,\n",
       "                                                   &#x27;total_qty_control_plane&#x27;,\n",
       "                                                   &#x27;total_qty_workers&#x27;,\n",
       "                                                   &#x27;total_nodes_ready&#x27;,\n",
       "                                                   &#x27;total_nodes_notready&#x27;,\n",
       "                                                   &#x27;total_nodes_unknown&#x27;...\n",
       "                                                   &#x27;node1_node_pod_container_resource_requests_memory&#x27;,\n",
       "                                                   &#x27;node1_node_pod_container_resource_limit_cpu&#x27;,\n",
       "                                                   &#x27;node2_node_pod_container_resource_limit_cpu&#x27;,\n",
       "                                                   &#x27;node3_node_pod_container_resource_limit_cpu&#x27;,\n",
       "                                                   &#x27;node1_node_capacity_cpu&#x27;,\n",
       "                                                   &#x27;node2_node_capacity_cpu&#x27;,\n",
       "                                                   &#x27;node3_node_capacity_cpu&#x27;, ...])])),\n",
       "                (&#x27;rf_model&#x27;,\n",
       "                 RandomForestClassifier(max_features=&#x27;log2&#x27;, n_jobs=-1,\n",
       "                                        random_state=42))])</pre></div></div></div><div class=\"sk-serial\"><div class=\"sk-item sk-dashed-wrapped\"><div class=\"sk-label-container\"><div class=\"sk-label sk-toggleable\"><input class=\"sk-toggleable__control sk-hidden--visually\" id=\"sk-estimator-id-36\" type=\"checkbox\" ><label for=\"sk-estimator-id-36\" class=\"sk-toggleable__label sk-toggleable__label-arrow\">column_transformer: ColumnTransformer</label><div class=\"sk-toggleable__content\"><pre>ColumnTransformer(transformers=[(&#x27;scaler_uint32&#x27;,\n",
       "                                 Pipeline(steps=[(&#x27;power&#x27;,\n",
       "                                                  PowerTransformer())]),\n",
       "                                 [&#x27;node1_nodes_roles_per_node&#x27;,\n",
       "                                  &#x27;node2_nodes_roles_per_node&#x27;,\n",
       "                                  &#x27;node3_nodes_roles_per_node&#x27;,\n",
       "                                  &#x27;total_qty_nodes&#x27;, &#x27;total_qty_control_plane&#x27;,\n",
       "                                  &#x27;total_qty_workers&#x27;, &#x27;total_nodes_ready&#x27;,\n",
       "                                  &#x27;total_nodes_notready&#x27;, &#x27;total_nodes_unknown&#x27;,\n",
       "                                  &#x27;total_nodes_diskpressure&#x27;,\n",
       "                                  &#x27;total_nod...\n",
       "                                  &#x27;node2_node_pod_container_resource_requests_memory&#x27;,\n",
       "                                  &#x27;node3_node_pod_container_resource_requests_memory&#x27;,\n",
       "                                  &#x27;node1_node_pod_container_resource_requests_memory&#x27;,\n",
       "                                  &#x27;node1_node_pod_container_resource_limit_cpu&#x27;,\n",
       "                                  &#x27;node2_node_pod_container_resource_limit_cpu&#x27;,\n",
       "                                  &#x27;node3_node_pod_container_resource_limit_cpu&#x27;,\n",
       "                                  &#x27;node1_node_capacity_cpu&#x27;,\n",
       "                                  &#x27;node2_node_capacity_cpu&#x27;,\n",
       "                                  &#x27;node3_node_capacity_cpu&#x27;, ...])])</pre></div></div></div><div class=\"sk-parallel\"><div class=\"sk-parallel-item\"><div class=\"sk-item\"><div class=\"sk-label-container\"><div class=\"sk-label sk-toggleable\"><input class=\"sk-toggleable__control sk-hidden--visually\" id=\"sk-estimator-id-37\" type=\"checkbox\" ><label for=\"sk-estimator-id-37\" class=\"sk-toggleable__label sk-toggleable__label-arrow\">scaler_uint32</label><div class=\"sk-toggleable__content\"><pre>[&#x27;node1_nodes_roles_per_node&#x27;, &#x27;node2_nodes_roles_per_node&#x27;, &#x27;node3_nodes_roles_per_node&#x27;, &#x27;total_qty_nodes&#x27;, &#x27;total_qty_control_plane&#x27;, &#x27;total_qty_workers&#x27;, &#x27;total_nodes_ready&#x27;, &#x27;total_nodes_notready&#x27;, &#x27;total_nodes_unknown&#x27;, &#x27;total_nodes_diskpressure&#x27;, &#x27;total_node_memorypressure&#x27;, &#x27;total_node_pidpressure&#x27;, &#x27;node2_node_pod_qos_qty_burstable&#x27;, &#x27;node3_node_pod_qos_qty_burstable&#x27;, &#x27;node1_node_pod_qos_qty_burstable&#x27;, &#x27;node1_ephemeral_storage&#x27;, &#x27;node1_hugepages_1Gi&#x27;, &#x27;node1_hugepages_2Mi&#x27;, &#x27;node1_memory&#x27;, &#x27;node1_pods&#x27;, &#x27;node2_ephemeral_storage&#x27;, &#x27;node2_hugepages_1Gi&#x27;, &#x27;node2_hugepages_2Mi&#x27;, &#x27;node2_memory&#x27;, &#x27;node2_pods&#x27;, &#x27;node3_ephemeral_storage&#x27;, &#x27;node3_hugepages_1Gi&#x27;, &#x27;node3_hugepages_2Mi&#x27;, &#x27;node3_memory&#x27;, &#x27;node3_pods&#x27;, &#x27;node1_node_pod_total&#x27;, &#x27;node2_node_pod_total&#x27;, &#x27;node3_node_pod_total&#x27;, &#x27;node1_node_container_total&#x27;, &#x27;node2_node_container_total&#x27;, &#x27;node3_node_container_total&#x27;, &#x27;node2_apiserver_memory_usage&#x27;, &#x27;node3_apiserver_memory_usage&#x27;, &#x27;node1_apiserver_memory_usage&#x27;, &#x27;node1_openshift_apiserver_memory_usage&#x27;, &#x27;node3_openshift_apiserver_memory_usage&#x27;, &#x27;node2_openshift_apiserver_memory_usage&#x27;, &#x27;apiserver_max_inflight_requests_kube_apiserver&#x27;, &#x27;apiserver_max_inflight_requests_openshift_apiserver&#x27;, &#x27;cluster_pod_total&#x27;, &#x27;cluster_namespace_total&#x27;, &#x27;etcd_member_active&#x27;, &#x27;node1_etcd_db_size_bytes&#x27;, &#x27;node2_etcd_db_size_bytes&#x27;, &#x27;node3_etcd_db_size_bytes&#x27;, &#x27;node1_etcd_db_use_bytes&#x27;, &#x27;node2_etcd_db_use_bytes&#x27;, &#x27;node3_etcd_db_use_bytes&#x27;, &#x27;node1_etcd_object_counts&#x27;, &#x27;node2_etcd_object_counts&#x27;, &#x27;node3_etcd_object_counts&#x27;, &#x27;etcd_member_down_total&#x27;, &#x27;etcd_qty_grpc_requests_slow&#x27;, &#x27;node_pod_crashloopbackoff&#x27;, &#x27;node1_node_pod_qos_qty_guaranteed&#x27;, &#x27;node3_node_pod_qos_qty_guaranteed&#x27;, &#x27;node2_node_pod_qos_qty_guaranteed&#x27;, &#x27;node2_node_pod_qos_qty_besteffort&#x27;, &#x27;node1_node_pod_qos_qty_besteffort&#x27;, &#x27;node3_node_pod_qos_qty_besteffort&#x27;, &#x27;node4_nodes_roles_per_node&#x27;, &#x27;node5_nodes_roles_per_node&#x27;, &#x27;node6_nodes_roles_per_node&#x27;, &#x27;node5_node_pod_qos_qty_burstable&#x27;, &#x27;node6_node_pod_qos_qty_burstable&#x27;, &#x27;node4_node_pod_qos_qty_burstable&#x27;, &#x27;node4_ephemeral_storage&#x27;, &#x27;node4_hugepages_1Gi&#x27;, &#x27;node4_hugepages_2Mi&#x27;, &#x27;node4_memory&#x27;, &#x27;node4_pods&#x27;, &#x27;node5_ephemeral_storage&#x27;, &#x27;node5_hugepages_1Gi&#x27;, &#x27;node5_hugepages_2Mi&#x27;, &#x27;node5_memory&#x27;, &#x27;node5_pods&#x27;, &#x27;node6_ephemeral_storage&#x27;, &#x27;node6_hugepages_1Gi&#x27;, &#x27;node6_hugepages_2Mi&#x27;, &#x27;node6_memory&#x27;, &#x27;node6_pods&#x27;, &#x27;node4_node_pod_total&#x27;, &#x27;node5_node_pod_total&#x27;, &#x27;node6_node_pod_total&#x27;, &#x27;node4_node_container_total&#x27;, &#x27;node5_node_container_total&#x27;, &#x27;node6_node_container_total&#x27;, &#x27;node4_node_pod_qos_qty_besteffort&#x27;, &#x27;node5_node_pod_qos_qty_besteffort&#x27;, &#x27;node6_node_pod_qos_qty_besteffort&#x27;]</pre></div></div></div><div class=\"sk-serial\"><div class=\"sk-item\"><div class=\"sk-serial\"><div class=\"sk-item\"><div class=\"sk-estimator sk-toggleable\"><input class=\"sk-toggleable__control sk-hidden--visually\" id=\"sk-estimator-id-38\" type=\"checkbox\" ><label for=\"sk-estimator-id-38\" class=\"sk-toggleable__label sk-toggleable__label-arrow\">PowerTransformer</label><div class=\"sk-toggleable__content\"><pre>PowerTransformer()</pre></div></div></div></div></div></div></div></div><div class=\"sk-parallel-item\"><div class=\"sk-item\"><div class=\"sk-label-container\"><div class=\"sk-label sk-toggleable\"><input class=\"sk-toggleable__control sk-hidden--visually\" id=\"sk-estimator-id-39\" type=\"checkbox\" ><label for=\"sk-estimator-id-39\" class=\"sk-toggleable__label sk-toggleable__label-arrow\">scaler_float64</label><div class=\"sk-toggleable__content\"><pre>[&#x27;node1_node_load1&#x27;, &#x27;node2_node_load1&#x27;, &#x27;node3_node_load1&#x27;, &#x27;node1_node_load5&#x27;, &#x27;node2_node_load5&#x27;, &#x27;node3_node_load5&#x27;, &#x27;node1_node_load15&#x27;, &#x27;node2_node_load15&#x27;, &#x27;node3_node_load15&#x27;, &#x27;node2_node_pod_qos_mem_burstable&#x27;, &#x27;node3_node_pod_qos_mem_burstable&#x27;, &#x27;node1_node_pod_qos_mem_burstable&#x27;, &#x27;node2_node_pod_qos_cpu_burstable&#x27;, &#x27;node3_node_pod_qos_cpu_burstable&#x27;, &#x27;node1_node_pod_qos_cpu_burstable&#x27;, &#x27;node1_cpu&#x27;, &#x27;node2_cpu&#x27;, &#x27;node3_cpu&#x27;, &#x27;node2_node_pod_container_resource_requests_cpu&#x27;, &#x27;node3_node_pod_container_resource_requests_cpu&#x27;, &#x27;node1_node_pod_container_resource_requests_cpu&#x27;, &#x27;node2_node_pod_container_resource_requests_memory&#x27;, &#x27;node3_node_pod_container_resource_requests_memory&#x27;, &#x27;node1_node_pod_container_resource_requests_memory&#x27;, &#x27;node1_node_pod_container_resource_limit_cpu&#x27;, &#x27;node2_node_pod_container_resource_limit_cpu&#x27;, &#x27;node3_node_pod_container_resource_limit_cpu&#x27;, &#x27;node1_node_capacity_cpu&#x27;, &#x27;node2_node_capacity_cpu&#x27;, &#x27;node3_node_capacity_cpu&#x27;, &#x27;node1_node_capacity_memory&#x27;, &#x27;node2_node_capacity_memory&#x27;, &#x27;node3_node_capacity_memory&#x27;, &#x27;node1_node_capacity_pods&#x27;, &#x27;node2_node_capacity_pods&#x27;, &#x27;node3_node_capacity_pods&#x27;, &#x27;node1_node_capacity_ephemeral_storage&#x27;, &#x27;node2_node_capacity_ephemeral_storage&#x27;, &#x27;node3_node_capacity_ephemeral_storage&#x27;, &#x27;node1_node_capacity_hugepages_1Gi&#x27;, &#x27;node2_node_capacity_hugepages_1Gi&#x27;, &#x27;node3_node_capacity_hugepages_1Gi&#x27;, &#x27;node1_node_capacity_hugepages_2Mi&#x27;, &#x27;node2_node_capacity_hugepages_2Mi&#x27;, &#x27;node3_node_capacity_hugepages_2Mi&#x27;, &#x27;node1_node_cpu_utilization_p&#x27;, &#x27;node2_node_cpu_utilization_p&#x27;, &#x27;node3_node_cpu_utilization_p&#x27;, &#x27;node1_node_memory_utilization_p&#x27;, &#x27;node2_node_memory_utilization_p&#x27;, &#x27;node3_node_memory_utilization_p&#x27;, &#x27;node1_node_pod_system_cluster_critical&#x27;, &#x27;node2_node_pod_system_cluster_critical&#x27;, &#x27;node3_node_pod_system_cluster_critical&#x27;, &#x27;node1_node_pod_system_node_critical&#x27;, &#x27;node2_node_pod_system_node_critical&#x27;, &#x27;node3_node_pod_system_node_critical&#x27;, &#x27;node1_node_pod_openshift_user_critical&#x27;, &#x27;node2_node_pod_openshift_user_critical&#x27;, &#x27;node3_node_pod_openshift_user_critical&#x27;, &#x27;node1_kubelet_health_failures&#x27;, &#x27;node2_kubelet_health_failures&#x27;, &#x27;node3_kubelet_health_failures&#x27;, &#x27;node3_create_container&#x27;, &#x27;node3_podsandbox_status&#x27;, &#x27;node3_pull_image&#x27;, &#x27;node1_exec_sync&#x27;, &#x27;node1_list_images&#x27;, &#x27;node1_pull_image&#x27;, &#x27;node2_exec_sync&#x27;, &#x27;node2_podsandbox_status&#x27;, &#x27;node3_status&#x27;, &#x27;node3_stop_podsandbox&#x27;, &#x27;node3_remove_podsandbox&#x27;, &#x27;node3_start_container&#x27;, &#x27;node1_run_podsandbox&#x27;, &#x27;node1_status&#x27;, &#x27;node2_list_containers&#x27;, &#x27;node2_list_podsandbox&#x27;, &#x27;node1_podsandbox_status&#x27;, &#x27;node1_remove_container&#x27;, &#x27;node1_stop_container&#x27;, &#x27;node3_container_status&#x27;, &#x27;node3_image_status&#x27;, &#x27;node3_exec_sync&#x27;, &#x27;node3_stop_container&#x27;, &#x27;node1_image_status&#x27;, &#x27;node1_stop_podsandbox&#x27;, &#x27;node2_container_status&#x27;, &#x27;node2_remove_container&#x27;, &#x27;node2_remove_podsandbox&#x27;, &#x27;node2_status&#x27;, &#x27;node2_stop_container&#x27;, &#x27;node2_stop_podsandbox&#x27;, &#x27;node1_container_status&#x27;, &#x27;node1_list_containers&#x27;, &#x27;node1_list_podsandbox&#x27;, &#x27;node2_run_podsandbox&#x27;, &#x27;node2_start_container&#x27;, &#x27;node3_remove_container&#x27;, &#x27;node3_run_podsandbox&#x27;, &#x27;node2_create_container&#x27;, &#x27;node2_image_status&#x27;, &#x27;node2_pull_image&#x27;, &#x27;node1_create_container&#x27;, &#x27;node1_start_container&#x27;, &#x27;node2_list_images&#x27;, &#x27;node3_list_images&#x27;, &#x27;node1_remove_podsandbox&#x27;, &#x27;node3_list_containers&#x27;, &#x27;node3_list_podsandbox&#x27;, &#x27;node1_default&#x27;, &#x27;node2_default&#x27;, &#x27;node3_default&#x27;, &#x27;node1_node_uptime&#x27;, &#x27;node2_node_uptime&#x27;, &#x27;node3_node_uptime&#x27;, &#x27;node1_total_node_net_receive_bytes&#x27;, &#x27;node2_total_node_net_receive_bytes&#x27;, &#x27;node3_total_node_net_receive_bytes&#x27;, &#x27;node1_total_node_net_transmit_bytes&#x27;, &#x27;node2_total_node_net_transmit_bytes&#x27;, &#x27;node3_total_node_net_transmit_bytes&#x27;, &#x27;apiserver_errors&#x27;, &#x27;apiserver_latency_resource&#x27;, &#x27;apiserver_latency_cluster&#x27;, &#x27;apiserver_requests_duration_seconds_GET&#x27;, &#x27;apiserver_requests_duration_seconds_PUT&#x27;, &#x27;apiserver_requests_duration_seconds_APPLY&#x27;, &#x27;apiserver_requests_duration_seconds_DELETE&#x27;, &#x27;apiserver_requests_duration_seconds_PATCH&#x27;, &#x27;apiserver_requests_duration_seconds_POST&#x27;, &#x27;apiserver_requests_duration_seconds_LIST&#x27;, &#x27;apiserver_request_read_total&#x27;, &#x27;apiserver_request_write_total&#x27;, &#x27;cluster_control_plane_utilization&#x27;, &#x27;node1_etcd_network_peer_rtt&#x27;, &#x27;node2_etcd_network_peer_rtt&#x27;, &#x27;node3_etcd_network_peer_rtt&#x27;, &#x27;node1_etcd_failed_proposal&#x27;, &#x27;node2_etcd_failed_proposal&#x27;, &#x27;node3_etcd_failed_proposal&#x27;, &#x27;node3_etcd_fsync_duration&#x27;, &#x27;node1_etcd_fsync_duration&#x27;, &#x27;node2_etcd_fsync_duration&#x27;, &#x27;etcd_high_failed_grpc_requests&#x27;, &#x27;etcd_number_leader_changes&#x27;, &#x27;workqueue_queue_waiting_time_total&#x27;, &#x27;workqueue_queue_work_time_total&#x27;, &#x27;workqueue_retries_rate&#x27;, &#x27;node1_node_pod_qos_mem_guaranteed&#x27;, &#x27;node2_node_pod_qos_mem_guaranteed&#x27;, &#x27;node1_node_pod_qos_cpu_guaranteed&#x27;, &#x27;node3_node_pod_qos_mem_guaranteed&#x27;, &#x27;node3_node_pod_qos_cpu_guaranteed&#x27;, &#x27;node2_node_pod_qos_cpu_guaranteed&#x27;, &#x27;node1_node_pod_qos_mem_besteffort&#x27;, &#x27;node3_node_pod_qos_mem_besteffort&#x27;, &#x27;node2_node_pod_qos_mem_besteffort&#x27;, &#x27;node2_node_pod_qos_cpu_besteffort&#x27;, &#x27;node3_node_pod_qos_cpu_besteffort&#x27;, &#x27;node1_node_pod_qos_cpu_besteffort&#x27;, &#x27;node4_node_load1&#x27;, &#x27;node5_node_load1&#x27;, &#x27;node6_node_load1&#x27;, &#x27;node4_node_load5&#x27;, &#x27;node5_node_load5&#x27;, &#x27;node6_node_load5&#x27;, &#x27;node4_node_load15&#x27;, &#x27;node5_node_load15&#x27;, &#x27;node6_node_load15&#x27;, &#x27;node5_node_pod_qos_mem_burstable&#x27;, &#x27;node6_node_pod_qos_mem_burstable&#x27;, &#x27;node4_node_pod_qos_mem_burstable&#x27;, &#x27;node5_node_pod_qos_cpu_burstable&#x27;, &#x27;node6_node_pod_qos_cpu_burstable&#x27;, &#x27;node4_node_pod_qos_cpu_burstable&#x27;, &#x27;node4_cpu&#x27;, &#x27;node5_cpu&#x27;, &#x27;node6_cpu&#x27;, &#x27;node5_node_pod_container_resource_requests_cpu&#x27;, &#x27;node6_node_pod_container_resource_requests_cpu&#x27;, &#x27;node4_node_pod_container_resource_requests_cpu&#x27;, &#x27;node5_node_pod_container_resource_requests_memory&#x27;, &#x27;node6_node_pod_container_resource_requests_memory&#x27;, &#x27;node4_node_pod_container_resource_requests_memory&#x27;, &#x27;node4_node_capacity_cpu&#x27;, &#x27;node5_node_capacity_cpu&#x27;, &#x27;node6_node_capacity_cpu&#x27;, &#x27;node4_node_capacity_memory&#x27;, &#x27;node5_node_capacity_memory&#x27;, &#x27;node6_node_capacity_memory&#x27;, &#x27;node4_node_capacity_pods&#x27;, &#x27;node5_node_capacity_pods&#x27;, &#x27;node6_node_capacity_pods&#x27;, &#x27;node4_node_capacity_ephemeral_storage&#x27;, &#x27;node5_node_capacity_ephemeral_storage&#x27;, &#x27;node6_node_capacity_ephemeral_storage&#x27;, &#x27;node4_node_capacity_hugepages_1Gi&#x27;, &#x27;node5_node_capacity_hugepages_1Gi&#x27;, &#x27;node6_node_capacity_hugepages_1Gi&#x27;, &#x27;node4_node_capacity_hugepages_2Mi&#x27;, &#x27;node5_node_capacity_hugepages_2Mi&#x27;, &#x27;node6_node_capacity_hugepages_2Mi&#x27;, &#x27;node4_node_cpu_utilization_p&#x27;, &#x27;node5_node_cpu_utilization_p&#x27;, &#x27;node6_node_cpu_utilization_p&#x27;, &#x27;node4_node_memory_utilization_p&#x27;, &#x27;node5_node_memory_utilization_p&#x27;, &#x27;node6_node_memory_utilization_p&#x27;, &#x27;node4_node_pod_system_cluster_critical&#x27;, &#x27;node5_node_pod_system_cluster_critical&#x27;, &#x27;node6_node_pod_system_cluster_critical&#x27;, &#x27;node4_node_pod_system_node_critical&#x27;, &#x27;node5_node_pod_system_node_critical&#x27;, &#x27;node6_node_pod_system_node_critical&#x27;, &#x27;node4_node_pod_openshift_user_critical&#x27;, &#x27;node5_node_pod_openshift_user_critical&#x27;, &#x27;node6_node_pod_openshift_user_critical&#x27;, &#x27;node4_kubelet_health_failures&#x27;, &#x27;node5_kubelet_health_failures&#x27;, &#x27;node6_kubelet_health_failures&#x27;, &#x27;node5_exec_sync&#x27;, &#x27;node5_list_containers&#x27;, &#x27;node5_list_podsandbox&#x27;, &#x27;node5_start_container&#x27;, &#x27;node6_create_container&#x27;, &#x27;node4_pull_image&#x27;, &#x27;node6_podsandbox_status&#x27;, &#x27;node4_remove_container&#x27;, &#x27;node4_stop_container&#x27;, &#x27;node6_stop_container&#x27;, &#x27;node4_image_status&#x27;, &#x27;node4_exec_sync&#x27;, &#x27;node4_list_containers&#x27;, &#x27;node4_list_podsandbox&#x27;, &#x27;node4_run_podsandbox&#x27;, &#x27;node4_create_container&#x27;, &#x27;node4_start_container&#x27;, &#x27;node6_run_podsandbox&#x27;, &#x27;node6_remove_podsandbox&#x27;, &#x27;node4_status&#x27;, &#x27;node6_exec_sync&#x27;, &#x27;node4_stop_podsandbox&#x27;, &#x27;node5_image_status&#x27;, &#x27;node4_container_status&#x27;, &#x27;node5_podsandbox_status&#x27;, &#x27;node5_remove_container&#x27;, &#x27;node6_pull_image&#x27;, &#x27;node5_list_images&#x27;, &#x27;node6_image_status&#x27;, &#x27;node6_list_containers&#x27;, &#x27;node6_list_podsandbox&#x27;, &#x27;node6_start_container&#x27;, &#x27;node4_list_images&#x27;, &#x27;node6_container_status&#x27;, &#x27;node6_list_images&#x27;, &#x27;node6_status&#x27;, &#x27;node5_create_container&#x27;, &#x27;node5_remove_podsandbox&#x27;, &#x27;node5_stop_podsandbox&#x27;, &#x27;node6_remove_container&#x27;, &#x27;node6_stop_podsandbox&#x27;, &#x27;node4_podsandbox_status&#x27;, &#x27;node5_pull_image&#x27;, &#x27;node5_run_podsandbox&#x27;, &#x27;node5_status&#x27;, &#x27;node4_remove_podsandbox&#x27;, &#x27;node5_container_status&#x27;, &#x27;node5_stop_container&#x27;, &#x27;node4_default&#x27;, &#x27;node5_default&#x27;, &#x27;node6_default&#x27;, &#x27;node4_node_uptime&#x27;, &#x27;node5_node_uptime&#x27;, &#x27;node6_node_uptime&#x27;, &#x27;node4_total_node_net_receive_bytes&#x27;, &#x27;node5_total_node_net_receive_bytes&#x27;, &#x27;node6_total_node_net_receive_bytes&#x27;, &#x27;node4_total_node_net_transmit_bytes&#x27;, &#x27;node5_total_node_net_transmit_bytes&#x27;, &#x27;node6_total_node_net_transmit_bytes&#x27;, &#x27;node4_node_pod_qos_mem_besteffort&#x27;, &#x27;node5_node_pod_qos_mem_besteffort&#x27;, &#x27;node6_node_pod_qos_mem_besteffort&#x27;, &#x27;node4_node_pod_qos_cpu_besteffort&#x27;, &#x27;node6_node_pod_qos_cpu_besteffort&#x27;, &#x27;node5_node_pod_qos_cpu_besteffort&#x27;, &#x27;node4_node_pod_container_resource_limit_cpu&#x27;, &#x27;node5_node_pod_container_resource_limit_cpu&#x27;, &#x27;node6_node_pod_container_resource_limit_cpu&#x27;]</pre></div></div></div><div class=\"sk-serial\"><div class=\"sk-item\"><div class=\"sk-serial\"><div class=\"sk-item\"><div class=\"sk-estimator sk-toggleable\"><input class=\"sk-toggleable__control sk-hidden--visually\" id=\"sk-estimator-id-40\" type=\"checkbox\" ><label for=\"sk-estimator-id-40\" class=\"sk-toggleable__label sk-toggleable__label-arrow\">PowerTransformer</label><div class=\"sk-toggleable__content\"><pre>PowerTransformer()</pre></div></div></div></div></div></div></div></div></div></div><div class=\"sk-item\"><div class=\"sk-estimator sk-toggleable\"><input class=\"sk-toggleable__control sk-hidden--visually\" id=\"sk-estimator-id-41\" type=\"checkbox\" ><label for=\"sk-estimator-id-41\" class=\"sk-toggleable__label sk-toggleable__label-arrow\">RandomForestClassifier</label><div class=\"sk-toggleable__content\"><pre>RandomForestClassifier(max_features=&#x27;log2&#x27;, n_jobs=-1, random_state=42)</pre></div></div></div></div></div></div></div>"
      ],
      "text/plain": [
       "Pipeline(steps=[('column_transformer',\n",
       "                 ColumnTransformer(transformers=[('scaler_uint32',\n",
       "                                                  Pipeline(steps=[('power',\n",
       "                                                                   PowerTransformer())]),\n",
       "                                                  ['node1_nodes_roles_per_node',\n",
       "                                                   'node2_nodes_roles_per_node',\n",
       "                                                   'node3_nodes_roles_per_node',\n",
       "                                                   'total_qty_nodes',\n",
       "                                                   'total_qty_control_plane',\n",
       "                                                   'total_qty_workers',\n",
       "                                                   'total_nodes_ready',\n",
       "                                                   'total_nodes_notready',\n",
       "                                                   'total_nodes_unknown'...\n",
       "                                                   'node1_node_pod_container_resource_requests_memory',\n",
       "                                                   'node1_node_pod_container_resource_limit_cpu',\n",
       "                                                   'node2_node_pod_container_resource_limit_cpu',\n",
       "                                                   'node3_node_pod_container_resource_limit_cpu',\n",
       "                                                   'node1_node_capacity_cpu',\n",
       "                                                   'node2_node_capacity_cpu',\n",
       "                                                   'node3_node_capacity_cpu', ...])])),\n",
       "                ('rf_model',\n",
       "                 RandomForestClassifier(max_features='log2', n_jobs=-1,\n",
       "                                        random_state=42))])"
      ]
     },
     "execution_count": 56,
     "metadata": {},
     "output_type": "execute_result"
    }
   ],
   "source": [
    "rf_scaled.fit(X_train, y_train)"
   ]
  },
  {
   "cell_type": "code",
   "execution_count": 57,
   "id": "942dcaf7-d5fd-4885-97e8-8fc3fdf32990",
   "metadata": {},
   "outputs": [
    {
     "data": {
      "text/html": [
       "<style>#sk-container-id-9 {color: black;}#sk-container-id-9 pre{padding: 0;}#sk-container-id-9 div.sk-toggleable {background-color: white;}#sk-container-id-9 label.sk-toggleable__label {cursor: pointer;display: block;width: 100%;margin-bottom: 0;padding: 0.3em;box-sizing: border-box;text-align: center;}#sk-container-id-9 label.sk-toggleable__label-arrow:before {content: \"▸\";float: left;margin-right: 0.25em;color: #696969;}#sk-container-id-9 label.sk-toggleable__label-arrow:hover:before {color: black;}#sk-container-id-9 div.sk-estimator:hover label.sk-toggleable__label-arrow:before {color: black;}#sk-container-id-9 div.sk-toggleable__content {max-height: 0;max-width: 0;overflow: hidden;text-align: left;background-color: #f0f8ff;}#sk-container-id-9 div.sk-toggleable__content pre {margin: 0.2em;color: black;border-radius: 0.25em;background-color: #f0f8ff;}#sk-container-id-9 input.sk-toggleable__control:checked~div.sk-toggleable__content {max-height: 200px;max-width: 100%;overflow: auto;}#sk-container-id-9 input.sk-toggleable__control:checked~label.sk-toggleable__label-arrow:before {content: \"▾\";}#sk-container-id-9 div.sk-estimator input.sk-toggleable__control:checked~label.sk-toggleable__label {background-color: #d4ebff;}#sk-container-id-9 div.sk-label input.sk-toggleable__control:checked~label.sk-toggleable__label {background-color: #d4ebff;}#sk-container-id-9 input.sk-hidden--visually {border: 0;clip: rect(1px 1px 1px 1px);clip: rect(1px, 1px, 1px, 1px);height: 1px;margin: -1px;overflow: hidden;padding: 0;position: absolute;width: 1px;}#sk-container-id-9 div.sk-estimator {font-family: monospace;background-color: #f0f8ff;border: 1px dotted black;border-radius: 0.25em;box-sizing: border-box;margin-bottom: 0.5em;}#sk-container-id-9 div.sk-estimator:hover {background-color: #d4ebff;}#sk-container-id-9 div.sk-parallel-item::after {content: \"\";width: 100%;border-bottom: 1px solid gray;flex-grow: 1;}#sk-container-id-9 div.sk-label:hover label.sk-toggleable__label {background-color: #d4ebff;}#sk-container-id-9 div.sk-serial::before {content: \"\";position: absolute;border-left: 1px solid gray;box-sizing: border-box;top: 0;bottom: 0;left: 50%;z-index: 0;}#sk-container-id-9 div.sk-serial {display: flex;flex-direction: column;align-items: center;background-color: white;padding-right: 0.2em;padding-left: 0.2em;position: relative;}#sk-container-id-9 div.sk-item {position: relative;z-index: 1;}#sk-container-id-9 div.sk-parallel {display: flex;align-items: stretch;justify-content: center;background-color: white;position: relative;}#sk-container-id-9 div.sk-item::before, #sk-container-id-9 div.sk-parallel-item::before {content: \"\";position: absolute;border-left: 1px solid gray;box-sizing: border-box;top: 0;bottom: 0;left: 50%;z-index: -1;}#sk-container-id-9 div.sk-parallel-item {display: flex;flex-direction: column;z-index: 1;position: relative;background-color: white;}#sk-container-id-9 div.sk-parallel-item:first-child::after {align-self: flex-end;width: 50%;}#sk-container-id-9 div.sk-parallel-item:last-child::after {align-self: flex-start;width: 50%;}#sk-container-id-9 div.sk-parallel-item:only-child::after {width: 0;}#sk-container-id-9 div.sk-dashed-wrapped {border: 1px dashed gray;margin: 0 0.4em 0.5em 0.4em;box-sizing: border-box;padding-bottom: 0.4em;background-color: white;}#sk-container-id-9 div.sk-label label {font-family: monospace;font-weight: bold;display: inline-block;line-height: 1.2em;}#sk-container-id-9 div.sk-label-container {text-align: center;}#sk-container-id-9 div.sk-container {/* jupyter's `normalize.less` sets `[hidden] { display: none; }` but bootstrap.min.css set `[hidden] { display: none !important; }` so we also need the `!important` here to be able to override the default hidden behavior on the sphinx rendered scikit-learn.org. See: https://github.com/scikit-learn/scikit-learn/issues/21755 */display: inline-block !important;position: relative;}#sk-container-id-9 div.sk-text-repr-fallback {display: none;}</style><div id=\"sk-container-id-9\" class=\"sk-top-container\"><div class=\"sk-text-repr-fallback\"><pre>Pipeline(steps=[(&#x27;rf_model&#x27;,\n",
       "                 RandomForestClassifier(max_features=&#x27;log2&#x27;, n_jobs=-1,\n",
       "                                        random_state=42))])</pre><b>In a Jupyter environment, please rerun this cell to show the HTML representation or trust the notebook. <br />On GitHub, the HTML representation is unable to render, please try loading this page with nbviewer.org.</b></div><div class=\"sk-container\" hidden><div class=\"sk-item sk-dashed-wrapped\"><div class=\"sk-label-container\"><div class=\"sk-label sk-toggleable\"><input class=\"sk-toggleable__control sk-hidden--visually\" id=\"sk-estimator-id-42\" type=\"checkbox\" ><label for=\"sk-estimator-id-42\" class=\"sk-toggleable__label sk-toggleable__label-arrow\">Pipeline</label><div class=\"sk-toggleable__content\"><pre>Pipeline(steps=[(&#x27;rf_model&#x27;,\n",
       "                 RandomForestClassifier(max_features=&#x27;log2&#x27;, n_jobs=-1,\n",
       "                                        random_state=42))])</pre></div></div></div><div class=\"sk-serial\"><div class=\"sk-item\"><div class=\"sk-estimator sk-toggleable\"><input class=\"sk-toggleable__control sk-hidden--visually\" id=\"sk-estimator-id-43\" type=\"checkbox\" ><label for=\"sk-estimator-id-43\" class=\"sk-toggleable__label sk-toggleable__label-arrow\">RandomForestClassifier</label><div class=\"sk-toggleable__content\"><pre>RandomForestClassifier(max_features=&#x27;log2&#x27;, n_jobs=-1, random_state=42)</pre></div></div></div></div></div></div></div>"
      ],
      "text/plain": [
       "Pipeline(steps=[('rf_model',\n",
       "                 RandomForestClassifier(max_features='log2', n_jobs=-1,\n",
       "                                        random_state=42))])"
      ]
     },
     "execution_count": 57,
     "metadata": {},
     "output_type": "execute_result"
    }
   ],
   "source": [
    "rf.fit(X_train, y_train)"
   ]
  },
  {
   "cell_type": "code",
   "execution_count": 58,
   "id": "2e8be150-17ad-48f6-bb46-05e15566c123",
   "metadata": {},
   "outputs": [
    {
     "name": "stdout",
     "output_type": "stream",
     "text": [
      "           accuracy_score\t0.9817880794701986\n",
      "  balanced_accuracy_score\t0.9433014931927975\n",
      "                 f1_score\t0.9433424578155756\n",
      "          precision_score\t0.9435111302391054\n",
      "             recall_score\t0.9433014931927975\n",
      "       mean_squared_error\t0.028145695364238412\n"
     ]
    },
    {
     "data": {
      "image/png": "[encoded data removed]",
      "text/plain": [
       "<Figure size 640x480 with 2 Axes>"
      ]
     },
     "metadata": {},
     "output_type": "display_data"
    }
   ],
   "source": [
    "# Determine model scores when scaled\n",
    "y_pred_rf_scaled=rf_scaled.predict(X_test)\n",
    "_ = ml_util.get_model_scores(y_test, y_pred_rf_scaled)\n",
    "\n",
    "ml_util.show_confusion_matrix(y_test, y_pred_rf_scaled)"
   ]
  },
  {
   "cell_type": "code",
   "execution_count": 59,
   "id": "954894e8-0de1-4a1a-9f06-5c2ae69745de",
   "metadata": {},
   "outputs": [
    {
     "name": "stdout",
     "output_type": "stream",
     "text": [
      "           accuracy_score\t0.9817880794701986\n",
      "  balanced_accuracy_score\t0.9430237154150198\n",
      "                 f1_score\t0.9431119292160428\n",
      "          precision_score\t0.9443549523122945\n",
      "             recall_score\t0.9430237154150198\n",
      "       mean_squared_error\t0.028145695364238412\n"
     ]
    },
    {
     "data": {
      "image/png": "[encoded data removed]",
      "text/plain": [
       "<Figure size 640x480 with 2 Axes>"
      ]
     },
     "metadata": {},
     "output_type": "display_data"
    }
   ],
   "source": [
    "# Determine model scores without scaling\n",
    "y_pred_rf=rf.predict(X_test)\n",
    "_ = ml_util.get_model_scores(y_test, y_pred_rf)\n",
    "\n",
    "ml_util.show_confusion_matrix(y_test, y_pred_rf)"
   ]
  },
  {
   "cell_type": "markdown",
   "id": "dc5fdf70-9700-4760-864f-19059a7cfaad",
   "metadata": {},
   "source": [
    "**Discussion**\n",
    "\n",
    "From the results above, we can see excellent scores for the scaled and not-scaled models. The difference in scores between the two models is not statistically significant. The next section will use the model without scaling the features to validate that the results are maintained. If that is the case, we will determine if we can use a model trained in one cluster type to predict the other."
   ]
  },
  {
   "cell_type": "code",
   "execution_count": 60,
   "id": "02ea7c95-8680-40b1-950b-08fa4b5c5d72",
   "metadata": {},
   "outputs": [
    {
     "name": "stdout",
     "output_type": "stream",
     "text": [
      "dict_keys(['X_full', 'X', 'y', 'X_train', 'y_train', 'X_test', 'y_test', 'y_train_logreg', 'y_test_logreg'])\n",
      "dict_keys(['X_full', 'X', 'y', 'X_train', 'y_train', 'X_test', 'y_test', 'y_train_logreg', 'y_test_logreg'])\n"
     ]
    }
   ],
   "source": [
    "# Using the previously acquired structure with per cluster datasets with\n",
    "# keys ['X_full', 'X', 'y', 'X_train', 'y_train', 'X_test', 'y_test']\n",
    "for k in X_clusters.keys():\n",
    "    print(X_clusters[k].keys())"
   ]
  },
  {
   "cell_type": "code",
   "execution_count": 61,
   "id": "2a10b83d-df09-4cbd-b296-09047516aaa2",
   "metadata": {},
   "outputs": [],
   "source": [
    "# Create a RandomForest model per cluster type COMPACT and MNO\n",
    "rf_model_compact = RandomForestClassifier(n_estimators = 100, \n",
    "                                   criterion = 'gini', # 'entropy', \n",
    "                                   max_features = 'log2',\n",
    "                                   #max_depth = 10,\n",
    "                                   n_jobs = -1, # num of parallel jobs, when -1 use all processors\n",
    "                                   random_state = RANDOM_STATE)\n",
    "\n",
    "rf_model_mno = RandomForestClassifier(n_estimators = 100, \n",
    "                                   criterion = 'gini', # 'entropy', \n",
    "                                   max_features = 'log2',\n",
    "                                   #max_depth = 10,\n",
    "                                   n_jobs = -1, # num of parallel jobs, when -1 use all processors\n",
    "                                   random_state = RANDOM_STATE)"
   ]
  },
  {
   "cell_type": "code",
   "execution_count": 62,
   "id": "c16f5af1-2bde-4c0f-b03b-d2a4ca29a9b9",
   "metadata": {},
   "outputs": [],
   "source": [
    "# Pipeline for fitting the model for each cluster type\n",
    "\n",
    "rf_compact = Pipeline([\n",
    "    ('rf_model', rf_model_compact)\n",
    "])\n",
    "\n",
    "rf_mno = Pipeline([\n",
    "    ('rf_model', rf_model_mno)\n",
    "])"
   ]
  },
  {
   "cell_type": "code",
   "execution_count": 63,
   "id": "7b33535f-3479-44ea-ba66-3b3c43f4a50c",
   "metadata": {},
   "outputs": [
    {
     "data": {
      "text/html": [
       "<style>#sk-container-id-10 {color: black;}#sk-container-id-10 pre{padding: 0;}#sk-container-id-10 div.sk-toggleable {background-color: white;}#sk-container-id-10 label.sk-toggleable__label {cursor: pointer;display: block;width: 100%;margin-bottom: 0;padding: 0.3em;box-sizing: border-box;text-align: center;}#sk-container-id-10 label.sk-toggleable__label-arrow:before {content: \"▸\";float: left;margin-right: 0.25em;color: #696969;}#sk-container-id-10 label.sk-toggleable__label-arrow:hover:before {color: black;}#sk-container-id-10 div.sk-estimator:hover label.sk-toggleable__label-arrow:before {color: black;}#sk-container-id-10 div.sk-toggleable__content {max-height: 0;max-width: 0;overflow: hidden;text-align: left;background-color: #f0f8ff;}#sk-container-id-10 div.sk-toggleable__content pre {margin: 0.2em;color: black;border-radius: 0.25em;background-color: #f0f8ff;}#sk-container-id-10 input.sk-toggleable__control:checked~div.sk-toggleable__content {max-height: 200px;max-width: 100%;overflow: auto;}#sk-container-id-10 input.sk-toggleable__control:checked~label.sk-toggleable__label-arrow:before {content: \"▾\";}#sk-container-id-10 div.sk-estimator input.sk-toggleable__control:checked~label.sk-toggleable__label {background-color: #d4ebff;}#sk-container-id-10 div.sk-label input.sk-toggleable__control:checked~label.sk-toggleable__label {background-color: #d4ebff;}#sk-container-id-10 input.sk-hidden--visually {border: 0;clip: rect(1px 1px 1px 1px);clip: rect(1px, 1px, 1px, 1px);height: 1px;margin: -1px;overflow: hidden;padding: 0;position: absolute;width: 1px;}#sk-container-id-10 div.sk-estimator {font-family: monospace;background-color: #f0f8ff;border: 1px dotted black;border-radius: 0.25em;box-sizing: border-box;margin-bottom: 0.5em;}#sk-container-id-10 div.sk-estimator:hover {background-color: #d4ebff;}#sk-container-id-10 div.sk-parallel-item::after {content: \"\";width: 100%;border-bottom: 1px solid gray;flex-grow: 1;}#sk-container-id-10 div.sk-label:hover label.sk-toggleable__label {background-color: #d4ebff;}#sk-container-id-10 div.sk-serial::before {content: \"\";position: absolute;border-left: 1px solid gray;box-sizing: border-box;top: 0;bottom: 0;left: 50%;z-index: 0;}#sk-container-id-10 div.sk-serial {display: flex;flex-direction: column;align-items: center;background-color: white;padding-right: 0.2em;padding-left: 0.2em;position: relative;}#sk-container-id-10 div.sk-item {position: relative;z-index: 1;}#sk-container-id-10 div.sk-parallel {display: flex;align-items: stretch;justify-content: center;background-color: white;position: relative;}#sk-container-id-10 div.sk-item::before, #sk-container-id-10 div.sk-parallel-item::before {content: \"\";position: absolute;border-left: 1px solid gray;box-sizing: border-box;top: 0;bottom: 0;left: 50%;z-index: -1;}#sk-container-id-10 div.sk-parallel-item {display: flex;flex-direction: column;z-index: 1;position: relative;background-color: white;}#sk-container-id-10 div.sk-parallel-item:first-child::after {align-self: flex-end;width: 50%;}#sk-container-id-10 div.sk-parallel-item:last-child::after {align-self: flex-start;width: 50%;}#sk-container-id-10 div.sk-parallel-item:only-child::after {width: 0;}#sk-container-id-10 div.sk-dashed-wrapped {border: 1px dashed gray;margin: 0 0.4em 0.5em 0.4em;box-sizing: border-box;padding-bottom: 0.4em;background-color: white;}#sk-container-id-10 div.sk-label label {font-family: monospace;font-weight: bold;display: inline-block;line-height: 1.2em;}#sk-container-id-10 div.sk-label-container {text-align: center;}#sk-container-id-10 div.sk-container {/* jupyter's `normalize.less` sets `[hidden] { display: none; }` but bootstrap.min.css set `[hidden] { display: none !important; }` so we also need the `!important` here to be able to override the default hidden behavior on the sphinx rendered scikit-learn.org. See: https://github.com/scikit-learn/scikit-learn/issues/21755 */display: inline-block !important;position: relative;}#sk-container-id-10 div.sk-text-repr-fallback {display: none;}</style><div id=\"sk-container-id-10\" class=\"sk-top-container\"><div class=\"sk-text-repr-fallback\"><pre>Pipeline(steps=[(&#x27;rf_model&#x27;,\n",
       "                 RandomForestClassifier(max_features=&#x27;log2&#x27;, n_jobs=-1,\n",
       "                                        random_state=42))])</pre><b>In a Jupyter environment, please rerun this cell to show the HTML representation or trust the notebook. <br />On GitHub, the HTML representation is unable to render, please try loading this page with nbviewer.org.</b></div><div class=\"sk-container\" hidden><div class=\"sk-item sk-dashed-wrapped\"><div class=\"sk-label-container\"><div class=\"sk-label sk-toggleable\"><input class=\"sk-toggleable__control sk-hidden--visually\" id=\"sk-estimator-id-44\" type=\"checkbox\" ><label for=\"sk-estimator-id-44\" class=\"sk-toggleable__label sk-toggleable__label-arrow\">Pipeline</label><div class=\"sk-toggleable__content\"><pre>Pipeline(steps=[(&#x27;rf_model&#x27;,\n",
       "                 RandomForestClassifier(max_features=&#x27;log2&#x27;, n_jobs=-1,\n",
       "                                        random_state=42))])</pre></div></div></div><div class=\"sk-serial\"><div class=\"sk-item\"><div class=\"sk-estimator sk-toggleable\"><input class=\"sk-toggleable__control sk-hidden--visually\" id=\"sk-estimator-id-45\" type=\"checkbox\" ><label for=\"sk-estimator-id-45\" class=\"sk-toggleable__label sk-toggleable__label-arrow\">RandomForestClassifier</label><div class=\"sk-toggleable__content\"><pre>RandomForestClassifier(max_features=&#x27;log2&#x27;, n_jobs=-1, random_state=42)</pre></div></div></div></div></div></div></div>"
      ],
      "text/plain": [
       "Pipeline(steps=[('rf_model',\n",
       "                 RandomForestClassifier(max_features='log2', n_jobs=-1,\n",
       "                                        random_state=42))])"
      ]
     },
     "execution_count": 63,
     "metadata": {},
     "output_type": "execute_result"
    }
   ],
   "source": [
    "rf_compact.fit(X_clusters['compact']['X_train'], X_clusters['compact']['y_train'].astype('uint32'))"
   ]
  },
  {
   "cell_type": "code",
   "execution_count": 64,
   "id": "6d565a94-49ff-4349-b889-6224adacb6fc",
   "metadata": {},
   "outputs": [
    {
     "data": {
      "text/html": [
       "<style>#sk-container-id-11 {color: black;}#sk-container-id-11 pre{padding: 0;}#sk-container-id-11 div.sk-toggleable {background-color: white;}#sk-container-id-11 label.sk-toggleable__label {cursor: pointer;display: block;width: 100%;margin-bottom: 0;padding: 0.3em;box-sizing: border-box;text-align: center;}#sk-container-id-11 label.sk-toggleable__label-arrow:before {content: \"▸\";float: left;margin-right: 0.25em;color: #696969;}#sk-container-id-11 label.sk-toggleable__label-arrow:hover:before {color: black;}#sk-container-id-11 div.sk-estimator:hover label.sk-toggleable__label-arrow:before {color: black;}#sk-container-id-11 div.sk-toggleable__content {max-height: 0;max-width: 0;overflow: hidden;text-align: left;background-color: #f0f8ff;}#sk-container-id-11 div.sk-toggleable__content pre {margin: 0.2em;color: black;border-radius: 0.25em;background-color: #f0f8ff;}#sk-container-id-11 input.sk-toggleable__control:checked~div.sk-toggleable__content {max-height: 200px;max-width: 100%;overflow: auto;}#sk-container-id-11 input.sk-toggleable__control:checked~label.sk-toggleable__label-arrow:before {content: \"▾\";}#sk-container-id-11 div.sk-estimator input.sk-toggleable__control:checked~label.sk-toggleable__label {background-color: #d4ebff;}#sk-container-id-11 div.sk-label input.sk-toggleable__control:checked~label.sk-toggleable__label {background-color: #d4ebff;}#sk-container-id-11 input.sk-hidden--visually {border: 0;clip: rect(1px 1px 1px 1px);clip: rect(1px, 1px, 1px, 1px);height: 1px;margin: -1px;overflow: hidden;padding: 0;position: absolute;width: 1px;}#sk-container-id-11 div.sk-estimator {font-family: monospace;background-color: #f0f8ff;border: 1px dotted black;border-radius: 0.25em;box-sizing: border-box;margin-bottom: 0.5em;}#sk-container-id-11 div.sk-estimator:hover {background-color: #d4ebff;}#sk-container-id-11 div.sk-parallel-item::after {content: \"\";width: 100%;border-bottom: 1px solid gray;flex-grow: 1;}#sk-container-id-11 div.sk-label:hover label.sk-toggleable__label {background-color: #d4ebff;}#sk-container-id-11 div.sk-serial::before {content: \"\";position: absolute;border-left: 1px solid gray;box-sizing: border-box;top: 0;bottom: 0;left: 50%;z-index: 0;}#sk-container-id-11 div.sk-serial {display: flex;flex-direction: column;align-items: center;background-color: white;padding-right: 0.2em;padding-left: 0.2em;position: relative;}#sk-container-id-11 div.sk-item {position: relative;z-index: 1;}#sk-container-id-11 div.sk-parallel {display: flex;align-items: stretch;justify-content: center;background-color: white;position: relative;}#sk-container-id-11 div.sk-item::before, #sk-container-id-11 div.sk-parallel-item::before {content: \"\";position: absolute;border-left: 1px solid gray;box-sizing: border-box;top: 0;bottom: 0;left: 50%;z-index: -1;}#sk-container-id-11 div.sk-parallel-item {display: flex;flex-direction: column;z-index: 1;position: relative;background-color: white;}#sk-container-id-11 div.sk-parallel-item:first-child::after {align-self: flex-end;width: 50%;}#sk-container-id-11 div.sk-parallel-item:last-child::after {align-self: flex-start;width: 50%;}#sk-container-id-11 div.sk-parallel-item:only-child::after {width: 0;}#sk-container-id-11 div.sk-dashed-wrapped {border: 1px dashed gray;margin: 0 0.4em 0.5em 0.4em;box-sizing: border-box;padding-bottom: 0.4em;background-color: white;}#sk-container-id-11 div.sk-label label {font-family: monospace;font-weight: bold;display: inline-block;line-height: 1.2em;}#sk-container-id-11 div.sk-label-container {text-align: center;}#sk-container-id-11 div.sk-container {/* jupyter's `normalize.less` sets `[hidden] { display: none; }` but bootstrap.min.css set `[hidden] { display: none !important; }` so we also need the `!important` here to be able to override the default hidden behavior on the sphinx rendered scikit-learn.org. See: https://github.com/scikit-learn/scikit-learn/issues/21755 */display: inline-block !important;position: relative;}#sk-container-id-11 div.sk-text-repr-fallback {display: none;}</style><div id=\"sk-container-id-11\" class=\"sk-top-container\"><div class=\"sk-text-repr-fallback\"><pre>Pipeline(steps=[(&#x27;rf_model&#x27;,\n",
       "                 RandomForestClassifier(max_features=&#x27;log2&#x27;, n_jobs=-1,\n",
       "                                        random_state=42))])</pre><b>In a Jupyter environment, please rerun this cell to show the HTML representation or trust the notebook. <br />On GitHub, the HTML representation is unable to render, please try loading this page with nbviewer.org.</b></div><div class=\"sk-container\" hidden><div class=\"sk-item sk-dashed-wrapped\"><div class=\"sk-label-container\"><div class=\"sk-label sk-toggleable\"><input class=\"sk-toggleable__control sk-hidden--visually\" id=\"sk-estimator-id-46\" type=\"checkbox\" ><label for=\"sk-estimator-id-46\" class=\"sk-toggleable__label sk-toggleable__label-arrow\">Pipeline</label><div class=\"sk-toggleable__content\"><pre>Pipeline(steps=[(&#x27;rf_model&#x27;,\n",
       "                 RandomForestClassifier(max_features=&#x27;log2&#x27;, n_jobs=-1,\n",
       "                                        random_state=42))])</pre></div></div></div><div class=\"sk-serial\"><div class=\"sk-item\"><div class=\"sk-estimator sk-toggleable\"><input class=\"sk-toggleable__control sk-hidden--visually\" id=\"sk-estimator-id-47\" type=\"checkbox\" ><label for=\"sk-estimator-id-47\" class=\"sk-toggleable__label sk-toggleable__label-arrow\">RandomForestClassifier</label><div class=\"sk-toggleable__content\"><pre>RandomForestClassifier(max_features=&#x27;log2&#x27;, n_jobs=-1, random_state=42)</pre></div></div></div></div></div></div></div>"
      ],
      "text/plain": [
       "Pipeline(steps=[('rf_model',\n",
       "                 RandomForestClassifier(max_features='log2', n_jobs=-1,\n",
       "                                        random_state=42))])"
      ]
     },
     "execution_count": 64,
     "metadata": {},
     "output_type": "execute_result"
    }
   ],
   "source": [
    "rf_mno.fit(X_clusters['mno']['X_train'], X_clusters['mno']['y_train'].astype('uint32'))"
   ]
  },
  {
   "cell_type": "code",
   "execution_count": 65,
   "id": "cff2b668-5def-4eb1-a7d3-5d132c5b1bb8",
   "metadata": {},
   "outputs": [
    {
     "name": "stdout",
     "output_type": "stream",
     "text": [
      "           accuracy_score\t0.9733333333333334\n",
      "  balanced_accuracy_score\t0.9261523687580026\n",
      "                 f1_score\t0.9301166679414665\n",
      "          precision_score\t0.9346641721103701\n",
      "             recall_score\t0.9261523687580026\n",
      "       mean_squared_error\t0.03333333333333333\n"
     ]
    },
    {
     "data": {
      "image/png": "[encoded data removed]",
      "text/plain": [
       "<Figure size 640x480 with 2 Axes>"
      ]
     },
     "metadata": {},
     "output_type": "display_data"
    }
   ],
   "source": [
    "# Determine model scores for compact\n",
    "y_pred_rf_compact=rf_compact.predict(X_clusters['compact']['X_test'])\n",
    "_ = ml_util.get_model_scores(X_clusters['compact']['y_test'].astype('uint32'), y_pred_rf_compact)\n",
    "\n",
    "ml_util.show_confusion_matrix(X_clusters['compact']['y_test'].astype('uint32'), y_pred_rf_compact)"
   ]
  },
  {
   "cell_type": "code",
   "execution_count": 66,
   "id": "a2f4d3d1-0fc3-43ee-9f9f-a3ab68be6cff",
   "metadata": {},
   "outputs": [
    {
     "name": "stdout",
     "output_type": "stream",
     "text": [
      "           accuracy_score\t0.987012987012987\n",
      "  balanced_accuracy_score\t0.75\n",
      "                 f1_score\t0.8300220750551877\n",
      "          precision_score\t0.993421052631579\n",
      "             recall_score\t0.75\n",
      "       mean_squared_error\t0.012987012987012988\n"
     ]
    }
   ],
   "source": [
    "# Determine model scores for mno\n",
    "y_pred_rf_mno=rf_mno.predict(X_clusters['mno']['X_test'])\n",
    "_ = ml_util.get_model_scores(X_clusters['mno']['y_test'].astype('uint32'), y_pred_rf_mno)\n",
    "\n",
    "#ml_util.show_confusion_matrix(X_clusters['mno']['y_test'].astype('uint32'), y_pred_rf_mno)"
   ]
  },
  {
   "cell_type": "markdown",
   "id": "6f9477c8-df91-4b45-8c9a-6e2af8d25063",
   "metadata": {},
   "source": [
    "**Discussion**\n",
    "\n",
    "With this results we can see very good results for the both cluster types: `compact` and `mno`. Let's see how well a cluster type can predict the other and vice versa."
   ]
  },
  {
   "cell_type": "code",
   "execution_count": 67,
   "id": "69d4a017-4919-47ad-ac57-48a4b1296cd1",
   "metadata": {},
   "outputs": [
    {
     "name": "stdout",
     "output_type": "stream",
     "text": [
      "           accuracy_score\t0.9545454545454546\n",
      "  balanced_accuracy_score\t0.49\n",
      "                 f1_score\t0.48837209302325585\n",
      "          precision_score\t0.4867549668874172\n",
      "             recall_score\t0.49\n",
      "       mean_squared_error\t0.045454545454545456\n"
     ]
    }
   ],
   "source": [
    "# Determine model scores for COMPACT predicting MNO\n",
    "y_pred_rf_c2m=rf_compact.predict(X_clusters['mno']['X_test'])\n",
    "_ = ml_util.get_model_scores(X_clusters['mno']['y_test'].astype('uint32'), y_pred_rf_c2m)\n",
    "\n",
    "#ml_util.show_confusion_matrix(X_clusters['mno']['y_test'].astype('uint32'), y_pred_rf_c2m)"
   ]
  },
  {
   "cell_type": "code",
   "execution_count": 68,
   "id": "c5b2c427-524e-41a2-b82b-e758d311c9e3",
   "metadata": {},
   "outputs": [
    {
     "name": "stdout",
     "output_type": "stream",
     "text": [
      "           accuracy_score\t0.8066666666666666\n",
      "  balanced_accuracy_score\t0.43697183098591547\n",
      "                 f1_score\t0.4459098278052842\n",
      "          precision_score\t0.5108024691358025\n",
      "             recall_score\t0.43697183098591547\n",
      "       mean_squared_error\t0.56\n"
     ]
    },
    {
     "data": {
      "image/png": "[encoded data removed]",
      "text/plain": [
       "<Figure size 640x480 with 2 Axes>"
      ]
     },
     "metadata": {},
     "output_type": "display_data"
    }
   ],
   "source": [
    "# Determine model scores for MNO predicting COMPACTS\n",
    "y_pred_rf_m2c=rf_mno.predict(X_clusters['compact']['X_test'])\n",
    "_ = ml_util.get_model_scores(X_clusters['compact']['y_test'].astype('uint32'), y_pred_rf_m2c)\n",
    "\n",
    "ml_util.show_confusion_matrix(X_clusters['compact']['y_test'].astype('uint32'), y_pred_rf_m2c)"
   ]
  },
  {
   "cell_type": "markdown",
   "id": "6a41b421-ea68-434f-8c83-e051c973955a",
   "metadata": {},
   "source": [
    "**Discussion**\n",
    "\n",
    "What we can see from this last comparison of `compact` predicting `mno` clusters, and `mno` predicting `compact` clusters is that models trained for `compact` clusters are excellent predictors with ~2% difference from when trained with the full dataset combining both types of clusters. Unfortunately, the model trained with the `mno` cluster, while having a good accuracy, the F1-scores and the mean squared error indicate the model does not perform well."
   ]
  },
  {
   "cell_type": "markdown",
   "id": "4fa3015b-0fd2-4a57-b693-72f8d818f8bc",
   "metadata": {},
   "source": [
    "## Section 3: Analysis"
   ]
  },
  {
   "cell_type": "markdown",
   "id": "dfc8ab47-574d-402d-ad02-fa8efc4b771a",
   "metadata": {},
   "source": [
    "When started working on testing the hypothesis that it is possible to create machine learning (ML) models for cluster characteristics and attributes that the cluster(s) being used to train the model and still maintain a high level of accuracy on those predictions.\n",
    "\n",
    "The type of features selected and the encoding of the data in three types the preparation of the datasets might have played a significant role in achieving this level of accuracy.\n",
    "\n",
    "The construction of boolean features representing ranges instead of taking the actual number as a value of the feature and the use of percentages to represent relationships or ratios of attributes of the nodes allows for an abstraction of the specifics of the cluster characteristics into some \"universal\" constructs that a machine learning model can use for to detect the patterns across distinct systems.\n",
    "\n",
    "Combining captures from multi-node clusters, which have unique attributes compared to compact clusters and vice versa, created \"phantom\" attributes in the other cluster type. Those \"phantom\" attributes became a boolean False, quantity, or percentage of zero.\n",
    "\n",
    "The model scores demonstrate that an ML model for AIOps can be created to be portable across diverse hardware and cluster types. We also see how the `LogisticRegression` and `RandomForest` maintain very good accuracy scores even when making cross-cluster predictions. From section 2.2 we can see that unsupervised algorithms like `KMeans` are **NOT** suitable for this purpose. (At least when using the encoding techniques used by this project). This will partly be because `KMeans` is an algorithm to create groupings, but it does not know what those groups represent, which is required for this particular use case.\n",
    "\n",
    "From section 2.1 we can see that feature scaling techniques significantly impact the accuracy of the `LogisticRegression` model but had no statistical significance in the other models and their permutations.\n",
    "\n",
    "Of the three ML algorithms evaluated, `LogisticRegression` is the one that maintained a high level of accuracy for mixed datasets. Regarding the ML model portability across distinct cluster types, the ML trained with the compact model works well for the mno model, but the inverse is not the same. The model trained with MNO cluster does not predict a compact cluster well. The mean squared error and the F1-scores tell us the model is not good for this purpose. A potential optimization for this is adjusting the hyperparameters.\n",
    "\n",
    "The representation of the classes is not balanced, which might affect some of the algorithms more than others. Studying the situation further, a possible option would be undersampling of the red and green classes to achieve a more balanced dataset. This will be follow-up work exploring the use of the `BalancedRandomForestClassifier` algorithm on the [imbalanced-learn.org](https://imbalanced-learn.org/stable/references/generated/imblearn.ensemble.BalancedRandomForestClassifier.html) library. \n",
    "\n",
    "Follow-up work:\n",
    "- Run analysis and experiments using the `BalancedRandomForestClassifier`\n",
    "- Creating per-role node permutations to decouple the node position (e.g., node1, node2, node3) from the identified patterns.\n",
    "- Complete the work for the `magic split` to accommodate clusters of any size."
   ]
  },
  {
   "cell_type": "markdown",
   "id": "726d5283-5976-4f86-b07a-2c78bef045d9",
   "metadata": {},
   "source": [
    "---"
   ]
  },
  {
   "cell_type": "markdown",
   "id": "64a9e14b-e74a-4422-afc9-377ae4e15469",
   "metadata": {},
   "source": [
    "&copy; 2023 by [William Caban](https://www.linkedin.com/in/williamcaban/) licensed under [CC BY-SA 4.0](http://creativecommons.org/licenses/by-sa/4.0/?ref=chooser-v1)<img style=\"height:22px!important;margin-left:3px;vertical-align:text-bottom;\" src=\"https://mirrors.creativecommons.org/presskit/icons/cc.svg?ref=chooser-v1\"><img style=\"height:22px!important;margin-left:3px;vertical-align:text-bottom;\" src=\"https://mirrors.creativecommons.org/presskit/icons/by.svg?ref=chooser-v1\"><img style=\"height:22px!important;margin-left:3px;vertical-align:text-bottom;\" src=\"https://mirrors.creativecommons.org/presskit/icons/sa.svg?ref=chooser-v1\"></a>"
   ]
  }
 ],
 "metadata": {
  "kernelspec": {
   "display_name": "Python 3 (ipykernel)",
   "language": "python",
   "name": "python3"
  },
  "language_info": {
   "codemirror_mode": {
    "name": "ipython",
    "version": 3
   },
   "file_extension": ".py",
   "mimetype": "text/x-python",
   "name": "python",
   "nbconvert_exporter": "python",
   "pygments_lexer": "ipython3",
   "version": "3.11.4"
  }
 },
 "nbformat": 4,
 "nbformat_minor": 5
}
